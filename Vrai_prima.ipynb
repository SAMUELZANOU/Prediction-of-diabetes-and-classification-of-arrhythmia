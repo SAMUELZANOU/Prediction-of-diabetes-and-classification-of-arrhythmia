{
  "nbformat": 4,
  "nbformat_minor": 0,
  "metadata": {
    "colab": {
      "provenance": []
    },
    "kernelspec": {
      "name": "python3",
      "display_name": "Python 3"
    },
    "language_info": {
      "name": "python"
    },
    "widgets": {
      "application/vnd.jupyter.widget-state+json": {
        "04d52f7041ee4fa1b4f7eb3c85ac634f": {
          "model_module": "@jupyter-widgets/controls",
          "model_name": "VBoxModel",
          "model_module_version": "1.5.0",
          "state": {
            "_dom_classes": [
              "widget-interact"
            ],
            "_model_module": "@jupyter-widgets/controls",
            "_model_module_version": "1.5.0",
            "_model_name": "VBoxModel",
            "_view_count": null,
            "_view_module": "@jupyter-widgets/controls",
            "_view_module_version": "1.5.0",
            "_view_name": "VBoxView",
            "box_style": "",
            "children": [
              "IPY_MODEL_6d9620bf853f4a518bbfe08663b5487a",
              "IPY_MODEL_73e3badaee384ae987d52738c4e24b59"
            ],
            "layout": "IPY_MODEL_f70cf09d4c474c4ebba19f049be62c2b"
          }
        },
        "6d9620bf853f4a518bbfe08663b5487a": {
          "model_module": "@jupyter-widgets/controls",
          "model_name": "DropdownModel",
          "model_module_version": "1.5.0",
          "state": {
            "_dom_classes": [],
            "_model_module": "@jupyter-widgets/controls",
            "_model_module_version": "1.5.0",
            "_model_name": "DropdownModel",
            "_options_labels": [
              "Outcome"
            ],
            "_view_count": null,
            "_view_module": "@jupyter-widgets/controls",
            "_view_module_version": "1.5.0",
            "_view_name": "DropdownView",
            "description": "v",
            "description_tooltip": null,
            "disabled": false,
            "index": 0,
            "layout": "IPY_MODEL_92ae89cff71a49289fdf72d4120ff5f6",
            "style": "IPY_MODEL_ab3c4081c9ed41a999eca006f7f18772"
          }
        },
        "73e3badaee384ae987d52738c4e24b59": {
          "model_module": "@jupyter-widgets/output",
          "model_name": "OutputModel",
          "model_module_version": "1.0.0",
          "state": {
            "_dom_classes": [],
            "_model_module": "@jupyter-widgets/output",
            "_model_module_version": "1.0.0",
            "_model_name": "OutputModel",
            "_view_count": null,
            "_view_module": "@jupyter-widgets/output",
            "_view_module_version": "1.0.0",
            "_view_name": "OutputView",
            "layout": "IPY_MODEL_b3a0a54c1b4f464b986c7ee5791c28ed",
            "msg_id": "",
            "outputs": [
              {
                "output_type": "display_data",
                "data": {
                  "text/plain": "<Figure size 640x480 with 1 Axes>",
                  "image/png": "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\n"
                },
                "metadata": {}
              }
            ]
          }
        },
        "f70cf09d4c474c4ebba19f049be62c2b": {
          "model_module": "@jupyter-widgets/base",
          "model_name": "LayoutModel",
          "model_module_version": "1.2.0",
          "state": {
            "_model_module": "@jupyter-widgets/base",
            "_model_module_version": "1.2.0",
            "_model_name": "LayoutModel",
            "_view_count": null,
            "_view_module": "@jupyter-widgets/base",
            "_view_module_version": "1.2.0",
            "_view_name": "LayoutView",
            "align_content": null,
            "align_items": null,
            "align_self": null,
            "border": null,
            "bottom": null,
            "display": null,
            "flex": null,
            "flex_flow": null,
            "grid_area": null,
            "grid_auto_columns": null,
            "grid_auto_flow": null,
            "grid_auto_rows": null,
            "grid_column": null,
            "grid_gap": null,
            "grid_row": null,
            "grid_template_areas": null,
            "grid_template_columns": null,
            "grid_template_rows": null,
            "height": null,
            "justify_content": null,
            "justify_items": null,
            "left": null,
            "margin": null,
            "max_height": null,
            "max_width": null,
            "min_height": null,
            "min_width": null,
            "object_fit": null,
            "object_position": null,
            "order": null,
            "overflow": null,
            "overflow_x": null,
            "overflow_y": null,
            "padding": null,
            "right": null,
            "top": null,
            "visibility": null,
            "width": null
          }
        },
        "92ae89cff71a49289fdf72d4120ff5f6": {
          "model_module": "@jupyter-widgets/base",
          "model_name": "LayoutModel",
          "model_module_version": "1.2.0",
          "state": {
            "_model_module": "@jupyter-widgets/base",
            "_model_module_version": "1.2.0",
            "_model_name": "LayoutModel",
            "_view_count": null,
            "_view_module": "@jupyter-widgets/base",
            "_view_module_version": "1.2.0",
            "_view_name": "LayoutView",
            "align_content": null,
            "align_items": null,
            "align_self": null,
            "border": null,
            "bottom": null,
            "display": null,
            "flex": null,
            "flex_flow": null,
            "grid_area": null,
            "grid_auto_columns": null,
            "grid_auto_flow": null,
            "grid_auto_rows": null,
            "grid_column": null,
            "grid_gap": null,
            "grid_row": null,
            "grid_template_areas": null,
            "grid_template_columns": null,
            "grid_template_rows": null,
            "height": null,
            "justify_content": null,
            "justify_items": null,
            "left": null,
            "margin": null,
            "max_height": null,
            "max_width": null,
            "min_height": null,
            "min_width": null,
            "object_fit": null,
            "object_position": null,
            "order": null,
            "overflow": null,
            "overflow_x": null,
            "overflow_y": null,
            "padding": null,
            "right": null,
            "top": null,
            "visibility": null,
            "width": null
          }
        },
        "ab3c4081c9ed41a999eca006f7f18772": {
          "model_module": "@jupyter-widgets/controls",
          "model_name": "DescriptionStyleModel",
          "model_module_version": "1.5.0",
          "state": {
            "_model_module": "@jupyter-widgets/controls",
            "_model_module_version": "1.5.0",
            "_model_name": "DescriptionStyleModel",
            "_view_count": null,
            "_view_module": "@jupyter-widgets/base",
            "_view_module_version": "1.2.0",
            "_view_name": "StyleView",
            "description_width": ""
          }
        },
        "b3a0a54c1b4f464b986c7ee5791c28ed": {
          "model_module": "@jupyter-widgets/base",
          "model_name": "LayoutModel",
          "model_module_version": "1.2.0",
          "state": {
            "_model_module": "@jupyter-widgets/base",
            "_model_module_version": "1.2.0",
            "_model_name": "LayoutModel",
            "_view_count": null,
            "_view_module": "@jupyter-widgets/base",
            "_view_module_version": "1.2.0",
            "_view_name": "LayoutView",
            "align_content": null,
            "align_items": null,
            "align_self": null,
            "border": null,
            "bottom": null,
            "display": null,
            "flex": null,
            "flex_flow": null,
            "grid_area": null,
            "grid_auto_columns": null,
            "grid_auto_flow": null,
            "grid_auto_rows": null,
            "grid_column": null,
            "grid_gap": null,
            "grid_row": null,
            "grid_template_areas": null,
            "grid_template_columns": null,
            "grid_template_rows": null,
            "height": null,
            "justify_content": null,
            "justify_items": null,
            "left": null,
            "margin": null,
            "max_height": null,
            "max_width": null,
            "min_height": null,
            "min_width": null,
            "object_fit": null,
            "object_position": null,
            "order": null,
            "overflow": null,
            "overflow_x": null,
            "overflow_y": null,
            "padding": null,
            "right": null,
            "top": null,
            "visibility": null,
            "width": null
          }
        },
        "09cafb2d3e9f4e2ca2acc2e9765dd8f5": {
          "model_module": "@jupyter-widgets/controls",
          "model_name": "VBoxModel",
          "model_module_version": "1.5.0",
          "state": {
            "_dom_classes": [
              "widget-interact"
            ],
            "_model_module": "@jupyter-widgets/controls",
            "_model_module_version": "1.5.0",
            "_model_name": "VBoxModel",
            "_view_count": null,
            "_view_module": "@jupyter-widgets/controls",
            "_view_module_version": "1.5.0",
            "_view_name": "VBoxView",
            "box_style": "",
            "children": [
              "IPY_MODEL_c7143506c68540c98126da5dc1356d79",
              "IPY_MODEL_4089546dd58d4333b343adbd04529dcd"
            ],
            "layout": "IPY_MODEL_470c48a06d6b421eabef5efe85043733"
          }
        },
        "c7143506c68540c98126da5dc1356d79": {
          "model_module": "@jupyter-widgets/controls",
          "model_name": "DropdownModel",
          "model_module_version": "1.5.0",
          "state": {
            "_dom_classes": [],
            "_model_module": "@jupyter-widgets/controls",
            "_model_module_version": "1.5.0",
            "_model_name": "DropdownModel",
            "_options_labels": [
              "Pregnancies",
              "Glucose",
              "BloodPressure",
              "SkinThickness",
              "Insulin",
              "BMI",
              "Age",
              "Outcome"
            ],
            "_view_count": null,
            "_view_module": "@jupyter-widgets/controls",
            "_view_module_version": "1.5.0",
            "_view_name": "DropdownView",
            "description": "v",
            "description_tooltip": null,
            "disabled": false,
            "index": 0,
            "layout": "IPY_MODEL_5f4fa8a476644c21abef7e108ba88f19",
            "style": "IPY_MODEL_a1ba295dce794a038783388af09f459c"
          }
        },
        "4089546dd58d4333b343adbd04529dcd": {
          "model_module": "@jupyter-widgets/output",
          "model_name": "OutputModel",
          "model_module_version": "1.0.0",
          "state": {
            "_dom_classes": [],
            "_model_module": "@jupyter-widgets/output",
            "_model_module_version": "1.0.0",
            "_model_name": "OutputModel",
            "_view_count": null,
            "_view_module": "@jupyter-widgets/output",
            "_view_module_version": "1.0.0",
            "_view_name": "OutputView",
            "layout": "IPY_MODEL_bc2987339a864587bd70d7ff21caeff0",
            "msg_id": "",
            "outputs": [
              {
                "output_type": "stream",
                "name": "stderr",
                "text": [
                  "<ipython-input-13-3e53909e4dac>:2: UserWarning: \n",
                  "\n",
                  "`distplot` is a deprecated function and will be removed in seaborn v0.14.0.\n",
                  "\n",
                  "Please adapt your code to use either `displot` (a figure-level function with\n",
                  "similar flexibility) or `histplot` (an axes-level function for histograms).\n",
                  "\n",
                  "For a guide to updating your code to use the new functions, please see\n",
                  "https://gist.github.com/mwaskom/de44147ed2974457ad6372750bbe5751\n",
                  "\n",
                  "  sns.distplot(prima[v], kde=False)\n"
                ]
              },
              {
                "output_type": "display_data",
                "data": {
                  "text/plain": "<Figure size 640x480 with 1 Axes>",
                  "image/png": "iVBORw0KGgoAAAANSUhEUgAAAi4AAAHHCAYAAACY6dMIAAAAOXRFWHRTb2Z0d2FyZQBNYXRwbG90bGliIHZlcnNpb24zLjcuMSwgaHR0cHM6Ly9tYXRwbG90bGliLm9yZy/bCgiHAAAACXBIWXMAAA9hAAAPYQGoP6dpAAA3bElEQVR4nO3deVxVdeL/8fcFFRRZQoUribgbKi6ZEmmm6Yhb6miZ5Rg4ljMOaI5aRpMpZlG2aDmm9q2wTEud35hluZBrC1q5jEvlqOGWAooBLiOynN8fPrgzVxZFWfrA6/l4nIeccz7ncz7nw7mXt2e1WZZlCQAAwAAuFd0AAACA60VwAQAAxiC4AAAAYxBcAACAMQguAADAGAQXAABgDIILAAAwBsEFAAAYg+ACAACMQXABSqBRo0aKjIys6GZUei+//LKaNGkiV1dXtW/fvqKbY6zp06fLZrNVdDOAUkVwQZW1aNEi2Ww2ff/994XO7969u9q0aXPT6/n88881ffr0m66nqli/fr2efPJJdenSRfHx8XrhhRckXQmNNpvNMfj5+enuu+/WypUrK7jFAMpTtYpuAGCSAwcOyMWlZHn/888/17x58wgv12njxo1ycXHRO++8oxo1ajjNa9++vSZNmiRJOnnypBYuXKghQ4Zo/vz5+vOf/1wRzf1Ne+aZZ/TUU09VdDOAUkVwAUrAzc2toptQYhcuXJCHh0dFN+O6paamqmbNmgVCiyTdeuut+sMf/uAYf+SRR9SsWTPNnj27yOCSk5OjvLy8Quur7KpVq6Zq1fiaR+XCqSKgBK6+xiU7O1uxsbFq3ry53N3dVadOHXXt2lUJCQmSpMjISM2bN0+SnE5z5Ltw4YImTZqkwMBAubm5qWXLlnrllVd09Uvb//Of/2j8+PGqW7euPD09NXDgQP3yyy+y2WxOR3Lyr2n44Ycf9PDDD+uWW25R165dJUl79uxRZGSkmjRpInd3d9ntdv3xj39UWlqa07ry6/j3v/+tP/zhD/L29la9evU0depUWZal48ePa9CgQfLy8pLdbterr756XX2Xk5Oj5557Tk2bNpWbm5saNWqkp59+WllZWY4yNptN8fHxunDhgqOvFi1aVGSddrtdwcHBSkpKkiQdOXJENptNr7zyiubMmeNY1w8//CBJ+umnn3T//ffL19dX7u7uuuOOO/TJJ58UqHfPnj265557VLNmTTVo0EAzZ85UfHy8bDabjhw54ijXqFEjDRgwQF999ZU6d+4sd3d3NWnSRO+//75TfWfPntXkyZMVEhKi2rVry8vLS3379tW//vUvp3KbN2+WzWbT8uXL9fzzz6tBgwZyd3dXz549dejQoQLt3L59u/r166dbbrlFHh4eatu2rV5//XXH/KKucfnggw/UsWNH1axZU76+vho+fLiOHz/uVObgwYMaOnSo7Ha73N3d1aBBAw0fPlwZGRlF/j6A8kAUR5WXkZGhM2fOFJienZ19zWWnT5+uuLg4Pfroo+rcubMyMzP1/fffa+fOnfrd736nP/3pTzp58qQSEhK0ePFip2Uty9LAgQO1adMmjR49Wu3bt9e6dev0xBNP6JdfftHs2bMdZSMjI7V8+XKNHDlSd955p7Zs2aL+/fsX2a4HHnhAzZs31wsvvOAIQQkJCfr55581atQo2e127d+/X2+99Zb279+vbdu2FfgD9+CDDyo4OFgvvviiPvvsM82cOVO+vr5auHCh7r33Xr300ktasmSJJk+erE6dOqlbt27F9tWjjz6q9957T/fff78mTZqk7du3Ky4uTj/++KPjOpXFixfrrbfe0rfffqu3335bknTXXXcVWWd2draOHz+uOnXqOE2Pj4/XpUuXNGbMGLm5ucnX11f79+9Xly5ddOutt+qpp56Sh4eHli9frsGDB+v//b//p9///veSpF9++UU9evSQzWZTTEyMPDw89Pbbbxd5tO3QoUO6//77NXr0aEVEROjdd99VZGSkOnbsqNatW0uSfv75Z3388cd64IEH1LhxY6WkpGjhwoW655579MMPPyggIMCpzhdffFEuLi6aPHmyMjIyNGvWLI0YMULbt293lElISNCAAQNUv359Pf7447Lb7frxxx+1evVqPf7440X22fPPP6+pU6dq2LBhevTRR3X69GnNnTtX3bp1065du+Tj46PLly8rPDxcWVlZGjdunOx2u3755RetXr1a6enp8vb2LrJ+oMxZQBUVHx9vSSp2aN26tdMyQUFBVkREhGO8Xbt2Vv/+/YtdT1RUlFXYR+3jjz+2JFkzZ850mn7//fdbNpvNOnTokGVZlrVjxw5LkjVhwgSncpGRkZYka9q0aY5p06ZNsyRZDz30UIH1Xbx4scC0Dz/80JJkbd26tUAdY8aMcUzLycmxGjRoYNlsNuvFF190TP/111+tmjVrOvVJYXbv3m1Jsh599FGn6ZMnT7YkWRs3bnRMi4iIsDw8PArUERQUZPXu3ds6ffq0dfr0aetf//qXNXz4cEuSNW7cOMuyLCspKcmSZHl5eVmpqalOy/fs2dMKCQmxLl265JiWl5dn3XXXXVbz5s0d08aNG2fZbDZr165djmlpaWmWr6+vJclKSkpyatPV/Zeammq5ublZkyZNcky7dOmSlZub69SepKQky83NzZoxY4Zj2qZNmyxJVnBwsJWVleWY/vrrr1uSrL1791qWdeX30bhxYysoKMj69ddfnerNy8tz/Jz/u8x35MgRy9XV1Xr++eedltm7d69VrVo1x/Rdu3ZZkqwVK1ZYwG8Np4pQ5c2bN08JCQkFhrZt215zWR8fH+3fv18HDx4s8Xo///xzubq6avz48U7TJ02aJMuytGbNGknS2rVrJUl/+ctfnMqNGzeuyLoLu96jZs2ajp8vXbqkM2fO6M4775Qk7dy5s0D5Rx991PGzq6ur7rjjDlmWpdGjRzum+/j4qGXLlvr555+LbIt0ZVslaeLEiU7T8y+0/eyzz4pdPt/69etVr1491atXT+3atdOKFSs0cuRIvfTSS07lhg4dqnr16jnGz549q40bN2rYsGE6d+6czpw5ozNnzigtLU3h4eE6ePCgfvnlF0lX+jssLMzpNmxfX1+NGDGi0Da1atVKd999t2O8Xr16BfrEzc3NcVF3bm6u0tLSVLt2bbVs2bLQvh81apTTNTn59efXuWvXLiUlJWnChAny8fFxWra425//+c9/Ki8vT8OGDXP0wZkzZ2S329W8eXNt2rRJkhxHVNatW6eLFy8WWR9QEThVhCqvc+fOuuOOOwpMv+WWWwo9hfS/ZsyYoUGDBqlFixZq06aN+vTpo5EjR15X6Dl69KgCAgLk6enpND04ONgxP/9fFxcXNW7c2Klcs2bNiqz76rLSlT/esbGx+uijj5Samuo0r7DrFho2bOg07u3tLXd3d9WtW7fA9Kuvk7la/jZc3Wa73S4fHx/Htl5LaGioZs6cKZvNplq1aik4OLjAH26p4PYfOnRIlmVp6tSpmjp1aqF1p6am6tZbb9XRo0cVFhZWYH5R/X11P0lX9p1ff/3VMZ6Xl6fXX39db775ppKSkpSbm+uYd/VprsLqvOWWWyTJUefhw4clqcS36x88eFCWZal58+aFzq9evbqkK/03ceJEvfbaa1qyZInuvvtuDRw40HHNE1CRCC7ATejWrZsOHz6sVatWaf369Xr77bc1e/ZsLViwwOmIRXn736Mr+YYNG6ZvvvlGTzzxhNq3b6/atWsrLy9Pffr0UV5eXoHyrq6u1zVNUoGLiYtysw9Dq1u3rnr16nXNcldvf/72TZ48WeHh4YUuU1wQLM719MkLL7ygqVOn6o9//KOee+45+fr6ysXFRRMmTLjuvr+6zhuRl5cnm82mNWvWFLqO2rVrO35+9dVXFRkZ6di3x48fr7i4OG3btk0NGjS4qXYAN4PgAtwkX19fjRo1SqNGjdL58+fVrVs3TZ8+3RFcivpjHRQUpC+++ELnzp1zOury008/Oebn/5uXl6ekpCSn/ykXdpdJUX799Vdt2LBBsbGxevbZZx3Tb+QU143I34aDBw86jihJUkpKitLT0x3bWlaaNGki6coRhWsFn6CgoEL7tiT9fbV//OMf6tGjh9555x2n6enp6QWOYF2Ppk2bSpL27dt3XUHuf5ezLEuNGzdWixYtrlk+JCREISEheuaZZ/TNN9+oS5cuWrBggWbOnFniNgOlhWtcgJtw9SmS2rVrq1mzZk63+OY/QyU9Pd2pbL9+/ZSbm6u///3vTtNnz54tm82mvn37SpLjCMGbb77pVG7u3LnX3c78/11f/T/2OXPmXHcdN6Nfv36Fru+1116TpGLvkCoNfn5+6t69uxYuXKhTp04VmH/69GnHz+Hh4UpMTNTu3bsd086ePaslS5bc8PpdXV0L9P2KFSsc19WU1O23367GjRtrzpw5Bfar4o7KDBkyRK6uroqNjS1QzrIsx/6cmZmpnJwcp/khISFycXFx2reBisARF+AmtGrVSt27d1fHjh3l6+ur77//Xv/4xz8UHR3tKNOxY0dJ0vjx4xUeHi5XV1cNHz5c9913n3r06KG//e1vOnLkiNq1a6f169dr1apVmjBhguN/1R07dtTQoUM1Z84cpaWlOW6H/ve//y3p+k6/eHl5qVu3bpo1a5ays7N16623av369Y7nn5S1du3aKSIiQm+99ZbS09N1zz336Ntvv9V7772nwYMHq0ePHmXehnnz5qlr164KCQnRY489piZNmiglJUWJiYk6ceKE45kqTz75pD744AP97ne/07hx4xy3Qzds2FBnz569odNdAwYM0IwZMzRq1Cjddddd2rt3r5YsWeI4ElRSLi4umj9/vu677z61b99eo0aNUv369fXTTz9p//79WrduXaHLNW3aVDNnzlRMTIyOHDmiwYMHy9PTU0lJSVq5cqXGjBmjyZMna+PGjYqOjtYDDzygFi1aKCcnR4sXL5arq6uGDh16Q20GSgvBBbgJ48eP1yeffKL169crKytLQUFBmjlzpp544glHmSFDhmjcuHH66KOP9MEHH8iyLA0fPlwuLi765JNP9Oyzz2rZsmWKj49Xo0aN9PLLLzvutsn3/vvvy26368MPP9TKlSvVq1cvLVu2TC1btpS7u/t1tXXp0qUaN26c5s2bJ8uy1Lt3b61Zs6bAM0TKyttvv60mTZpo0aJFWrlypex2u2JiYjRt2rRyWX+rVq30/fffKzY2VosWLVJaWpr8/PzUoUMHp9NngYGB2rRpk8aPH68XXnhB9erVU1RUlDw8PDR+/Pjr7u//9fTTT+vChQtaunSpli1bpttvv12fffbZTT2OPzw8XJs2bVJsbKxeffVV5eXlqWnTpnrssceKXe6pp55SixYtNHv2bMXGxkq6ss29e/fWwIEDJV0JmuHh4fr000/1yy+/qFatWmrXrp3WrFnjuBMNqCg262av9gJQIXbv3q0OHTrogw8+KPJWXZSeCRMmaOHChTp//nyRF88CKHtc4wIY4D//+U+BaXPmzJGLi8s1n1iLkru6v9PS0rR48WJ17dqV0AJUME4VAQaYNWuWduzYoR49eqhatWpas2aN1qxZozFjxigwMLCim1fphIWFqXv37goODlZKSoreeecdZWZmFvkMGADlh1NFgAESEhIUGxurH374QefPn1fDhg01cuRI/e1vf+Ptv2Xg6aef1j/+8Q+dOHFCNptNt99+u6ZNm1aiW48BlA2CCwAAMAbXuAAAAGMQXAAAgDGMPDmel5enkydPytPT86bffQIAAMqHZVk6d+6cAgICHG9MLykjg8vJkye5kwIAAEMdP378hl/WaWRwyX8h3fHjx+Xl5VXBrQEAANcjMzNTgYGBTi+WLSkjg0v+6SEvLy+CCwAAhrmZyzy4OBcAABiD4AIAAIxBcAEAAMYguAAAAGMQXAAAgDFKFFzi4uLUqVMneXp6ys/PT4MHD9aBAwecynTv3l02m81p+POf/+xU5tixY+rfv79q1aolPz8/PfHEE8rJybn5rQEAAJVaiW6H3rJli6KiotSpUyfl5OTo6aefVu/evfXDDz/Iw8PDUe6xxx7TjBkzHOO1atVy/Jybm6v+/fvLbrfrm2++0alTp/TII4+oevXqeuGFF0phkwAAQGV1U2+HPn36tPz8/LRlyxZ169ZN0pUjLu3bt9ecOXMKXWbNmjUaMGCATp48KX9/f0nSggULNGXKFJ0+fVo1atS45nozMzPl7e2tjIwMnuMCAIAhSuPv901d45KRkSFJ8vX1dZq+ZMkS1a1bV23atFFMTIwuXrzomJeYmKiQkBBHaJGk8PBwZWZmav/+/YWuJysrS5mZmU4DAACoem74ybl5eXmaMGGCunTpojZt2jimP/zwwwoKClJAQID27NmjKVOm6MCBA/rnP/8pSUpOTnYKLZIc48nJyYWuKy4uTrGxsTfaVAAAUEnccHCJiorSvn379NVXXzlNHzNmjOPnkJAQ1a9fXz179tThw4fVtGnTG1pXTEyMJk6c6BjPf9cBAACoWm7oVFF0dLRWr16tTZs2XfPtjqGhoZKkQ4cOSZLsdrtSUlKcyuSP2+32Qutwc3NzvJeI9xMBAFB1lSi4WJal6OhorVy5Uhs3blTjxo2vuczu3bslSfXr15ckhYWFae/evUpNTXWUSUhIkJeXl1q1alWS5gAAgCqmRKeKoqKitHTpUq1atUqenp6Oa1K8vb1Vs2ZNHT58WEuXLlW/fv1Up04d7dmzR3/961/VrVs3tW3bVpLUu3dvtWrVSiNHjtSsWbOUnJysZ555RlFRUXJzcyv9LQQAAJVGiW6HLuo11PHx8YqMjNTx48f1hz/8Qfv27dOFCxcUGBio3//+93rmmWecTu8cPXpUY8eO1ebNm+Xh4aGIiAi9+OKLqlbt+nIUt0MDAGCe0vj7fVPPcakoZR1clm4/Vup1Fufh0Ibluj4AACpChT/HBQAAoDwRXAAAgDEILgAAwBgEFwAAYAyCCwAAMAbBBQAAGIPgAgAAjEFwAQAAxiC4AAAAYxBcAACAMQguAADAGAQXAABgDIILAAAwBsEFAAAYg+ACAACMQXABAADGILgAAABjEFwAAIAxCC4AAMAYBBcAAGAMggsAADAGwQUAABiD4AIAAIxBcAEAAMYguAAAAGMQXAAAgDEILgAAwBgEFwAAYAyCCwAAMAbBBQAAGIPgAgAAjEFwAQAAxiC4AAAAYxBcAACAMQguAADAGAQXAABgDIILAAAwBsEFAAAYg+ACAACMQXABAADGILgAAABjEFwAAIAxCC4AAMAYBBcAAGAMggsAADAGwQUAABiD4AIAAIxBcAEAAMYguAAAAGMQXAAAgDEILgAAwBgEFwAAYAyCCwAAMAbBBQAAGIPgAgAAjEFwAQAAxiC4AAAAYxBcAACAMQguAADAGAQXAABgjBIFl7i4OHXq1Emenp7y8/PT4MGDdeDAAacyly5dUlRUlOrUqaPatWtr6NChSklJcSpz7Ngx9e/fX7Vq1ZKfn5+eeOIJ5eTk3PzWAACASq1EwWXLli2KiorStm3blJCQoOzsbPXu3VsXLlxwlPnrX/+qTz/9VCtWrNCWLVt08uRJDRkyxDE/NzdX/fv31+XLl/XNN9/ovffe06JFi/Tss8+W3lYBAIBKyWZZlnWjC58+fVp+fn7asmWLunXrpoyMDNWrV09Lly7V/fffL0n66aefFBwcrMTERN15551as2aNBgwYoJMnT8rf31+StGDBAk2ZMkWnT59WjRo1rrnezMxMeXt7KyMjQ15eXjfa/CIt3X6s1OsszsOhDct1fQAAVITS+Pt9U9e4ZGRkSJJ8fX0lSTt27FB2drZ69erlKHPbbbepYcOGSkxMlCQlJiYqJCTEEVokKTw8XJmZmdq/f//NNAcAAFRy1W50wby8PE2YMEFdunRRmzZtJEnJycmqUaOGfHx8nMr6+/srOTnZUeZ/Q0v+/Px5hcnKylJWVpZjPDMz80abDQAADHbDR1yioqK0b98+ffTRR6XZnkLFxcXJ29vbMQQGBpb5OgEAwG/PDQWX6OhorV69Wps2bVKDBg0c0+12uy5fvqz09HSn8ikpKbLb7Y4yV99llD+eX+ZqMTExysjIcAzHjx+/kWYDAADDlSi4WJal6OhorVy5Uhs3blTjxo2d5nfs2FHVq1fXhg0bHNMOHDigY8eOKSwsTJIUFhamvXv3KjU11VEmISFBXl5eatWqVaHrdXNzk5eXl9MAAACqnhJd4xIVFaWlS5dq1apV8vT0dFyT4u3trZo1a8rb21ujR4/WxIkT5evrKy8vL40bN05hYWG68847JUm9e/dWq1atNHLkSM2aNUvJycl65plnFBUVJTc3t9LfQgAAUGmUKLjMnz9fktS9e3en6fHx8YqMjJQkzZ49Wy4uLho6dKiysrIUHh6uN99801HW1dVVq1ev1tixYxUWFiYPDw9FRERoxowZN7clAACg0rup57hUFJ7jAgCAeSr8OS4AAADlieACAACMQXABAADGILgAAABjEFwAAIAxCC4AAMAYBBcAAGAMggsAADAGwQUAABiD4AIAAIxBcAEAAMYguAAAAGMQXAAAgDEILgAAwBgEFwAAYAyCCwAAMAbBBQAAGIPgAgAAjEFwAQAAxiC4AAAAYxBcAACAMQguAADAGAQXAABgDIILAAAwBsEFAAAYg+ACAACMQXABAADGILgAAABjEFwAAIAxCC4AAMAYBBcAAGAMggsAADAGwQUAABiD4AIAAIxBcAEAAMYguAAAAGMQXAAAgDEILgAAwBgEFwAAYAyCCwAAMAbBBQAAGIPgAgAAjEFwAQAAxiC4AAAAYxBcAACAMQguAADAGAQXAABgDIILAAAwBsEFAAAYg+ACAACMQXABAADGILgAAABjEFwAAIAxCC4AAMAYBBcAAGAMggsAADAGwQUAABiD4AIAAIxBcAEAAMYguAAAAGMQXAAAgDFKHFy2bt2q++67TwEBAbLZbPr444+d5kdGRspmszkNffr0cSpz9uxZjRgxQl5eXvLx8dHo0aN1/vz5m9oQAABQ+ZU4uFy4cEHt2rXTvHnziizTp08fnTp1yjF8+OGHTvNHjBih/fv3KyEhQatXr9bWrVs1ZsyYkrceAABUKdVKukDfvn3Vt2/fYsu4ubnJbrcXOu/HH3/U2rVr9d133+mOO+6QJM2dO1f9+vXTK6+8ooCAgJI2CQAAVBFlco3L5s2b5efnp5YtW2rs2LFKS0tzzEtMTJSPj48jtEhSr1695OLiou3btxdaX1ZWljIzM50GAABQ9ZR6cOnTp4/ef/99bdiwQS+99JK2bNmivn37Kjc3V5KUnJwsPz8/p2WqVasmX19fJScnF1pnXFycvL29HUNgYGBpNxsAABigxKeKrmX48OGOn0NCQtS2bVs1bdpUmzdvVs+ePW+ozpiYGE2cONExnpmZSXgBAKAKKvPboZs0aaK6devq0KFDkiS73a7U1FSnMjk5OTp79myR18W4ubnJy8vLaQAAAFVPmQeXEydOKC0tTfXr15ckhYWFKT09XTt27HCU2bhxo/Ly8hQaGlrWzQEAAAYr8ami8+fPO46eSFJSUpJ2794tX19f+fr6KjY2VkOHDpXdbtfhw4f15JNPqlmzZgoPD5ckBQcHq0+fPnrssce0YMECZWdnKzo6WsOHD+eOIgAAUKwSH3H5/vvv1aFDB3Xo0EGSNHHiRHXo0EHPPvusXF1dtWfPHg0cOFAtWrTQ6NGj1bFjR3355Zdyc3Nz1LFkyRLddttt6tmzp/r166euXbvqrbfeKr2tAgAAlZLNsiyrohtRUpmZmfL29lZGRkaZXO+ydPuxUq+zOA+HNizX9QEAUBFK4+837yoCAADGILgAAABjEFwAAIAxCC4AAMAYBBcAAGAMggsAADAGwQUAABiD4AIAAIxBcAEAAMYguAAAAGMQXAAAgDEILgAAwBgEFwAAYAyCCwAAMAbBBQAAGIPgAgAAjEFwAQAAxiC4AAAAYxBcAACAMQguAADAGAQXAABgDIILAAAwBsEFAAAYg+ACAACMQXABAADGILgAAABjEFwAAIAxCC4AAMAYBBcAAGAMggsAADAGwQUAABiD4AIAAIxBcAEAAMYguAAAAGMQXAAAgDEILgAAwBgEFwAAYAyCCwAAMAbBBQAAGIPgAgAAjEFwAQAAxiC4AAAAYxBcAACAMQguAADAGAQXAABgDIILAAAwBsEFAAAYg+ACAACMQXABAADGILgAAABjEFwAAIAxCC4AAMAYBBcAAGAMggsAADAGwQUAABiD4AIAAIxBcAEAAMYguAAAAGMQXAAAgDEILgAAwBjVSrrA1q1b9fLLL2vHjh06deqUVq5cqcGDBzvmW5aladOm6f/+7/+Unp6uLl26aP78+WrevLmjzNmzZzVu3Dh9+umncnFx0dChQ/X666+rdu3apbJRplm6/Vi5ru/h0Ibluj4AAEpLiY+4XLhwQe3atdO8efMKnT9r1iy98cYbWrBggbZv3y4PDw+Fh4fr0qVLjjIjRozQ/v37lZCQoNWrV2vr1q0aM2bMjW8FAACoEmyWZVk3vLDN5nTExbIsBQQEaNKkSZo8ebIkKSMjQ/7+/lq0aJGGDx+uH3/8Ua1atdJ3332nO+64Q5K0du1a9evXTydOnFBAQMA115uZmSlvb29lZGTIy8vrRptfpPI+AlLeOOICAKgIpfH3u1SvcUlKSlJycrJ69erlmObt7a3Q0FAlJiZKkhITE+Xj4+MILZLUq1cvubi4aPv27aXZHAAAUMmU+BqX4iQnJ0uS/P39nab7+/s75iUnJ8vPz8+5EdWqydfX11HmallZWcrKynKMZ2ZmlmazAQCAIYy4qyguLk7e3t6OITAwsKKbBAAAKkCpBhe73S5JSklJcZqekpLimGe325Wamuo0PycnR2fPnnWUuVpMTIwyMjIcw/Hjx0uz2QAAwBClGlwaN24su92uDRs2OKZlZmZq+/btCgsLkySFhYUpPT1dO3bscJTZuHGj8vLyFBoaWmi9bm5u8vLychoAAEDVU+JrXM6fP69Dhw45xpOSkrR79275+vqqYcOGmjBhgmbOnKnmzZurcePGmjp1qgICAhx3HgUHB6tPnz567LHHtGDBAmVnZys6OlrDhw+/rjuKAABA1VXi4PL999+rR48ejvGJEydKkiIiIrRo0SI9+eSTunDhgsaMGaP09HR17dpVa9eulbu7u2OZJUuWKDo6Wj179nQ8gO6NN94ohc0BAACV2U09x6Wi8ByXm8NzXAAAFeE39xwXAACAskRwAQAAxiC4AAAAYxBcAACAMQguAADAGAQXAABgDIILAAAwBsEFAAAYg+ACAACMQXABAADGILgAAABjEFwAAIAxCC4AAMAYBBcAAGAMggsAADAGwQUAABiD4AIAAIxBcAEAAMYguAAAAGMQXAAAgDEILgAAwBgEFwAAYAyCCwAAMAbBBQAAGIPgAgAAjEFwAQAAxiC4AAAAYxBcAACAMQguAADAGNUqugEof0u3HyvX9T0c2rBc1wcAqLw44gIAAIxBcAEAAMYguAAAAGMQXAAAgDEILgAAwBgEFwAAYAyCCwAAMAbBBQAAGIPgAgAAjMGTc1HmeFIvAKC0cMQFAAAYg+ACAACMQXABAADGILgAAABjEFwAAIAxCC4AAMAYBBcAAGAMggsAADAGwQUAABiD4AIAAIxBcAEAAMYguAAAAGMQXAAAgDEILgAAwBgEFwAAYIxqFd0AoLQt3X6s3Nf5cGjDcl8nAFRFHHEBAADGILgAAABjEFwAAIAxCC4AAMAYBBcAAGCMUg8u06dPl81mcxpuu+02x/xLly4pKipKderUUe3atTV06FClpKSUdjMAAEAlVCZHXFq3bq1Tp045hq+++sox769//as+/fRTrVixQlu2bNHJkyc1ZMiQsmgGAACoZMrkOS7VqlWT3W4vMD0jI0PvvPOOli5dqnvvvVeSFB8fr+DgYG3btk133nlnWTQHAABUEmVyxOXgwYMKCAhQkyZNNGLECB07duWBYDt27FB2drZ69erlKHvbbbepYcOGSkxMLLK+rKwsZWZmOg0AAKDqKfUjLqGhoVq0aJFatmypU6dOKTY2Vnfffbf27dun5ORk1ahRQz4+Pk7L+Pv7Kzk5ucg64+LiFBsbW9pNBUpNeT+tlyf1AqiqSj249O3b1/Fz27ZtFRoaqqCgIC1fvlw1a9a8oTpjYmI0ceJEx3hmZqYCAwNvuq0AAMAsZX47tI+Pj1q0aKFDhw7Jbrfr8uXLSk9PdyqTkpJS6DUx+dzc3OTl5eU0AACAqqfMg8v58+d1+PBh1a9fXx07dlT16tW1YcMGx/wDBw7o2LFjCgsLK+umAAAAw5X6qaLJkyfrvvvuU1BQkE6ePKlp06bJ1dVVDz30kLy9vTV69GhNnDhRvr6+8vLy0rhx4xQWFsYdRQAA4JpKPbicOHFCDz30kNLS0lSvXj117dpV27ZtU7169SRJs2fPlouLi4YOHaqsrCyFh4frzTffLO1mAACASshmWZZV0Y0oqczMTHl7eysjI6NMrncp7ztEgJLiriIAJiqNv99l8gA6AGWL268BVFW8ZBEAABiD4AIAAIxBcAEAAMYguAAAAGMQXAAAgDEILgAAwBgEFwAAYAyCCwAAMAbBBQAAGIMn5wK4Jp7UC+C3giMuAADAGAQXAABgDIILAAAwBsEFAAAYg+ACAACMQXABAADGILgAAABjEFwAAIAxCC4AAMAYBBcAAGAMggsAADAGwQUAABiD4AIAAIxBcAEAAMaoVtENAICrLd1+rFzX93Bow3JdH4AbxxEXAABgDIILAAAwBsEFAAAYg+ACAACMwcW5AKo8LgYGzMERFwAAYAyCCwAAMAbBBQAAGIPgAgAAjEFwAQAAxiC4AAAAYxBcAACAMQguAADAGAQXAABgDIILAAAwBsEFAAAYg+ACAACMQXABAADGILgAAABjEFwAAIAxCC4AAMAYBBcAAGAMggsAADBGtYpuAABUNUu3Hyv3dT4c2rDc1wmUBYILAKDUlXc4I5hVHZwqAgAAxuCICwBUARVxegooCxxxAQAAxiC4AAAAYxBcAACAMQguAADAGAQXAABgDIILAAAwBsEFAAAYo0KDy7x589SoUSO5u7srNDRU3377bUU2BwAA/MZVWHBZtmyZJk6cqGnTpmnnzp1q166dwsPDlZqaWlFNAgAAv3E2y7KsilhxaGioOnXqpL///e+SpLy8PAUGBmrcuHF66qmnil02MzNT3t7eysjIkJeXV6m3jSdMAgCKw7uRbkxp/P2ukEf+X758WTt27FBMTIxjmouLi3r16qXExMSKaBIAANetKvwH97caziokuJw5c0a5ubny9/d3mu7v76+ffvqpQPmsrCxlZWU5xjMyMiRdSW5l4eKFc2VSLwAApiiLv7H5dd7MyR4jXrIYFxen2NjYAtMDAwMroDUAAFR+j5Vh3efOnZO3t/cNLVshwaVu3bpydXVVSkqK0/SUlBTZ7fYC5WNiYjRx4kTHeF5ens6ePas6derIZrOVatsyMzMVGBio48ePl8n1M6agH66gH/6LvriCfriCfvgv+uKK6+kHy7J07tw5BQQE3PB6KiS41KhRQx07dtSGDRs0ePBgSVfCyIYNGxQdHV2gvJubm9zc3Jym+fj4lGkbvby8qvQOmI9+uIJ++C/64gr64Qr64b/oiyuu1Q83eqQlX4WdKpo4caIiIiJ0xx13qHPnzpozZ44uXLigUaNGVVSTAADAb1yFBZcHH3xQp0+f1rPPPqvk5GS1b99ea9euLXDBLgAAQL4KvTg3Ojq60FNDFcnNzU3Tpk0rcGqqqqEfrqAf/ou+uIJ+uIJ++C/64ory6ocKewAdAABASfGSRQAAYAyCCwAAMAbBBQAAGIPgAgAAjFElg8u8efPUqFEjubu7KzQ0VN9++22x5VesWKHbbrtN7u7uCgkJ0eeff15OLS0bcXFx6tSpkzw9PeXn56fBgwfrwIEDxS6zaNEi2Ww2p8Hd3b2cWlw2pk+fXmCbbrvttmKXqWz7Qr5GjRoV6AubzaaoqKhCy1eW/WHr1q267777FBAQIJvNpo8//thpvmVZevbZZ1W/fn3VrFlTvXr10sGDB69Zb0m/Yypacf2QnZ2tKVOmKCQkRB4eHgoICNAjjzyikydPFlvnjXy+fguutU9ERkYW2K4+ffpcs97KtE9IKvT7wmaz6eWXXy6yztLaJ6pccFm2bJkmTpyoadOmaefOnWrXrp3Cw8OVmppaaPlvvvlGDz30kEaPHq1du3Zp8ODBGjx4sPbt21fOLS89W7ZsUVRUlLZt26aEhARlZ2erd+/eunDhQrHLeXl56dSpU47h6NGj5dTistO6dWunbfrqq6+KLFsZ94V83333nVM/JCQkSJIeeOCBIpepDPvDhQsX1K5dO82bN6/Q+bNmzdIbb7yhBQsWaPv27fLw8FB4eLguXbpUZJ0l/Y75LSiuHy5evKidO3dq6tSp2rlzp/75z3/qwIEDGjhw4DXrLcnn67fiWvuEJPXp08dpuz788MNi66xs+4Qkp+0/deqU3n33XdlsNg0dOrTYektln7CqmM6dO1tRUVGO8dzcXCsgIMCKi4srtPywYcOs/v37O00LDQ21/vSnP5VpO8tTamqqJcnasmVLkWXi4+Mtb2/v8mtUOZg2bZrVrl276y5fFfaFfI8//rjVtGlTKy8vr9D5lXF/kGStXLnSMZ6Xl2fZ7Xbr5ZdfdkxLT0+33NzcrA8//LDIekr6HfNbc3U/FObbb7+1JFlHjx4tskxJP1+/RYX1RUREhDVo0KAS1VMV9olBgwZZ9957b7FlSmufqFJHXC5fvqwdO3aoV69ejmkuLi7q1auXEhMTC10mMTHRqbwkhYeHF1neRBkZGZIkX1/fYsudP39eQUFBCgwM1KBBg7R///7yaF6ZOnjwoAICAtSkSRONGDFCx44dK7JsVdgXpCufkw8++EB//OMfi32JaWXcH/5XUlKSkpOTnX7n3t7eCg0NLfJ3fiPfMSbKyMiQzWa75jvjSvL5MsnmzZvl5+enli1bauzYsUpLSyuybFXYJ1JSUvTZZ59p9OjR1yxbGvtElQouZ86cUW5uboHXCvj7+ys5ObnQZZKTk0tU3jR5eXmaMGGCunTpojZt2hRZrmXLlnr33Xe1atUqffDBB8rLy9Ndd92lEydOlGNrS1doaKgWLVqktWvXav78+UpKStLdd9+tc+fOFVq+su8L+T7++GOlp6crMjKyyDKVcX+4Wv7vtSS/8xv5jjHNpUuXNGXKFD300EPFvkivpJ8vU/Tp00fvv/++NmzYoJdeeklbtmxR3759lZubW2j5qrBPvPfee/L09NSQIUOKLVda+0SFPvIfFS8qKkr79u275nnGsLAwhYWFOcbvuusuBQcHa+HChXruuefKupllom/fvo6f27Ztq9DQUAUFBWn58uXX9T+Hyuqdd95R3759i33tfGXcH3Bt2dnZGjZsmCzL0vz584stW1k/X8OHD3f8HBISorZt26pp06bavHmzevbsWYEtqzjvvvuuRowYcc0L9Etrn6hSR1zq1q0rV1dXpaSkOE1PSUmR3W4vdBm73V6i8iaJjo7W6tWrtWnTJjVo0KBEy1avXl0dOnTQoUOHyqh15c/Hx0ctWrQocpsq876Q7+jRo/riiy/06KOPlmi5yrg/5P9eS/I7v5HvGFPkh5ajR48qISGh2KMthbnW58tUTZo0Ud26dYvcrsq8T0jSl19+qQMHDpT4O0O68X2iSgWXGjVqqGPHjtqwYYNjWl5enjZs2OD0v8f/FRYW5lRekhISEoosbwLLshQdHa2VK1dq48aNaty4cYnryM3N1d69e1W/fv0yaGHFOH/+vA4fPlzkNlXGfeFq8fHx8vPzU//+/Uu0XGXcHxo3biy73e70O8/MzNT27duL/J3fyHeMCfJDy8GDB/XFF1+oTp06Ja7jWp8vU504cUJpaWlFbldl3SfyvfPOO+rYsaPatWtX4mVveJ+46ct7DfPRRx9Zbm5u1qJFi6wffvjBGjNmjOXj42MlJydblmVZI0eOtJ566ilH+a+//tqqVq2a9corr1g//vijNW3aNKt69erW3r17K2oTbtrYsWMtb29va/PmzdapU6ccw8WLFx1lru6H2NhYa926ddbhw4etHTt2WMOHD7fc3d2t/fv3V8QmlIpJkyZZmzdvtpKSkqyvv/7a6tWrl1W3bl0rNTXVsqyqsS/8r9zcXKthw4bWlClTCsyrrPvDuXPnrF27dlm7du2yJFmvvfaatWvXLsfdMi+++KLl4+NjrVq1ytqzZ481aNAgq3HjxtZ//vMfRx333nuvNXfuXMf4tb5jfouK64fLly9bAwcOtBo0aGDt3r3b6TsjKyvLUcfV/XCtz9dvVXF9ce7cOWvy5MlWYmKilZSUZH3xxRfW7bffbjVv3ty6dOmSo47Kvk/ky8jIsGrVqmXNnz+/0DrKap+ocsHFsixr7ty5VsOGDa0aNWpYnTt3trZt2+aYd88991gRERFO5ZcvX261aNHCqlGjhtW6dWvrs88+K+cWly5JhQ7x8fGOMlf3w4QJExx95u/vb/Xr18/auXNn+Te+FD344INW/fr1rRo1ali33nqr9eCDD1qHDh1yzK8K+8L/WrdunSXJOnDgQIF5lXV/2LRpU6GfhfxtzcvLs6ZOnWr5+/tbbm5uVs+ePQv0T1BQkDVt2jSnacV9x/wWFdcPSUlJRX5nbNq0yVHH1f1wrc/Xb1VxfXHx4kWrd+/eVr169azq1atbQUFB1mOPPVYggFT2fSLfwoULrZo1a1rp6emF1lFW+4TNsiyrxMd3AAAAKkCVusYFAACYjeACAACMQXABAADGILgAAABjEFwAAIAxCC4AAMAYBBcAAGAMgguAKsVms+njjz+u6GYAuEEEF6CKiYyMlM1mk81mU40aNdSsWTPNmDFDOTk5Fd20cnHq1Cmnt9QCMEu1im4AgPLXp08fxcfHKysrS59//rmioqJUvXp1xcTEOJW7fPmyatSoUUGtLBuV4Y28QFXGERegCnJzc5PdbldQUJDGjh2rXr166ZNPPlFkZKQGDx6s559/XgEBAWrZsqUk6fjx4xo2bJh8fHzk6+urQYMG6ciRI476cnJyNH78ePn4+KhOnTqaMmWKIiIiNHjwYEeZ7t27a/z48XryySfl6+sru92u6dOnO7XrtddeU0hIiDw8PBQYGKi//OUvOn/+vGP+okWL5OPjo3Xr1ik4OFi1a9dWnz59dOrUKad63n33XbVu3Vpubm6qX7++oqOjHfOuPlV0rW3bvHmzOnfuLA8PD/n4+KhLly46evTojXc+gJtCcAGgmjVr6vLly5KkDRs26MCBA0pISNDq1auVnZ2t8PBweXp66ssvv9TXX3/tCAz5y7z00ktasmSJ4uPj9fXXXyszM7PQ60jee+89eXh4aPv27Zo1a5ZmzJihhIQEx3wXFxe98cYb2r9/v9577z1t3LhRTz75pFMdFy9e1CuvvKLFixdr69atOnbsmCZPnuyYP3/+fEVFRWnMmDHau3evPvnkEzVr1qzQ7b7WtuXk5Gjw4MG65557tGfPHiUmJmrMmDGy2Ww32+UAblSJX8sIwGgRERHWoEGDLMu68vbjhIQEy83NzZo8ebIVERFh+fv7W1lZWY7yixcvtlq2bGnl5eU5pmVlZVk1a9a01q1bZ1mWZfn7+1svv/yyY35OTo7VsGFDx3os68obprt27erUlk6dOllTpkwpsq0rVqyw6tSp4xiPj4+3JDm9UXbevHmWv7+/YzwgIMD629/+VmSdkqyVK1de17alpaVZkqzNmzcXWR+A8sURF6AKWr16tWrXri13d3f17dtXDz74oOO0TUhIiNN1Lf/617906NAheXp6qnbt2qpdu7Z8fX116dIlHT58WBkZGUpJSVHnzp0dy7i6uqpjx44F1tu2bVun8fr16ys1NdUx/sUXX6hnz5669dZb5enpqZEjRyotLU0XL150lKlVq5aaNm1aaB2pqak6efKkevbseV39cK1t8/X1VWRkpMLDw3Xffffp9ddfL3BaCkD54uJcoArq0aOH5s+frxo1aiggIEDVqv33q8DDw8Op7Pnz59WxY0ctWbKkQD316tUr0XqrV6/uNG6z2ZSXlydJOnLkiAYMGKCxY8fq+eefl6+vr7766iuNHj1aly9fVq1atYqsw7IsSVdOeZXE9WxbfHy8xo8fr7Vr12rZsmV65plnlJCQoDvvvLNE6wJQOgguQBXk4eFR5HUfV7v99tu1bNky+fn5ycvLq9Ay/v7++u6779StWzdJUm5urnbu3Kn27dtfd5t27NihvLw8vfrqq3JxuXIwePny5de9vCR5enqqUaNG2rBhg3r06HHN8tezbZLUoUMHdejQQTExMQoLC9PSpUsJLkAF4VQRgGKNGDFCdevW1aBBg/Tll18qKSlJmzdv1vjx43XixAlJ0rhx4xQXF6dVq1bpwIEDevzxx/Xrr7+W6CLWZs2aKTs7W3PnztXPP/+sxYsXa8GCBSVu7/Tp0/Xqq6/qjTfe0MGDB7Vz507NnTv3hrYtKSlJMTExSkxM1NGjR7V+/XodPHhQwcHBJW4XgNJBcAFQrFq1amnr1q1q2LChhgwZouDgYI0ePVqXLl1yHKWYMmWKHnroIT3yyCMKCwtT7dq1FR4eLnd39+teT7t27fTaa6/ppZdeUps2bbRkyRLFxcWVuL0RERGaM2eO3nzzTbVu3VoDBgzQwYMHb2jbatWqpZ9++klDhw5VixYtNGbMGEVFRelPf/pTidsFoHTYrPyTwwBQSvLy8hQcHKxhw4bpueeeq+jmAKhEuMYFwE3LP41yzz33KCsrS3//+9+VlJSkhx9+uKKbBqCS4VQRgJvm4uKiRYsWqVOnTurSpYv27t2rL774gmtBAJQ6ThUBAABjcMQFAAAYg+ACAACMQXABAADGILgAAABjEFwAAIAxCC4AAMAYBBcAAGAMggsAADAGwQUAABjj/wNU/AES3q3otAAAAABJRU5ErkJggg==\n"
                },
                "metadata": {}
              }
            ]
          }
        },
        "470c48a06d6b421eabef5efe85043733": {
          "model_module": "@jupyter-widgets/base",
          "model_name": "LayoutModel",
          "model_module_version": "1.2.0",
          "state": {
            "_model_module": "@jupyter-widgets/base",
            "_model_module_version": "1.2.0",
            "_model_name": "LayoutModel",
            "_view_count": null,
            "_view_module": "@jupyter-widgets/base",
            "_view_module_version": "1.2.0",
            "_view_name": "LayoutView",
            "align_content": null,
            "align_items": null,
            "align_self": null,
            "border": null,
            "bottom": null,
            "display": null,
            "flex": null,
            "flex_flow": null,
            "grid_area": null,
            "grid_auto_columns": null,
            "grid_auto_flow": null,
            "grid_auto_rows": null,
            "grid_column": null,
            "grid_gap": null,
            "grid_row": null,
            "grid_template_areas": null,
            "grid_template_columns": null,
            "grid_template_rows": null,
            "height": null,
            "justify_content": null,
            "justify_items": null,
            "left": null,
            "margin": null,
            "max_height": null,
            "max_width": null,
            "min_height": null,
            "min_width": null,
            "object_fit": null,
            "object_position": null,
            "order": null,
            "overflow": null,
            "overflow_x": null,
            "overflow_y": null,
            "padding": null,
            "right": null,
            "top": null,
            "visibility": null,
            "width": null
          }
        },
        "5f4fa8a476644c21abef7e108ba88f19": {
          "model_module": "@jupyter-widgets/base",
          "model_name": "LayoutModel",
          "model_module_version": "1.2.0",
          "state": {
            "_model_module": "@jupyter-widgets/base",
            "_model_module_version": "1.2.0",
            "_model_name": "LayoutModel",
            "_view_count": null,
            "_view_module": "@jupyter-widgets/base",
            "_view_module_version": "1.2.0",
            "_view_name": "LayoutView",
            "align_content": null,
            "align_items": null,
            "align_self": null,
            "border": null,
            "bottom": null,
            "display": null,
            "flex": null,
            "flex_flow": null,
            "grid_area": null,
            "grid_auto_columns": null,
            "grid_auto_flow": null,
            "grid_auto_rows": null,
            "grid_column": null,
            "grid_gap": null,
            "grid_row": null,
            "grid_template_areas": null,
            "grid_template_columns": null,
            "grid_template_rows": null,
            "height": null,
            "justify_content": null,
            "justify_items": null,
            "left": null,
            "margin": null,
            "max_height": null,
            "max_width": null,
            "min_height": null,
            "min_width": null,
            "object_fit": null,
            "object_position": null,
            "order": null,
            "overflow": null,
            "overflow_x": null,
            "overflow_y": null,
            "padding": null,
            "right": null,
            "top": null,
            "visibility": null,
            "width": null
          }
        },
        "a1ba295dce794a038783388af09f459c": {
          "model_module": "@jupyter-widgets/controls",
          "model_name": "DescriptionStyleModel",
          "model_module_version": "1.5.0",
          "state": {
            "_model_module": "@jupyter-widgets/controls",
            "_model_module_version": "1.5.0",
            "_model_name": "DescriptionStyleModel",
            "_view_count": null,
            "_view_module": "@jupyter-widgets/base",
            "_view_module_version": "1.2.0",
            "_view_name": "StyleView",
            "description_width": ""
          }
        },
        "bc2987339a864587bd70d7ff21caeff0": {
          "model_module": "@jupyter-widgets/base",
          "model_name": "LayoutModel",
          "model_module_version": "1.2.0",
          "state": {
            "_model_module": "@jupyter-widgets/base",
            "_model_module_version": "1.2.0",
            "_model_name": "LayoutModel",
            "_view_count": null,
            "_view_module": "@jupyter-widgets/base",
            "_view_module_version": "1.2.0",
            "_view_name": "LayoutView",
            "align_content": null,
            "align_items": null,
            "align_self": null,
            "border": null,
            "bottom": null,
            "display": null,
            "flex": null,
            "flex_flow": null,
            "grid_area": null,
            "grid_auto_columns": null,
            "grid_auto_flow": null,
            "grid_auto_rows": null,
            "grid_column": null,
            "grid_gap": null,
            "grid_row": null,
            "grid_template_areas": null,
            "grid_template_columns": null,
            "grid_template_rows": null,
            "height": null,
            "justify_content": null,
            "justify_items": null,
            "left": null,
            "margin": null,
            "max_height": null,
            "max_width": null,
            "min_height": null,
            "min_width": null,
            "object_fit": null,
            "object_position": null,
            "order": null,
            "overflow": null,
            "overflow_x": null,
            "overflow_y": null,
            "padding": null,
            "right": null,
            "top": null,
            "visibility": null,
            "width": null
          }
        },
        "13cc75c7e81f4be0ae4460b1a449e0a4": {
          "model_module": "@jupyter-widgets/controls",
          "model_name": "VBoxModel",
          "model_module_version": "1.5.0",
          "state": {
            "_dom_classes": [
              "widget-interact"
            ],
            "_model_module": "@jupyter-widgets/controls",
            "_model_module_version": "1.5.0",
            "_model_name": "VBoxModel",
            "_view_count": null,
            "_view_module": "@jupyter-widgets/controls",
            "_view_module_version": "1.5.0",
            "_view_name": "VBoxView",
            "box_style": "",
            "children": [
              "IPY_MODEL_bf5fac3aff2c451ab4b3e7d8e284ef46",
              "IPY_MODEL_3b6a511fa1f24a7190ca1875e485a47f"
            ],
            "layout": "IPY_MODEL_76eb8c3bdcb24395a829b0fbad1c1293"
          }
        },
        "bf5fac3aff2c451ab4b3e7d8e284ef46": {
          "model_module": "@jupyter-widgets/controls",
          "model_name": "DropdownModel",
          "model_module_version": "1.5.0",
          "state": {
            "_dom_classes": [],
            "_model_module": "@jupyter-widgets/controls",
            "_model_module_version": "1.5.0",
            "_model_name": "DropdownModel",
            "_options_labels": [
              "Pregnancies",
              "Glucose",
              "BloodPressure",
              "SkinThickness",
              "Insulin",
              "BMI",
              "Age",
              "Outcome"
            ],
            "_view_count": null,
            "_view_module": "@jupyter-widgets/controls",
            "_view_module_version": "1.5.0",
            "_view_name": "DropdownView",
            "description": "v",
            "description_tooltip": null,
            "disabled": false,
            "index": 0,
            "layout": "IPY_MODEL_d02f9e40f4fa4a37826963b06134d1e2",
            "style": "IPY_MODEL_a7e842bb30e94d11b3a0339f72a2f4c7"
          }
        },
        "3b6a511fa1f24a7190ca1875e485a47f": {
          "model_module": "@jupyter-widgets/output",
          "model_name": "OutputModel",
          "model_module_version": "1.0.0",
          "state": {
            "_dom_classes": [],
            "_model_module": "@jupyter-widgets/output",
            "_model_module_version": "1.0.0",
            "_model_name": "OutputModel",
            "_view_count": null,
            "_view_module": "@jupyter-widgets/output",
            "_view_module_version": "1.0.0",
            "_view_name": "OutputView",
            "layout": "IPY_MODEL_85d21c9795a443afa6ff1859108967ac",
            "msg_id": "",
            "outputs": [
              {
                "output_type": "display_data",
                "data": {
                  "text/plain": "<Figure size 640x480 with 1 Axes>",
                  "image/png": "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\n"
                },
                "metadata": {}
              }
            ]
          }
        },
        "76eb8c3bdcb24395a829b0fbad1c1293": {
          "model_module": "@jupyter-widgets/base",
          "model_name": "LayoutModel",
          "model_module_version": "1.2.0",
          "state": {
            "_model_module": "@jupyter-widgets/base",
            "_model_module_version": "1.2.0",
            "_model_name": "LayoutModel",
            "_view_count": null,
            "_view_module": "@jupyter-widgets/base",
            "_view_module_version": "1.2.0",
            "_view_name": "LayoutView",
            "align_content": null,
            "align_items": null,
            "align_self": null,
            "border": null,
            "bottom": null,
            "display": null,
            "flex": null,
            "flex_flow": null,
            "grid_area": null,
            "grid_auto_columns": null,
            "grid_auto_flow": null,
            "grid_auto_rows": null,
            "grid_column": null,
            "grid_gap": null,
            "grid_row": null,
            "grid_template_areas": null,
            "grid_template_columns": null,
            "grid_template_rows": null,
            "height": null,
            "justify_content": null,
            "justify_items": null,
            "left": null,
            "margin": null,
            "max_height": null,
            "max_width": null,
            "min_height": null,
            "min_width": null,
            "object_fit": null,
            "object_position": null,
            "order": null,
            "overflow": null,
            "overflow_x": null,
            "overflow_y": null,
            "padding": null,
            "right": null,
            "top": null,
            "visibility": null,
            "width": null
          }
        },
        "d02f9e40f4fa4a37826963b06134d1e2": {
          "model_module": "@jupyter-widgets/base",
          "model_name": "LayoutModel",
          "model_module_version": "1.2.0",
          "state": {
            "_model_module": "@jupyter-widgets/base",
            "_model_module_version": "1.2.0",
            "_model_name": "LayoutModel",
            "_view_count": null,
            "_view_module": "@jupyter-widgets/base",
            "_view_module_version": "1.2.0",
            "_view_name": "LayoutView",
            "align_content": null,
            "align_items": null,
            "align_self": null,
            "border": null,
            "bottom": null,
            "display": null,
            "flex": null,
            "flex_flow": null,
            "grid_area": null,
            "grid_auto_columns": null,
            "grid_auto_flow": null,
            "grid_auto_rows": null,
            "grid_column": null,
            "grid_gap": null,
            "grid_row": null,
            "grid_template_areas": null,
            "grid_template_columns": null,
            "grid_template_rows": null,
            "height": null,
            "justify_content": null,
            "justify_items": null,
            "left": null,
            "margin": null,
            "max_height": null,
            "max_width": null,
            "min_height": null,
            "min_width": null,
            "object_fit": null,
            "object_position": null,
            "order": null,
            "overflow": null,
            "overflow_x": null,
            "overflow_y": null,
            "padding": null,
            "right": null,
            "top": null,
            "visibility": null,
            "width": null
          }
        },
        "a7e842bb30e94d11b3a0339f72a2f4c7": {
          "model_module": "@jupyter-widgets/controls",
          "model_name": "DescriptionStyleModel",
          "model_module_version": "1.5.0",
          "state": {
            "_model_module": "@jupyter-widgets/controls",
            "_model_module_version": "1.5.0",
            "_model_name": "DescriptionStyleModel",
            "_view_count": null,
            "_view_module": "@jupyter-widgets/base",
            "_view_module_version": "1.2.0",
            "_view_name": "StyleView",
            "description_width": ""
          }
        },
        "85d21c9795a443afa6ff1859108967ac": {
          "model_module": "@jupyter-widgets/base",
          "model_name": "LayoutModel",
          "model_module_version": "1.2.0",
          "state": {
            "_model_module": "@jupyter-widgets/base",
            "_model_module_version": "1.2.0",
            "_model_name": "LayoutModel",
            "_view_count": null,
            "_view_module": "@jupyter-widgets/base",
            "_view_module_version": "1.2.0",
            "_view_name": "LayoutView",
            "align_content": null,
            "align_items": null,
            "align_self": null,
            "border": null,
            "bottom": null,
            "display": null,
            "flex": null,
            "flex_flow": null,
            "grid_area": null,
            "grid_auto_columns": null,
            "grid_auto_flow": null,
            "grid_auto_rows": null,
            "grid_column": null,
            "grid_gap": null,
            "grid_row": null,
            "grid_template_areas": null,
            "grid_template_columns": null,
            "grid_template_rows": null,
            "height": null,
            "justify_content": null,
            "justify_items": null,
            "left": null,
            "margin": null,
            "max_height": null,
            "max_width": null,
            "min_height": null,
            "min_width": null,
            "object_fit": null,
            "object_position": null,
            "order": null,
            "overflow": null,
            "overflow_x": null,
            "overflow_y": null,
            "padding": null,
            "right": null,
            "top": null,
            "visibility": null,
            "width": null
          }
        }
      }
    }
  },
  "cells": [
    {
      "cell_type": "code",
      "execution_count": null,
      "metadata": {
        "colab": {
          "base_uri": "https://localhost:8080/"
        },
        "id": "KKhqjxwp2yUJ",
        "outputId": "a030ef48-37d2-4a67-b288-889151952a26"
      },
      "outputs": [
        {
          "output_type": "stream",
          "name": "stdout",
          "text": [
            "Mounted at /content/gdrive\n"
          ]
        }
      ],
      "source": [
        "from google.colab import drive\n",
        "drive.mount('/content/gdrive')"
      ]
    },
    {
      "cell_type": "code",
      "source": [
        "import pandas as pd\n",
        "import numpy as np\n",
        "import seaborn as sns\n",
        "import matplotlib.pyplot as plt\n",
        "%matplotlib inline\n",
        "import ipywidgets as widgets\n",
        "from ipywidgets import interact, interactive, fixed, interact_manual\n",
        "from sklearn.preprocessing import  MinMaxScaler\n",
        "from sklearn.model_selection import train_test_split\n",
        "from sklearn.utils import resample\n",
        "from sklearn.linear_model import LogisticRegression\n",
        "from sklearn.ensemble import RandomForestClassifier\n",
        "from sklearn.neural_network import MLPClassifier\n",
        "from sklearn.svm import SVC\n",
        "from sklearn.model_selection import GridSearchCV\n",
        "from sklearn.metrics import classification_report\n",
        "from sklearn.feature_selection import RFE"
      ],
      "metadata": {
        "id": "gZcf9V4z3mBc"
      },
      "execution_count": null,
      "outputs": []
    },
    {
      "cell_type": "code",
      "source": [
        "from google.colab import files\n",
        "import io\n",
        "uploaded = files.upload()\n"
      ],
      "metadata": {
        "colab": {
          "base_uri": "https://localhost:8080/",
          "height": 76
        },
        "id": "KremUR0R4JhB",
        "outputId": "aa407aaf-ee17-4156-d045-c764fbc93225"
      },
      "execution_count": null,
      "outputs": [
        {
          "output_type": "display_data",
          "data": {
            "text/plain": [
              "<IPython.core.display.HTML object>"
            ],
            "text/html": [
              "\n",
              "     <input type=\"file\" id=\"files-4068d7bd-614c-4f67-a189-16fd86448bb5\" name=\"files[]\" multiple disabled\n",
              "        style=\"border:none\" />\n",
              "     <output id=\"result-4068d7bd-614c-4f67-a189-16fd86448bb5\">\n",
              "      Upload widget is only available when the cell has been executed in the\n",
              "      current browser session. Please rerun this cell to enable.\n",
              "      </output>\n",
              "      <script>// Copyright 2017 Google LLC\n",
              "//\n",
              "// Licensed under the Apache License, Version 2.0 (the \"License\");\n",
              "// you may not use this file except in compliance with the License.\n",
              "// You may obtain a copy of the License at\n",
              "//\n",
              "//      http://www.apache.org/licenses/LICENSE-2.0\n",
              "//\n",
              "// Unless required by applicable law or agreed to in writing, software\n",
              "// distributed under the License is distributed on an \"AS IS\" BASIS,\n",
              "// WITHOUT WARRANTIES OR CONDITIONS OF ANY KIND, either express or implied.\n",
              "// See the License for the specific language governing permissions and\n",
              "// limitations under the License.\n",
              "\n",
              "/**\n",
              " * @fileoverview Helpers for google.colab Python module.\n",
              " */\n",
              "(function(scope) {\n",
              "function span(text, styleAttributes = {}) {\n",
              "  const element = document.createElement('span');\n",
              "  element.textContent = text;\n",
              "  for (const key of Object.keys(styleAttributes)) {\n",
              "    element.style[key] = styleAttributes[key];\n",
              "  }\n",
              "  return element;\n",
              "}\n",
              "\n",
              "// Max number of bytes which will be uploaded at a time.\n",
              "const MAX_PAYLOAD_SIZE = 100 * 1024;\n",
              "\n",
              "function _uploadFiles(inputId, outputId) {\n",
              "  const steps = uploadFilesStep(inputId, outputId);\n",
              "  const outputElement = document.getElementById(outputId);\n",
              "  // Cache steps on the outputElement to make it available for the next call\n",
              "  // to uploadFilesContinue from Python.\n",
              "  outputElement.steps = steps;\n",
              "\n",
              "  return _uploadFilesContinue(outputId);\n",
              "}\n",
              "\n",
              "// This is roughly an async generator (not supported in the browser yet),\n",
              "// where there are multiple asynchronous steps and the Python side is going\n",
              "// to poll for completion of each step.\n",
              "// This uses a Promise to block the python side on completion of each step,\n",
              "// then passes the result of the previous step as the input to the next step.\n",
              "function _uploadFilesContinue(outputId) {\n",
              "  const outputElement = document.getElementById(outputId);\n",
              "  const steps = outputElement.steps;\n",
              "\n",
              "  const next = steps.next(outputElement.lastPromiseValue);\n",
              "  return Promise.resolve(next.value.promise).then((value) => {\n",
              "    // Cache the last promise value to make it available to the next\n",
              "    // step of the generator.\n",
              "    outputElement.lastPromiseValue = value;\n",
              "    return next.value.response;\n",
              "  });\n",
              "}\n",
              "\n",
              "/**\n",
              " * Generator function which is called between each async step of the upload\n",
              " * process.\n",
              " * @param {string} inputId Element ID of the input file picker element.\n",
              " * @param {string} outputId Element ID of the output display.\n",
              " * @return {!Iterable<!Object>} Iterable of next steps.\n",
              " */\n",
              "function* uploadFilesStep(inputId, outputId) {\n",
              "  const inputElement = document.getElementById(inputId);\n",
              "  inputElement.disabled = false;\n",
              "\n",
              "  const outputElement = document.getElementById(outputId);\n",
              "  outputElement.innerHTML = '';\n",
              "\n",
              "  const pickedPromise = new Promise((resolve) => {\n",
              "    inputElement.addEventListener('change', (e) => {\n",
              "      resolve(e.target.files);\n",
              "    });\n",
              "  });\n",
              "\n",
              "  const cancel = document.createElement('button');\n",
              "  inputElement.parentElement.appendChild(cancel);\n",
              "  cancel.textContent = 'Cancel upload';\n",
              "  const cancelPromise = new Promise((resolve) => {\n",
              "    cancel.onclick = () => {\n",
              "      resolve(null);\n",
              "    };\n",
              "  });\n",
              "\n",
              "  // Wait for the user to pick the files.\n",
              "  const files = yield {\n",
              "    promise: Promise.race([pickedPromise, cancelPromise]),\n",
              "    response: {\n",
              "      action: 'starting',\n",
              "    }\n",
              "  };\n",
              "\n",
              "  cancel.remove();\n",
              "\n",
              "  // Disable the input element since further picks are not allowed.\n",
              "  inputElement.disabled = true;\n",
              "\n",
              "  if (!files) {\n",
              "    return {\n",
              "      response: {\n",
              "        action: 'complete',\n",
              "      }\n",
              "    };\n",
              "  }\n",
              "\n",
              "  for (const file of files) {\n",
              "    const li = document.createElement('li');\n",
              "    li.append(span(file.name, {fontWeight: 'bold'}));\n",
              "    li.append(span(\n",
              "        `(${file.type || 'n/a'}) - ${file.size} bytes, ` +\n",
              "        `last modified: ${\n",
              "            file.lastModifiedDate ? file.lastModifiedDate.toLocaleDateString() :\n",
              "                                    'n/a'} - `));\n",
              "    const percent = span('0% done');\n",
              "    li.appendChild(percent);\n",
              "\n",
              "    outputElement.appendChild(li);\n",
              "\n",
              "    const fileDataPromise = new Promise((resolve) => {\n",
              "      const reader = new FileReader();\n",
              "      reader.onload = (e) => {\n",
              "        resolve(e.target.result);\n",
              "      };\n",
              "      reader.readAsArrayBuffer(file);\n",
              "    });\n",
              "    // Wait for the data to be ready.\n",
              "    let fileData = yield {\n",
              "      promise: fileDataPromise,\n",
              "      response: {\n",
              "        action: 'continue',\n",
              "      }\n",
              "    };\n",
              "\n",
              "    // Use a chunked sending to avoid message size limits. See b/62115660.\n",
              "    let position = 0;\n",
              "    do {\n",
              "      const length = Math.min(fileData.byteLength - position, MAX_PAYLOAD_SIZE);\n",
              "      const chunk = new Uint8Array(fileData, position, length);\n",
              "      position += length;\n",
              "\n",
              "      const base64 = btoa(String.fromCharCode.apply(null, chunk));\n",
              "      yield {\n",
              "        response: {\n",
              "          action: 'append',\n",
              "          file: file.name,\n",
              "          data: base64,\n",
              "        },\n",
              "      };\n",
              "\n",
              "      let percentDone = fileData.byteLength === 0 ?\n",
              "          100 :\n",
              "          Math.round((position / fileData.byteLength) * 100);\n",
              "      percent.textContent = `${percentDone}% done`;\n",
              "\n",
              "    } while (position < fileData.byteLength);\n",
              "  }\n",
              "\n",
              "  // All done.\n",
              "  yield {\n",
              "    response: {\n",
              "      action: 'complete',\n",
              "    }\n",
              "  };\n",
              "}\n",
              "\n",
              "scope.google = scope.google || {};\n",
              "scope.google.colab = scope.google.colab || {};\n",
              "scope.google.colab._files = {\n",
              "  _uploadFiles,\n",
              "  _uploadFilesContinue,\n",
              "};\n",
              "})(self);\n",
              "</script> "
            ]
          },
          "metadata": {}
        },
        {
          "output_type": "stream",
          "name": "stdout",
          "text": [
            "Saving diabetes_pima.csv to diabetes_pima.csv\n"
          ]
        }
      ]
    },
    {
      "cell_type": "code",
      "source": [
        "prima = pd.read_csv(\"diabetes_pima.csv\")\n",
        "prima"
      ],
      "metadata": {
        "colab": {
          "base_uri": "https://localhost:8080/",
          "height": 424
        },
        "id": "JtuVshT14QE6",
        "outputId": "50485db3-213e-4dc2-911d-4d716ac3834c"
      },
      "execution_count": null,
      "outputs": [
        {
          "output_type": "execute_result",
          "data": {
            "text/plain": [
              "     Pregnancies  Glucose  BloodPressure  SkinThickness  Insulin   BMI  \\\n",
              "0              6      148             72             35        0  33.6   \n",
              "1              1       85             66             29        0  26.6   \n",
              "2              8      183             64              0        0  23.3   \n",
              "3              1       89             66             23       94  28.1   \n",
              "4              0      137             40             35      168  43.1   \n",
              "..           ...      ...            ...            ...      ...   ...   \n",
              "763           10      101             76             48      180  32.9   \n",
              "764            2      122             70             27        0  36.8   \n",
              "765            5      121             72             23      112  26.2   \n",
              "766            1      126             60              0        0  30.1   \n",
              "767            1       93             70             31        0  30.4   \n",
              "\n",
              "     DiabetesPedigreeFunction  Age  Outcome  \n",
              "0                       0.627   50        1  \n",
              "1                       0.351   31        0  \n",
              "2                       0.672   32        1  \n",
              "3                       0.167   21        0  \n",
              "4                       2.288   33        1  \n",
              "..                        ...  ...      ...  \n",
              "763                     0.171   63        0  \n",
              "764                     0.340   27        0  \n",
              "765                     0.245   30        0  \n",
              "766                     0.349   47        1  \n",
              "767                     0.315   23        0  \n",
              "\n",
              "[768 rows x 9 columns]"
            ],
            "text/html": [
              "\n",
              "  <div id=\"df-8482fc35-f1db-402a-9435-bc5c98799492\">\n",
              "    <div class=\"colab-df-container\">\n",
              "      <div>\n",
              "<style scoped>\n",
              "    .dataframe tbody tr th:only-of-type {\n",
              "        vertical-align: middle;\n",
              "    }\n",
              "\n",
              "    .dataframe tbody tr th {\n",
              "        vertical-align: top;\n",
              "    }\n",
              "\n",
              "    .dataframe thead th {\n",
              "        text-align: right;\n",
              "    }\n",
              "</style>\n",
              "<table border=\"1\" class=\"dataframe\">\n",
              "  <thead>\n",
              "    <tr style=\"text-align: right;\">\n",
              "      <th></th>\n",
              "      <th>Pregnancies</th>\n",
              "      <th>Glucose</th>\n",
              "      <th>BloodPressure</th>\n",
              "      <th>SkinThickness</th>\n",
              "      <th>Insulin</th>\n",
              "      <th>BMI</th>\n",
              "      <th>DiabetesPedigreeFunction</th>\n",
              "      <th>Age</th>\n",
              "      <th>Outcome</th>\n",
              "    </tr>\n",
              "  </thead>\n",
              "  <tbody>\n",
              "    <tr>\n",
              "      <th>0</th>\n",
              "      <td>6</td>\n",
              "      <td>148</td>\n",
              "      <td>72</td>\n",
              "      <td>35</td>\n",
              "      <td>0</td>\n",
              "      <td>33.6</td>\n",
              "      <td>0.627</td>\n",
              "      <td>50</td>\n",
              "      <td>1</td>\n",
              "    </tr>\n",
              "    <tr>\n",
              "      <th>1</th>\n",
              "      <td>1</td>\n",
              "      <td>85</td>\n",
              "      <td>66</td>\n",
              "      <td>29</td>\n",
              "      <td>0</td>\n",
              "      <td>26.6</td>\n",
              "      <td>0.351</td>\n",
              "      <td>31</td>\n",
              "      <td>0</td>\n",
              "    </tr>\n",
              "    <tr>\n",
              "      <th>2</th>\n",
              "      <td>8</td>\n",
              "      <td>183</td>\n",
              "      <td>64</td>\n",
              "      <td>0</td>\n",
              "      <td>0</td>\n",
              "      <td>23.3</td>\n",
              "      <td>0.672</td>\n",
              "      <td>32</td>\n",
              "      <td>1</td>\n",
              "    </tr>\n",
              "    <tr>\n",
              "      <th>3</th>\n",
              "      <td>1</td>\n",
              "      <td>89</td>\n",
              "      <td>66</td>\n",
              "      <td>23</td>\n",
              "      <td>94</td>\n",
              "      <td>28.1</td>\n",
              "      <td>0.167</td>\n",
              "      <td>21</td>\n",
              "      <td>0</td>\n",
              "    </tr>\n",
              "    <tr>\n",
              "      <th>4</th>\n",
              "      <td>0</td>\n",
              "      <td>137</td>\n",
              "      <td>40</td>\n",
              "      <td>35</td>\n",
              "      <td>168</td>\n",
              "      <td>43.1</td>\n",
              "      <td>2.288</td>\n",
              "      <td>33</td>\n",
              "      <td>1</td>\n",
              "    </tr>\n",
              "    <tr>\n",
              "      <th>...</th>\n",
              "      <td>...</td>\n",
              "      <td>...</td>\n",
              "      <td>...</td>\n",
              "      <td>...</td>\n",
              "      <td>...</td>\n",
              "      <td>...</td>\n",
              "      <td>...</td>\n",
              "      <td>...</td>\n",
              "      <td>...</td>\n",
              "    </tr>\n",
              "    <tr>\n",
              "      <th>763</th>\n",
              "      <td>10</td>\n",
              "      <td>101</td>\n",
              "      <td>76</td>\n",
              "      <td>48</td>\n",
              "      <td>180</td>\n",
              "      <td>32.9</td>\n",
              "      <td>0.171</td>\n",
              "      <td>63</td>\n",
              "      <td>0</td>\n",
              "    </tr>\n",
              "    <tr>\n",
              "      <th>764</th>\n",
              "      <td>2</td>\n",
              "      <td>122</td>\n",
              "      <td>70</td>\n",
              "      <td>27</td>\n",
              "      <td>0</td>\n",
              "      <td>36.8</td>\n",
              "      <td>0.340</td>\n",
              "      <td>27</td>\n",
              "      <td>0</td>\n",
              "    </tr>\n",
              "    <tr>\n",
              "      <th>765</th>\n",
              "      <td>5</td>\n",
              "      <td>121</td>\n",
              "      <td>72</td>\n",
              "      <td>23</td>\n",
              "      <td>112</td>\n",
              "      <td>26.2</td>\n",
              "      <td>0.245</td>\n",
              "      <td>30</td>\n",
              "      <td>0</td>\n",
              "    </tr>\n",
              "    <tr>\n",
              "      <th>766</th>\n",
              "      <td>1</td>\n",
              "      <td>126</td>\n",
              "      <td>60</td>\n",
              "      <td>0</td>\n",
              "      <td>0</td>\n",
              "      <td>30.1</td>\n",
              "      <td>0.349</td>\n",
              "      <td>47</td>\n",
              "      <td>1</td>\n",
              "    </tr>\n",
              "    <tr>\n",
              "      <th>767</th>\n",
              "      <td>1</td>\n",
              "      <td>93</td>\n",
              "      <td>70</td>\n",
              "      <td>31</td>\n",
              "      <td>0</td>\n",
              "      <td>30.4</td>\n",
              "      <td>0.315</td>\n",
              "      <td>23</td>\n",
              "      <td>0</td>\n",
              "    </tr>\n",
              "  </tbody>\n",
              "</table>\n",
              "<p>768 rows × 9 columns</p>\n",
              "</div>\n",
              "      <button class=\"colab-df-convert\" onclick=\"convertToInteractive('df-8482fc35-f1db-402a-9435-bc5c98799492')\"\n",
              "              title=\"Convert this dataframe to an interactive table.\"\n",
              "              style=\"display:none;\">\n",
              "        \n",
              "  <svg xmlns=\"http://www.w3.org/2000/svg\" height=\"24px\"viewBox=\"0 0 24 24\"\n",
              "       width=\"24px\">\n",
              "    <path d=\"M0 0h24v24H0V0z\" fill=\"none\"/>\n",
              "    <path d=\"M18.56 5.44l.94 2.06.94-2.06 2.06-.94-2.06-.94-.94-2.06-.94 2.06-2.06.94zm-11 1L8.5 8.5l.94-2.06 2.06-.94-2.06-.94L8.5 2.5l-.94 2.06-2.06.94zm10 10l.94 2.06.94-2.06 2.06-.94-2.06-.94-.94-2.06-.94 2.06-2.06.94z\"/><path d=\"M17.41 7.96l-1.37-1.37c-.4-.4-.92-.59-1.43-.59-.52 0-1.04.2-1.43.59L10.3 9.45l-7.72 7.72c-.78.78-.78 2.05 0 2.83L4 21.41c.39.39.9.59 1.41.59.51 0 1.02-.2 1.41-.59l7.78-7.78 2.81-2.81c.8-.78.8-2.07 0-2.86zM5.41 20L4 18.59l7.72-7.72 1.47 1.35L5.41 20z\"/>\n",
              "  </svg>\n",
              "      </button>\n",
              "      \n",
              "  <style>\n",
              "    .colab-df-container {\n",
              "      display:flex;\n",
              "      flex-wrap:wrap;\n",
              "      gap: 12px;\n",
              "    }\n",
              "\n",
              "    .colab-df-convert {\n",
              "      background-color: #E8F0FE;\n",
              "      border: none;\n",
              "      border-radius: 50%;\n",
              "      cursor: pointer;\n",
              "      display: none;\n",
              "      fill: #1967D2;\n",
              "      height: 32px;\n",
              "      padding: 0 0 0 0;\n",
              "      width: 32px;\n",
              "    }\n",
              "\n",
              "    .colab-df-convert:hover {\n",
              "      background-color: #E2EBFA;\n",
              "      box-shadow: 0px 1px 2px rgba(60, 64, 67, 0.3), 0px 1px 3px 1px rgba(60, 64, 67, 0.15);\n",
              "      fill: #174EA6;\n",
              "    }\n",
              "\n",
              "    [theme=dark] .colab-df-convert {\n",
              "      background-color: #3B4455;\n",
              "      fill: #D2E3FC;\n",
              "    }\n",
              "\n",
              "    [theme=dark] .colab-df-convert:hover {\n",
              "      background-color: #434B5C;\n",
              "      box-shadow: 0px 1px 3px 1px rgba(0, 0, 0, 0.15);\n",
              "      filter: drop-shadow(0px 1px 2px rgba(0, 0, 0, 0.3));\n",
              "      fill: #FFFFFF;\n",
              "    }\n",
              "  </style>\n",
              "\n",
              "      <script>\n",
              "        const buttonEl =\n",
              "          document.querySelector('#df-8482fc35-f1db-402a-9435-bc5c98799492 button.colab-df-convert');\n",
              "        buttonEl.style.display =\n",
              "          google.colab.kernel.accessAllowed ? 'block' : 'none';\n",
              "\n",
              "        async function convertToInteractive(key) {\n",
              "          const element = document.querySelector('#df-8482fc35-f1db-402a-9435-bc5c98799492');\n",
              "          const dataTable =\n",
              "            await google.colab.kernel.invokeFunction('convertToInteractive',\n",
              "                                                     [key], {});\n",
              "          if (!dataTable) return;\n",
              "\n",
              "          const docLinkHtml = 'Like what you see? Visit the ' +\n",
              "            '<a target=\"_blank\" href=https://colab.research.google.com/notebooks/data_table.ipynb>data table notebook</a>'\n",
              "            + ' to learn more about interactive tables.';\n",
              "          element.innerHTML = '';\n",
              "          dataTable['output_type'] = 'display_data';\n",
              "          await google.colab.output.renderOutput(dataTable, element);\n",
              "          const docLink = document.createElement('div');\n",
              "          docLink.innerHTML = docLinkHtml;\n",
              "          element.appendChild(docLink);\n",
              "        }\n",
              "      </script>\n",
              "    </div>\n",
              "  </div>\n",
              "  "
            ]
          },
          "metadata": {},
          "execution_count": 4
        }
      ]
    },
    {
      "cell_type": "code",
      "source": [
        "prima['Age'].unique()"
      ],
      "metadata": {
        "colab": {
          "base_uri": "https://localhost:8080/"
        },
        "id": "NKOFnh-646D2",
        "outputId": "299e7a64-d18e-4a1c-cd70-d93c16c38c9d"
      },
      "execution_count": null,
      "outputs": [
        {
          "output_type": "execute_result",
          "data": {
            "text/plain": [
              "array([50, 31, 32, 21, 33, 30, 26, 29, 53, 54, 34, 57, 59, 51, 27, 41, 43,\n",
              "       22, 38, 60, 28, 45, 35, 46, 56, 37, 48, 40, 25, 24, 58, 42, 44, 39,\n",
              "       36, 23, 61, 69, 62, 55, 65, 47, 52, 66, 49, 63, 67, 72, 81, 64, 70,\n",
              "       68])"
            ]
          },
          "metadata": {},
          "execution_count": 5
        }
      ]
    },
    {
      "cell_type": "markdown",
      "source": [
        "### Information about our Dataset"
      ],
      "metadata": {
        "id": "eAi0-Vmn5CtO"
      }
    },
    {
      "cell_type": "code",
      "source": [
        "prima.info()"
      ],
      "metadata": {
        "colab": {
          "base_uri": "https://localhost:8080/"
        },
        "id": "bA7Bi0ea4-xV",
        "outputId": "df9029e0-7c62-4c95-dc0b-6bce550a6624"
      },
      "execution_count": null,
      "outputs": [
        {
          "output_type": "stream",
          "name": "stdout",
          "text": [
            "<class 'pandas.core.frame.DataFrame'>\n",
            "RangeIndex: 768 entries, 0 to 767\n",
            "Data columns (total 9 columns):\n",
            " #   Column                    Non-Null Count  Dtype  \n",
            "---  ------                    --------------  -----  \n",
            " 0   Pregnancies               768 non-null    int64  \n",
            " 1   Glucose                   768 non-null    int64  \n",
            " 2   BloodPressure             768 non-null    int64  \n",
            " 3   SkinThickness             768 non-null    int64  \n",
            " 4   Insulin                   768 non-null    int64  \n",
            " 5   BMI                       768 non-null    float64\n",
            " 6   DiabetesPedigreeFunction  768 non-null    float64\n",
            " 7   Age                       768 non-null    int64  \n",
            " 8   Outcome                   768 non-null    int64  \n",
            "dtypes: float64(2), int64(7)\n",
            "memory usage: 54.1 KB\n"
          ]
        }
      ]
    },
    {
      "cell_type": "markdown",
      "source": [
        "### The unique value by columns"
      ],
      "metadata": {
        "id": "ZjSXHm1Y5L2g"
      }
    },
    {
      "cell_type": "code",
      "source": [
        "prima.nunique()"
      ],
      "metadata": {
        "colab": {
          "base_uri": "https://localhost:8080/"
        },
        "id": "CfvY5bDg5KKk",
        "outputId": "baf2e617-b07a-4a91-bf85-5853a0e9a609"
      },
      "execution_count": null,
      "outputs": [
        {
          "output_type": "execute_result",
          "data": {
            "text/plain": [
              "Pregnancies                  17\n",
              "Glucose                     136\n",
              "BloodPressure                47\n",
              "SkinThickness                51\n",
              "Insulin                     186\n",
              "BMI                         248\n",
              "DiabetesPedigreeFunction    517\n",
              "Age                          52\n",
              "Outcome                       2\n",
              "dtype: int64"
            ]
          },
          "metadata": {},
          "execution_count": 7
        }
      ]
    },
    {
      "cell_type": "markdown",
      "source": [
        "### Explaratory Data Analysis"
      ],
      "metadata": {
        "id": "qHXlwX8V5WKQ"
      }
    },
    {
      "cell_type": "markdown",
      "source": [
        "### Float Variable"
      ],
      "metadata": {
        "id": "ifXJnqQZ5cXd"
      }
    },
    {
      "cell_type": "code",
      "source": [
        "float_var = prima.nunique()[prima.nunique()<3].keys().to_list()\n",
        "float_var"
      ],
      "metadata": {
        "colab": {
          "base_uri": "https://localhost:8080/"
        },
        "id": "MaCj_9bC5UDi",
        "outputId": "bb5376a1-695e-491f-ebea-cdaf53bf74d0"
      },
      "execution_count": null,
      "outputs": [
        {
          "output_type": "execute_result",
          "data": {
            "text/plain": [
              "['Outcome']"
            ]
          },
          "metadata": {},
          "execution_count": 8
        }
      ]
    },
    {
      "cell_type": "markdown",
      "source": [
        "### Creation of the function who allowed us to build bar graph"
      ],
      "metadata": {
        "id": "ANpnTYfY5npT"
      }
    },
    {
      "cell_type": "code",
      "source": [
        "def bar_plot(v):\n",
        "    prima[v].value_counts(normalize = True).plot(kind = 'bar')\n",
        "    plt.ylabel('proportion')\n",
        "    plt.title('Distribution of' + str(v))\n",
        "    return plt.show()"
      ],
      "metadata": {
        "id": "KHZ40e3D5jmV"
      },
      "execution_count": null,
      "outputs": []
    },
    {
      "cell_type": "markdown",
      "source": [
        "### Iteration"
      ],
      "metadata": {
        "id": "GemAI9QG5wcP"
      }
    },
    {
      "cell_type": "code",
      "source": [
        "interact(bar_plot, v = float_var);"
      ],
      "metadata": {
        "colab": {
          "base_uri": "https://localhost:8080/",
          "height": 479,
          "referenced_widgets": [
            "04d52f7041ee4fa1b4f7eb3c85ac634f",
            "6d9620bf853f4a518bbfe08663b5487a",
            "73e3badaee384ae987d52738c4e24b59",
            "f70cf09d4c474c4ebba19f049be62c2b",
            "92ae89cff71a49289fdf72d4120ff5f6",
            "ab3c4081c9ed41a999eca006f7f18772",
            "b3a0a54c1b4f464b986c7ee5791c28ed"
          ]
        },
        "id": "E9qnisKq5rvE",
        "outputId": "2181b7f4-7bd5-4d7a-b0f6-a985aa200fd8"
      },
      "execution_count": null,
      "outputs": [
        {
          "output_type": "display_data",
          "data": {
            "text/plain": [
              "interactive(children=(Dropdown(description='v', options=('Outcome',), value='Outcome'), Output()), _dom_classe…"
            ],
            "application/vnd.jupyter.widget-view+json": {
              "version_major": 2,
              "version_minor": 0,
              "model_id": "04d52f7041ee4fa1b4f7eb3c85ac634f"
            }
          },
          "metadata": {}
        }
      ]
    },
    {
      "cell_type": "code",
      "source": [
        "prima['Outcome'].value_counts(normalize=True)"
      ],
      "metadata": {
        "colab": {
          "base_uri": "https://localhost:8080/"
        },
        "id": "OP7BAgSR51B1",
        "outputId": "5f1ffdf5-846d-44c4-a68e-163baeca61f7"
      },
      "execution_count": null,
      "outputs": [
        {
          "output_type": "execute_result",
          "data": {
            "text/plain": [
              "0    0.651042\n",
              "1    0.348958\n",
              "Name: Outcome, dtype: float64"
            ]
          },
          "metadata": {},
          "execution_count": 11
        }
      ]
    },
    {
      "cell_type": "code",
      "source": [
        "int_var = prima.nunique()[prima.nunique()<249].keys().to_list()\n",
        "int_var"
      ],
      "metadata": {
        "colab": {
          "base_uri": "https://localhost:8080/"
        },
        "id": "ERIP5YKH55ya",
        "outputId": "6f1ff0f4-e20a-469c-a1eb-c146b5bf712d"
      },
      "execution_count": null,
      "outputs": [
        {
          "output_type": "execute_result",
          "data": {
            "text/plain": [
              "['Pregnancies',\n",
              " 'Glucose',\n",
              " 'BloodPressure',\n",
              " 'SkinThickness',\n",
              " 'Insulin',\n",
              " 'BMI',\n",
              " 'Age',\n",
              " 'Outcome']"
            ]
          },
          "metadata": {},
          "execution_count": 12
        }
      ]
    },
    {
      "cell_type": "code",
      "source": [
        "def histo_plot(v):\n",
        "    sns.distplot(prima[v], kde=False)\n",
        "    plt.title('Histogram of'+ v)\n",
        "    return plt.show()"
      ],
      "metadata": {
        "id": "ibWMAvVj59P0"
      },
      "execution_count": null,
      "outputs": []
    },
    {
      "cell_type": "code",
      "source": [
        "interact(histo_plot, v = int_var);"
      ],
      "metadata": {
        "colab": {
          "base_uri": "https://localhost:8080/",
          "height": 695,
          "referenced_widgets": [
            "09cafb2d3e9f4e2ca2acc2e9765dd8f5",
            "c7143506c68540c98126da5dc1356d79",
            "4089546dd58d4333b343adbd04529dcd",
            "470c48a06d6b421eabef5efe85043733",
            "5f4fa8a476644c21abef7e108ba88f19",
            "a1ba295dce794a038783388af09f459c",
            "bc2987339a864587bd70d7ff21caeff0"
          ]
        },
        "id": "k5JhxwvS6Ary",
        "outputId": "5749c65d-98db-48f1-dd98-5b2654c962a4"
      },
      "execution_count": null,
      "outputs": [
        {
          "output_type": "display_data",
          "data": {
            "text/plain": [
              "interactive(children=(Dropdown(description='v', options=('Pregnancies', 'Glucose', 'BloodPressure', 'SkinThick…"
            ],
            "application/vnd.jupyter.widget-view+json": {
              "version_major": 2,
              "version_minor": 0,
              "model_id": "09cafb2d3e9f4e2ca2acc2e9765dd8f5"
            }
          },
          "metadata": {}
        }
      ]
    },
    {
      "cell_type": "markdown",
      "source": [],
      "metadata": {
        "id": "LB8pRm1B6JVS"
      }
    },
    {
      "cell_type": "markdown",
      "source": [],
      "metadata": {
        "id": "ciEUzvmU6Jjw"
      }
    },
    {
      "cell_type": "markdown",
      "source": [
        "### We 56,9% who don't have the diabetes\n",
        "### we have 45,1 % who have the diabetes"
      ],
      "metadata": {
        "id": "JZWJcjlC6Jwc"
      }
    },
    {
      "cell_type": "markdown",
      "source": [
        "### we have the problem of imbalance that we want to solve because could be affection the model of classification that we want to build\n",
        "\n",
        "### As the minimum age is 21 mean the type of my diabetes is type 2"
      ],
      "metadata": {
        "id": "20tmJT0r6VRf"
      }
    },
    {
      "cell_type": "code",
      "source": [],
      "metadata": {
        "id": "VmBMkshB6EPh"
      },
      "execution_count": null,
      "outputs": []
    },
    {
      "cell_type": "markdown",
      "source": [
        "### Compute the coefficient of symetric  of Age, Pregnancies, SkinThickness, Insulin"
      ],
      "metadata": {
        "id": "KqrhIalU6mLM"
      }
    },
    {
      "cell_type": "code",
      "source": [
        "prima['Age'].skew()"
      ],
      "metadata": {
        "colab": {
          "base_uri": "https://localhost:8080/"
        },
        "id": "AF7FTwaf6pBE",
        "outputId": "07d05da3-b41b-4707-9070-55cd2dd7c706"
      },
      "execution_count": null,
      "outputs": [
        {
          "output_type": "execute_result",
          "data": {
            "text/plain": [
              "1.1295967011444805"
            ]
          },
          "metadata": {},
          "execution_count": 15
        }
      ]
    },
    {
      "cell_type": "code",
      "source": [
        "prima['Pregnancies'].skew()"
      ],
      "metadata": {
        "colab": {
          "base_uri": "https://localhost:8080/"
        },
        "id": "8_fUiPXg6sdE",
        "outputId": "c73ba324-82fd-4051-ff97-a8423e9af775"
      },
      "execution_count": null,
      "outputs": [
        {
          "output_type": "execute_result",
          "data": {
            "text/plain": [
              "0.9016739791518588"
            ]
          },
          "metadata": {},
          "execution_count": 16
        }
      ]
    },
    {
      "cell_type": "code",
      "source": [
        "prima['SkinThickness'].skew()"
      ],
      "metadata": {
        "colab": {
          "base_uri": "https://localhost:8080/"
        },
        "id": "ucopppdn6veg",
        "outputId": "9436483a-5c2e-4490-91ca-83cee52b8750"
      },
      "execution_count": null,
      "outputs": [
        {
          "output_type": "execute_result",
          "data": {
            "text/plain": [
              "0.10937249648187608"
            ]
          },
          "metadata": {},
          "execution_count": 17
        }
      ]
    },
    {
      "cell_type": "code",
      "source": [
        "prima['Insulin'].skew()"
      ],
      "metadata": {
        "colab": {
          "base_uri": "https://localhost:8080/"
        },
        "id": "HvbNAZpU6yI1",
        "outputId": "41e45c94-f677-4e70-be88-839bb5aeccaf"
      },
      "execution_count": null,
      "outputs": [
        {
          "output_type": "execute_result",
          "data": {
            "text/plain": [
              "2.272250858431574"
            ]
          },
          "metadata": {},
          "execution_count": 18
        }
      ]
    },
    {
      "cell_type": "markdown",
      "source": [
        "### Creation of Boxplot"
      ],
      "metadata": {
        "id": "t_6X35he63ir"
      }
    },
    {
      "cell_type": "code",
      "source": [
        "def box_plot(v):\n",
        "    sns.boxplot(prima[v])\n",
        "    plt.title('Boxplot of'+ v)\n",
        "    return plt.show()"
      ],
      "metadata": {
        "id": "JSrue4vl61W4"
      },
      "execution_count": null,
      "outputs": []
    },
    {
      "cell_type": "code",
      "source": [
        "interact(box_plot, v = int_var);"
      ],
      "metadata": {
        "colab": {
          "base_uri": "https://localhost:8080/",
          "height": 484,
          "referenced_widgets": [
            "13cc75c7e81f4be0ae4460b1a449e0a4",
            "bf5fac3aff2c451ab4b3e7d8e284ef46",
            "3b6a511fa1f24a7190ca1875e485a47f",
            "76eb8c3bdcb24395a829b0fbad1c1293",
            "d02f9e40f4fa4a37826963b06134d1e2",
            "a7e842bb30e94d11b3a0339f72a2f4c7",
            "85d21c9795a443afa6ff1859108967ac"
          ]
        },
        "id": "tWtCzE8X69_k",
        "outputId": "2b36b039-86fe-4387-e9e1-6fc92647817d"
      },
      "execution_count": null,
      "outputs": [
        {
          "output_type": "display_data",
          "data": {
            "text/plain": [
              "interactive(children=(Dropdown(description='v', options=('Pregnancies', 'Glucose', 'BloodPressure', 'SkinThick…"
            ],
            "application/vnd.jupyter.widget-view+json": {
              "version_major": 2,
              "version_minor": 0,
              "model_id": "13cc75c7e81f4be0ae4460b1a449e0a4"
            }
          },
          "metadata": {}
        }
      ]
    },
    {
      "cell_type": "markdown",
      "source": [
        "### Je remarque ces variables continues bien qu'il ne presente pas de valeur aberrantes  sont tres asymetriques ce qui peut causer des erreurs au niveau des modeles que nous allons construire.\n",
        "### J e vais appliquer des fonctions de transformation a ces variables afin de les rendre moins asymetrique.\n",
        "### Comme je comprend la distribution de chaque variable dans notre jeu de donnee maintennt je vais fais analyse multivariee"
      ],
      "metadata": {
        "id": "XnuaTOwn7FGE"
      }
    },
    {
      "cell_type": "code",
      "source": [
        "sns.boxplot(x='Outcome', y='Glucose', data=prima)\n",
        "plt.xlabel('Outcome')\n",
        "plt.ylabel('Glucose')\n",
        "plt.title('Analyse of all the people')\n",
        "plt.show()"
      ],
      "metadata": {
        "colab": {
          "base_uri": "https://localhost:8080/",
          "height": 472
        },
        "id": "HPD35KN17Bbf",
        "outputId": "cbf4f897-8a05-4dc1-a41a-8f0fd489ee57"
      },
      "execution_count": null,
      "outputs": [
        {
          "output_type": "display_data",
          "data": {
            "text/plain": [
              "<Figure size 640x480 with 1 Axes>"
            ],
            "image/png": "[encoded data removed]"
          },
          "metadata": {}
        }
      ]
    },
    {
      "cell_type": "code",
      "source": [
        "sns.boxplot(x='Outcome', y='Insulin', data=prima)\n",
        "plt.xlabel('Outcome')\n",
        "plt.ylabel('Insulin')\n",
        "plt.title('Analyse of all the people')\n",
        "plt.show()"
      ],
      "metadata": {
        "colab": {
          "base_uri": "https://localhost:8080/",
          "height": 472
        },
        "id": "ZUPRIC2M7LN7",
        "outputId": "4e15034c-59fe-4522-e1ec-1ce929c5096b"
      },
      "execution_count": null,
      "outputs": [
        {
          "output_type": "display_data",
          "data": {
            "text/plain": [
              "<Figure size 640x480 with 1 Axes>"
            ],
            "image/png": "[encoded data removed]"
          },
          "metadata": {}
        }
      ]
    },
    {
      "cell_type": "markdown",
      "source": [
        "### On a constate que au fuire et a mesure que le glucose augment dans sang, le nombre de personne ayant le diabete augment mais l'arrive de l'insulin fait baisser le taux de glucose et le nombre de diabetes se reduisent"
      ],
      "metadata": {
        "id": "TivYWNEa7QOI"
      }
    },
    {
      "cell_type": "code",
      "source": [
        "plt.figure(figsize=(10,30))\n",
        "sns.boxplot(x='Outcome', y='Age', data=prima, hue = 'Pregnancies');\n"
      ],
      "metadata": {
        "colab": {
          "base_uri": "https://localhost:8080/",
          "height": 1000
        },
        "id": "NTAYjruj7OkO",
        "outputId": "6a601f21-aa14-46f8-dfe6-306971d2048c"
      },
      "execution_count": null,
      "outputs": [
        {
          "output_type": "display_data",
          "data": {
            "text/plain": [
              "<Figure size 1000x3000 with 1 Axes>"
            ],
            "image/png": "[encoded data removed]"
          },
          "metadata": {}
        }
      ]
    },
    {
      "cell_type": "markdown",
      "source": [
        "### Sammary statistics"
      ],
      "metadata": {
        "id": "kTly65Mz7dgT"
      }
    },
    {
      "cell_type": "code",
      "source": [
        "prima.describe()"
      ],
      "metadata": {
        "colab": {
          "base_uri": "https://localhost:8080/",
          "height": 300
        },
        "id": "4xqoILxV7XuT",
        "outputId": "f3f946e9-5ce7-4b7b-aaaf-26d82168ecfe"
      },
      "execution_count": null,
      "outputs": [
        {
          "output_type": "execute_result",
          "data": {
            "text/plain": [
              "       Pregnancies     Glucose  BloodPressure  SkinThickness     Insulin  \\\n",
              "count   768.000000  768.000000     768.000000     768.000000  768.000000   \n",
              "mean      3.845052  120.894531      69.105469      20.536458   79.799479   \n",
              "std       3.369578   31.972618      19.355807      15.952218  115.244002   \n",
              "min       0.000000    0.000000       0.000000       0.000000    0.000000   \n",
              "25%       1.000000   99.000000      62.000000       0.000000    0.000000   \n",
              "50%       3.000000  117.000000      72.000000      23.000000   30.500000   \n",
              "75%       6.000000  140.250000      80.000000      32.000000  127.250000   \n",
              "max      17.000000  199.000000     122.000000      99.000000  846.000000   \n",
              "\n",
              "              BMI  DiabetesPedigreeFunction         Age     Outcome  \n",
              "count  768.000000                768.000000  768.000000  768.000000  \n",
              "mean    31.992578                  0.471876   33.240885    0.348958  \n",
              "std      7.884160                  0.331329   11.760232    0.476951  \n",
              "min      0.000000                  0.078000   21.000000    0.000000  \n",
              "25%     27.300000                  0.243750   24.000000    0.000000  \n",
              "50%     32.000000                  0.372500   29.000000    0.000000  \n",
              "75%     36.600000                  0.626250   41.000000    1.000000  \n",
              "max     67.100000                  2.420000   81.000000    1.000000  "
            ],
            "text/html": [
              "\n",
              "  <div id=\"df-9541a8ae-9c5c-4487-9f0d-f7af5b612b48\">\n",
              "    <div class=\"colab-df-container\">\n",
              "      <div>\n",
              "<style scoped>\n",
              "    .dataframe tbody tr th:only-of-type {\n",
              "        vertical-align: middle;\n",
              "    }\n",
              "\n",
              "    .dataframe tbody tr th {\n",
              "        vertical-align: top;\n",
              "    }\n",
              "\n",
              "    .dataframe thead th {\n",
              "        text-align: right;\n",
              "    }\n",
              "</style>\n",
              "<table border=\"1\" class=\"dataframe\">\n",
              "  <thead>\n",
              "    <tr style=\"text-align: right;\">\n",
              "      <th></th>\n",
              "      <th>Pregnancies</th>\n",
              "      <th>Glucose</th>\n",
              "      <th>BloodPressure</th>\n",
              "      <th>SkinThickness</th>\n",
              "      <th>Insulin</th>\n",
              "      <th>BMI</th>\n",
              "      <th>DiabetesPedigreeFunction</th>\n",
              "      <th>Age</th>\n",
              "      <th>Outcome</th>\n",
              "    </tr>\n",
              "  </thead>\n",
              "  <tbody>\n",
              "    <tr>\n",
              "      <th>count</th>\n",
              "      <td>768.000000</td>\n",
              "      <td>768.000000</td>\n",
              "      <td>768.000000</td>\n",
              "      <td>768.000000</td>\n",
              "      <td>768.000000</td>\n",
              "      <td>768.000000</td>\n",
              "      <td>768.000000</td>\n",
              "      <td>768.000000</td>\n",
              "      <td>768.000000</td>\n",
              "    </tr>\n",
              "    <tr>\n",
              "      <th>mean</th>\n",
              "      <td>3.845052</td>\n",
              "      <td>120.894531</td>\n",
              "      <td>69.105469</td>\n",
              "      <td>20.536458</td>\n",
              "      <td>79.799479</td>\n",
              "      <td>31.992578</td>\n",
              "      <td>0.471876</td>\n",
              "      <td>33.240885</td>\n",
              "      <td>0.348958</td>\n",
              "    </tr>\n",
              "    <tr>\n",
              "      <th>std</th>\n",
              "      <td>3.369578</td>\n",
              "      <td>31.972618</td>\n",
              "      <td>19.355807</td>\n",
              "      <td>15.952218</td>\n",
              "      <td>115.244002</td>\n",
              "      <td>7.884160</td>\n",
              "      <td>0.331329</td>\n",
              "      <td>11.760232</td>\n",
              "      <td>0.476951</td>\n",
              "    </tr>\n",
              "    <tr>\n",
              "      <th>min</th>\n",
              "      <td>0.000000</td>\n",
              "      <td>0.000000</td>\n",
              "      <td>0.000000</td>\n",
              "      <td>0.000000</td>\n",
              "      <td>0.000000</td>\n",
              "      <td>0.000000</td>\n",
              "      <td>0.078000</td>\n",
              "      <td>21.000000</td>\n",
              "      <td>0.000000</td>\n",
              "    </tr>\n",
              "    <tr>\n",
              "      <th>25%</th>\n",
              "      <td>1.000000</td>\n",
              "      <td>99.000000</td>\n",
              "      <td>62.000000</td>\n",
              "      <td>0.000000</td>\n",
              "      <td>0.000000</td>\n",
              "      <td>27.300000</td>\n",
              "      <td>0.243750</td>\n",
              "      <td>24.000000</td>\n",
              "      <td>0.000000</td>\n",
              "    </tr>\n",
              "    <tr>\n",
              "      <th>50%</th>\n",
              "      <td>3.000000</td>\n",
              "      <td>117.000000</td>\n",
              "      <td>72.000000</td>\n",
              "      <td>23.000000</td>\n",
              "      <td>30.500000</td>\n",
              "      <td>32.000000</td>\n",
              "      <td>0.372500</td>\n",
              "      <td>29.000000</td>\n",
              "      <td>0.000000</td>\n",
              "    </tr>\n",
              "    <tr>\n",
              "      <th>75%</th>\n",
              "      <td>6.000000</td>\n",
              "      <td>140.250000</td>\n",
              "      <td>80.000000</td>\n",
              "      <td>32.000000</td>\n",
              "      <td>127.250000</td>\n",
              "      <td>36.600000</td>\n",
              "      <td>0.626250</td>\n",
              "      <td>41.000000</td>\n",
              "      <td>1.000000</td>\n",
              "    </tr>\n",
              "    <tr>\n",
              "      <th>max</th>\n",
              "      <td>17.000000</td>\n",
              "      <td>199.000000</td>\n",
              "      <td>122.000000</td>\n",
              "      <td>99.000000</td>\n",
              "      <td>846.000000</td>\n",
              "      <td>67.100000</td>\n",
              "      <td>2.420000</td>\n",
              "      <td>81.000000</td>\n",
              "      <td>1.000000</td>\n",
              "    </tr>\n",
              "  </tbody>\n",
              "</table>\n",
              "</div>\n",
              "      <button class=\"colab-df-convert\" onclick=\"convertToInteractive('df-9541a8ae-9c5c-4487-9f0d-f7af5b612b48')\"\n",
              "              title=\"Convert this dataframe to an interactive table.\"\n",
              "              style=\"display:none;\">\n",
              "        \n",
              "  <svg xmlns=\"http://www.w3.org/2000/svg\" height=\"24px\"viewBox=\"0 0 24 24\"\n",
              "       width=\"24px\">\n",
              "    <path d=\"M0 0h24v24H0V0z\" fill=\"none\"/>\n",
              "    <path d=\"M18.56 5.44l.94 2.06.94-2.06 2.06-.94-2.06-.94-.94-2.06-.94 2.06-2.06.94zm-11 1L8.5 8.5l.94-2.06 2.06-.94-2.06-.94L8.5 2.5l-.94 2.06-2.06.94zm10 10l.94 2.06.94-2.06 2.06-.94-2.06-.94-.94-2.06-.94 2.06-2.06.94z\"/><path d=\"M17.41 7.96l-1.37-1.37c-.4-.4-.92-.59-1.43-.59-.52 0-1.04.2-1.43.59L10.3 9.45l-7.72 7.72c-.78.78-.78 2.05 0 2.83L4 21.41c.39.39.9.59 1.41.59.51 0 1.02-.2 1.41-.59l7.78-7.78 2.81-2.81c.8-.78.8-2.07 0-2.86zM5.41 20L4 18.59l7.72-7.72 1.47 1.35L5.41 20z\"/>\n",
              "  </svg>\n",
              "      </button>\n",
              "      \n",
              "  <style>\n",
              "    .colab-df-container {\n",
              "      display:flex;\n",
              "      flex-wrap:wrap;\n",
              "      gap: 12px;\n",
              "    }\n",
              "\n",
              "    .colab-df-convert {\n",
              "      background-color: #E8F0FE;\n",
              "      border: none;\n",
              "      border-radius: 50%;\n",
              "      cursor: pointer;\n",
              "      display: none;\n",
              "      fill: #1967D2;\n",
              "      height: 32px;\n",
              "      padding: 0 0 0 0;\n",
              "      width: 32px;\n",
              "    }\n",
              "\n",
              "    .colab-df-convert:hover {\n",
              "      background-color: #E2EBFA;\n",
              "      box-shadow: 0px 1px 2px rgba(60, 64, 67, 0.3), 0px 1px 3px 1px rgba(60, 64, 67, 0.15);\n",
              "      fill: #174EA6;\n",
              "    }\n",
              "\n",
              "    [theme=dark] .colab-df-convert {\n",
              "      background-color: #3B4455;\n",
              "      fill: #D2E3FC;\n",
              "    }\n",
              "\n",
              "    [theme=dark] .colab-df-convert:hover {\n",
              "      background-color: #434B5C;\n",
              "      box-shadow: 0px 1px 3px 1px rgba(0, 0, 0, 0.15);\n",
              "      filter: drop-shadow(0px 1px 2px rgba(0, 0, 0, 0.3));\n",
              "      fill: #FFFFFF;\n",
              "    }\n",
              "  </style>\n",
              "\n",
              "      <script>\n",
              "        const buttonEl =\n",
              "          document.querySelector('#df-9541a8ae-9c5c-4487-9f0d-f7af5b612b48 button.colab-df-convert');\n",
              "        buttonEl.style.display =\n",
              "          google.colab.kernel.accessAllowed ? 'block' : 'none';\n",
              "\n",
              "        async function convertToInteractive(key) {\n",
              "          const element = document.querySelector('#df-9541a8ae-9c5c-4487-9f0d-f7af5b612b48');\n",
              "          const dataTable =\n",
              "            await google.colab.kernel.invokeFunction('convertToInteractive',\n",
              "                                                     [key], {});\n",
              "          if (!dataTable) return;\n",
              "\n",
              "          const docLinkHtml = 'Like what you see? Visit the ' +\n",
              "            '<a target=\"_blank\" href=https://colab.research.google.com/notebooks/data_table.ipynb>data table notebook</a>'\n",
              "            + ' to learn more about interactive tables.';\n",
              "          element.innerHTML = '';\n",
              "          dataTable['output_type'] = 'display_data';\n",
              "          await google.colab.output.renderOutput(dataTable, element);\n",
              "          const docLink = document.createElement('div');\n",
              "          docLink.innerHTML = docLinkHtml;\n",
              "          element.appendChild(docLink);\n",
              "        }\n",
              "      </script>\n",
              "    </div>\n",
              "  </div>\n",
              "  "
            ]
          },
          "metadata": {},
          "execution_count": 24
        }
      ]
    },
    {
      "cell_type": "markdown",
      "source": [
        "### Comme tous les varianble ne sont a la meme echelle mais nous allons les normaliser\n",
        "### Pre-traitement des donnees"
      ],
      "metadata": {
        "id": "Yf2VYo_77nvJ"
      }
    },
    {
      "cell_type": "code",
      "source": [
        "prima_1 = prima.copy()"
      ],
      "metadata": {
        "id": "sepwFcBX7lP0"
      },
      "execution_count": null,
      "outputs": []
    },
    {
      "cell_type": "code",
      "source": [
        "prima_1.isna().sum()"
      ],
      "metadata": {
        "colab": {
          "base_uri": "https://localhost:8080/"
        },
        "id": "JZMZQoZy70Uq",
        "outputId": "746d2eb2-3c4b-4f6f-a4c3-9bd785200167"
      },
      "execution_count": null,
      "outputs": [
        {
          "output_type": "execute_result",
          "data": {
            "text/plain": [
              "Pregnancies                 0\n",
              "Glucose                     0\n",
              "BloodPressure               0\n",
              "SkinThickness               0\n",
              "Insulin                     0\n",
              "BMI                         0\n",
              "DiabetesPedigreeFunction    0\n",
              "Age                         0\n",
              "Outcome                     0\n",
              "dtype: int64"
            ]
          },
          "metadata": {},
          "execution_count": 26
        }
      ]
    },
    {
      "cell_type": "markdown",
      "source": [
        "### Transformation des variables asymetric"
      ],
      "metadata": {
        "id": "aoEkrH5j75hX"
      }
    },
    {
      "cell_type": "code",
      "source": [
        "prima_1['Age'] = np.sqrt(prima_1['Age'])"
      ],
      "metadata": {
        "id": "xDBfEj4373EE"
      },
      "execution_count": null,
      "outputs": []
    },
    {
      "cell_type": "code",
      "source": [
        "prima_1['Pregnancies'] = np.sqrt(prima_1['Pregnancies'])"
      ],
      "metadata": {
        "id": "pVd_r7yY8A5-"
      },
      "execution_count": null,
      "outputs": []
    },
    {
      "cell_type": "code",
      "source": [
        "prima_1['SkinThickness'] = np.sqrt(prima_1['SkinThickness'])"
      ],
      "metadata": {
        "id": "14HJdN_Z8D2_"
      },
      "execution_count": null,
      "outputs": []
    },
    {
      "cell_type": "code",
      "source": [
        "prima_1['Insulin'] = np.sqrt(prima_1['Insulin'])"
      ],
      "metadata": {
        "id": "Os4njOjq8GOi"
      },
      "execution_count": null,
      "outputs": []
    },
    {
      "cell_type": "markdown",
      "source": [
        "### Histogramme du variable transformer"
      ],
      "metadata": {
        "id": "pT674qBH8Mjc"
      }
    },
    {
      "cell_type": "code",
      "source": [
        "sns.displot(prima_1['Age'], kde=False)"
      ],
      "metadata": {
        "colab": {
          "base_uri": "https://localhost:8080/",
          "height": 523
        },
        "id": "62jkprfh8KwR",
        "outputId": "2c1b61d5-4146-49fe-c5aa-6db59af65d61"
      },
      "execution_count": null,
      "outputs": [
        {
          "output_type": "execute_result",
          "data": {
            "text/plain": [
              "<seaborn.axisgrid.FacetGrid at 0x7fe5d2103010>"
            ]
          },
          "metadata": {},
          "execution_count": 31
        },
        {
          "output_type": "display_data",
          "data": {
            "text/plain": [
              "<Figure size 500x500 with 1 Axes>"
            ],
            "image/png": "[encoded data removed]"
          },
          "metadata": {}
        }
      ]
    },
    {
      "cell_type": "code",
      "source": [
        "sns.displot(prima_1['Pregnancies'], kde=False)"
      ],
      "metadata": {
        "colab": {
          "base_uri": "https://localhost:8080/",
          "height": 524
        },
        "id": "hLTkWn2j8SIS",
        "outputId": "b7c30eb6-fefd-4362-c710-b6ebb9ca7a1e"
      },
      "execution_count": null,
      "outputs": [
        {
          "output_type": "execute_result",
          "data": {
            "text/plain": [
              "<seaborn.axisgrid.FacetGrid at 0x7fe5cf30c3a0>"
            ]
          },
          "metadata": {},
          "execution_count": 32
        },
        {
          "output_type": "display_data",
          "data": {
            "text/plain": [
              "<Figure size 500x500 with 1 Axes>"
            ],
            "image/png": "[encoded data removed]"
          },
          "metadata": {}
        }
      ]
    },
    {
      "cell_type": "code",
      "source": [
        "sns.displot(prima_1['SkinThickness'], kde=False)"
      ],
      "metadata": {
        "colab": {
          "base_uri": "https://localhost:8080/",
          "height": 524
        },
        "id": "RNKGDSm28VUf",
        "outputId": "b42f93b5-9a31-4998-e3ba-5264c87abd2e"
      },
      "execution_count": null,
      "outputs": [
        {
          "output_type": "execute_result",
          "data": {
            "text/plain": [
              "<seaborn.axisgrid.FacetGrid at 0x7fe5cf3ec400>"
            ]
          },
          "metadata": {},
          "execution_count": 33
        },
        {
          "output_type": "display_data",
          "data": {
            "text/plain": [
              "<Figure size 500x500 with 1 Axes>"
            ],
            "image/png": "[encoded data removed]"
          },
          "metadata": {}
        }
      ]
    },
    {
      "cell_type": "code",
      "source": [
        "sns.displot(prima_1['Insulin'], kde=False)"
      ],
      "metadata": {
        "colab": {
          "base_uri": "https://localhost:8080/",
          "height": 523
        },
        "id": "2oFqVplM8YOD",
        "outputId": "1240ec5b-b61f-4734-ccce-67ccb65b798e"
      },
      "execution_count": null,
      "outputs": [
        {
          "output_type": "execute_result",
          "data": {
            "text/plain": [
              "<seaborn.axisgrid.FacetGrid at 0x7fe5cf265b40>"
            ]
          },
          "metadata": {},
          "execution_count": 34
        },
        {
          "output_type": "display_data",
          "data": {
            "text/plain": [
              "<Figure size 500x500 with 1 Axes>"
            ],
            "image/png": "[encoded data removed]"
          },
          "metadata": {}
        }
      ]
    },
    {
      "cell_type": "markdown",
      "source": [
        "### Compute the coeffience of the asymetrie"
      ],
      "metadata": {
        "id": "OapdJIdr8d5j"
      }
    },
    {
      "cell_type": "code",
      "source": [
        "prima_1['Age'].skew()"
      ],
      "metadata": {
        "colab": {
          "base_uri": "https://localhost:8080/"
        },
        "id": "jNtBiQ1t8bWV",
        "outputId": "950bc329-72c5-4614-a43f-c6fe968a64d1"
      },
      "execution_count": null,
      "outputs": [
        {
          "output_type": "execute_result",
          "data": {
            "text/plain": [
              "0.8505983120345812"
            ]
          },
          "metadata": {},
          "execution_count": 35
        }
      ]
    },
    {
      "cell_type": "code",
      "source": [
        "prima_1['SkinThickness'].skew()"
      ],
      "metadata": {
        "colab": {
          "base_uri": "https://localhost:8080/"
        },
        "id": "hU3jhLRO8lXY",
        "outputId": "362a8564-ded5-43cf-aabf-7cdcddf91d6e"
      },
      "execution_count": null,
      "outputs": [
        {
          "output_type": "execute_result",
          "data": {
            "text/plain": [
              "-0.5734989259853033"
            ]
          },
          "metadata": {},
          "execution_count": 36
        }
      ]
    },
    {
      "cell_type": "code",
      "source": [
        "prima_1['Pregnancies'].skew()"
      ],
      "metadata": {
        "colab": {
          "base_uri": "https://localhost:8080/"
        },
        "id": "m2BiAQAw8nmo",
        "outputId": "ac9d2d67-99a9-490b-a418-75d3e0740d08"
      },
      "execution_count": null,
      "outputs": [
        {
          "output_type": "execute_result",
          "data": {
            "text/plain": [
              "-0.15893792070470467"
            ]
          },
          "metadata": {},
          "execution_count": 37
        }
      ]
    },
    {
      "cell_type": "code",
      "source": [
        "prima_1['Insulin'].skew()"
      ],
      "metadata": {
        "colab": {
          "base_uri": "https://localhost:8080/"
        },
        "id": "9sg73caq8qqL",
        "outputId": "7dbde498-aa89-4889-9bf9-d0e64aa25624"
      },
      "execution_count": null,
      "outputs": [
        {
          "output_type": "execute_result",
          "data": {
            "text/plain": [
              "0.6299554383696059"
            ]
          },
          "metadata": {},
          "execution_count": 38
        }
      ]
    },
    {
      "cell_type": "markdown",
      "source": [
        "### Donnees d'entrainement (60%), de validation (20%) et de test(20%)\n",
        "\n",
        "### Les donnees d'entrainement c'est pour entrainer le model\n",
        "### Les donnees de validation c'est pour selectionner le meilleur model parce que nous allons utilise plusieur algorithme qui seront entrainer a partir des donnees d'entrainement et formeront des modeles et il faudra selectionner le meilleur\n",
        "### Les donnees de test vont nous nous permettre de s'assurer de la capaciter de modele a generaliser"
      ],
      "metadata": {
        "id": "E3bqyUjl8vEY"
      }
    },
    {
      "cell_type": "code",
      "source": [
        "X = prima_1.drop('Outcome', axis = 1)\n",
        "\n",
        "y = prima_1['Outcome']\n",
        "\n",
        "seed = 12\n",
        "\n",
        "X_train, X_test, y_train, y_test = train_test_split(X, y, test_size = 0.4, random_state = seed, stratify = y)\n",
        "\n",
        "X_val, X_test, y_val, y_test = train_test_split(X_test, y_test, test_size = 0.4, random_state = seed, stratify = y_test)"
      ],
      "metadata": {
        "id": "W67w_1JI8tJT"
      },
      "execution_count": null,
      "outputs": []
    },
    {
      "cell_type": "code",
      "source": [
        "y_test.value_counts()"
      ],
      "metadata": {
        "colab": {
          "base_uri": "https://localhost:8080/"
        },
        "id": "GMMAjMSnPj3Q",
        "outputId": "383f491b-6e2c-4aa1-d191-a7435f97f298"
      },
      "execution_count": null,
      "outputs": [
        {
          "output_type": "execute_result",
          "data": {
            "text/plain": [
              "0    81\n",
              "1    43\n",
              "Name: Outcome, dtype: int64"
            ]
          },
          "metadata": {},
          "execution_count": 100
        }
      ]
    },
    {
      "cell_type": "markdown",
      "source": [
        "### Frequence des classes dans y"
      ],
      "metadata": {
        "id": "5AzNyVWo9CGE"
      }
    },
    {
      "cell_type": "code",
      "source": [
        "pd.DataFrame(y).value_counts(normalize = True)"
      ],
      "metadata": {
        "colab": {
          "base_uri": "https://localhost:8080/"
        },
        "id": "5t7vy4hB89Rm",
        "outputId": "4b84587c-365f-4fd3-8668-16e4e8f5d4e1"
      },
      "execution_count": null,
      "outputs": [
        {
          "output_type": "execute_result",
          "data": {
            "text/plain": [
              "Outcome\n",
              "0          0.651042\n",
              "1          0.348958\n",
              "dtype: float64"
            ]
          },
          "metadata": {},
          "execution_count": 40
        }
      ]
    },
    {
      "cell_type": "markdown",
      "source": [
        "### Frequence des classes dans y_val"
      ],
      "metadata": {
        "id": "2FH-6GmU9Kjv"
      }
    },
    {
      "cell_type": "code",
      "source": [
        "pd.DataFrame(y_val).value_counts(normalize = True)"
      ],
      "metadata": {
        "colab": {
          "base_uri": "https://localhost:8080/"
        },
        "id": "d8viEn_F9GDj",
        "outputId": "a41ec7e1-f61d-4ea4-dab9-9ea612a1f619"
      },
      "execution_count": null,
      "outputs": [
        {
          "output_type": "execute_result",
          "data": {
            "text/plain": [
              "Outcome\n",
              "0          0.652174\n",
              "1          0.347826\n",
              "dtype: float64"
            ]
          },
          "metadata": {},
          "execution_count": 41
        }
      ]
    },
    {
      "cell_type": "markdown",
      "source": [
        "### Frequence des classes dans y_test"
      ],
      "metadata": {
        "id": "py9ULCSP9V9n"
      }
    },
    {
      "cell_type": "code",
      "source": [
        "pd.DataFrame(y_test).value_counts(normalize = True)"
      ],
      "metadata": {
        "colab": {
          "base_uri": "https://localhost:8080/"
        },
        "id": "0jbLE2ZY9SgM",
        "outputId": "4c8c32b5-f6fa-46eb-b9d6-632085720967"
      },
      "execution_count": null,
      "outputs": [
        {
          "output_type": "execute_result",
          "data": {
            "text/plain": [
              "Outcome\n",
              "0          0.653226\n",
              "1          0.346774\n",
              "dtype: float64"
            ]
          },
          "metadata": {},
          "execution_count": 42
        }
      ]
    },
    {
      "cell_type": "markdown",
      "source": [
        "### Resolution du probleme de desequilibre de classe : Methode de sur echantillonnage de la classe minoritaire"
      ],
      "metadata": {
        "id": "qi-tv1SA9fI3"
      }
    },
    {
      "cell_type": "code",
      "source": [
        "X2 = X_train\n",
        "\n",
        "X2['Outcome'] = y_train.values\n"
      ],
      "metadata": {
        "id": "1042_dEm9apJ"
      },
      "execution_count": null,
      "outputs": []
    },
    {
      "cell_type": "code",
      "source": [
        "no = X2[X2.Outcome == 0]\n",
        "yes = X2[X2.Outcome == 1]\n",
        "yes_oversampled = resample(yes, replace=True, n_samples=len(no), random_state=123)\n",
        "X_train_1 = pd.concat([no, yes_oversampled])\n",
        "\n",
        "fig = plt.figure(figsize = (8,5))\n",
        "X_train_1.Outcome.value_counts(normalize = True).plot(kind='bar', color= ['skyblue','navy'], alpha = 0.9, rot=0)\n",
        "plt.title('Outcome Indicator No(0) and Yes(1) after X_train_1 (Balanced Dataset)')\n",
        "plt.show()"
      ],
      "metadata": {
        "colab": {
          "base_uri": "https://localhost:8080/",
          "height": 468
        },
        "id": "8OuW8_QE9jgx",
        "outputId": "0d6336aa-778c-4f6d-c6bc-edc49b26e836"
      },
      "execution_count": null,
      "outputs": [
        {
          "output_type": "display_data",
          "data": {
            "text/plain": [
              "<Figure size 800x500 with 1 Axes>"
            ],
            "image/png": "[encoded data removed]"
          },
          "metadata": {}
        }
      ]
    },
    {
      "cell_type": "markdown",
      "source": [
        "### Verication of class"
      ],
      "metadata": {
        "id": "aqXQd07f9ruo"
      }
    },
    {
      "cell_type": "code",
      "source": [
        "X_train_1['Outcome'].value_counts(normalize = True)"
      ],
      "metadata": {
        "colab": {
          "base_uri": "https://localhost:8080/"
        },
        "id": "XoSlPp_19ma_",
        "outputId": "7ff017ba-bd83-48ad-9ef5-b953245b5a62"
      },
      "execution_count": null,
      "outputs": [
        {
          "output_type": "execute_result",
          "data": {
            "text/plain": [
              "0    0.5\n",
              "1    0.5\n",
              "Name: Outcome, dtype: float64"
            ]
          },
          "metadata": {},
          "execution_count": 45
        }
      ]
    },
    {
      "cell_type": "markdown",
      "source": [
        "### Donnees d'entrainement sur la base de la methode de sur echantillonnage de la classe minoritaire"
      ],
      "metadata": {
        "id": "HyAmEnXt9z3w"
      }
    },
    {
      "cell_type": "code",
      "source": [
        "X_train_2 = X_train_1.drop('Outcome', axis = 1)"
      ],
      "metadata": {
        "id": "1iYcaQuM9wVa"
      },
      "execution_count": null,
      "outputs": []
    },
    {
      "cell_type": "code",
      "source": [
        "y_train_2 = X_train_1['Outcome']"
      ],
      "metadata": {
        "id": "HSvFD1Bz93eU"
      },
      "execution_count": null,
      "outputs": []
    },
    {
      "cell_type": "code",
      "source": [
        "y_train_2"
      ],
      "metadata": {
        "colab": {
          "base_uri": "https://localhost:8080/"
        },
        "id": "akjC7ubs96hg",
        "outputId": "611e8a83-02ce-48a5-c351-68f2dc044cc4"
      },
      "execution_count": null,
      "outputs": [
        {
          "output_type": "execute_result",
          "data": {
            "text/plain": [
              "526    0\n",
              "76     0\n",
              "336    0\n",
              "107    0\n",
              "65     0\n",
              "      ..\n",
              "283    1\n",
              "663    1\n",
              "128    1\n",
              "337    1\n",
              "231    1\n",
              "Name: Outcome, Length: 598, dtype: int64"
            ]
          },
          "metadata": {},
          "execution_count": 48
        }
      ]
    },
    {
      "cell_type": "markdown",
      "source": [
        "### Resolution du probleme de desequilibre de classe : Methode de sous-echantillonnage de la classe majoritaire"
      ],
      "metadata": {
        "id": "tR2zC2Xf-Bz2"
      }
    },
    {
      "cell_type": "code",
      "source": [
        "# majority_downsampled = resample(majority, replace=False, n_samples = len(minority), random_state = seed)\n",
        "# downsampled = pd.concat([minority, majority_downsampled])\n",
        "# downsampled"
      ],
      "metadata": {
        "id": "-fHnA1r_987A"
      },
      "execution_count": null,
      "outputs": []
    },
    {
      "cell_type": "markdown",
      "source": [
        "###  Verification"
      ],
      "metadata": {
        "id": "xVLANworBdtf"
      }
    },
    {
      "cell_type": "code",
      "source": [
        "#downsampled['Outcome'].value_counts(normalize = True)"
      ],
      "metadata": {
        "id": "DXhc4Wvp-FyT"
      },
      "execution_count": null,
      "outputs": []
    },
    {
      "cell_type": "markdown",
      "source": [
        "### Donnees d'entrainement sur la base de la methode de sous-echantillonnage de la classe majoritaire"
      ],
      "metadata": {
        "id": "WyNSg6WdBki0"
      }
    },
    {
      "cell_type": "code",
      "source": [
        "# X_train_down = downsampled.drop('Outcome', axis = 1)\n",
        "\n",
        "# y_train_down = downsampled['Outcome']"
      ],
      "metadata": {
        "id": "BLJ9DIpWBnl-"
      },
      "execution_count": null,
      "outputs": []
    },
    {
      "cell_type": "markdown",
      "source": [
        "### y_train and X_train"
      ],
      "metadata": {
        "id": "t5OrBjzPBtYW"
      }
    },
    {
      "cell_type": "code",
      "source": [
        "y_train = X_train['Outcome']"
      ],
      "metadata": {
        "id": "c9jyTLkFBqIf"
      },
      "execution_count": null,
      "outputs": []
    },
    {
      "cell_type": "code",
      "source": [
        "X_train = X_train.drop('Outcome', axis=1)"
      ],
      "metadata": {
        "id": "42cC7IxaBw4_"
      },
      "execution_count": null,
      "outputs": []
    },
    {
      "cell_type": "markdown",
      "source": [
        "### Now I have 3 types of training data\n",
        "### Definition des donnees d'entrainement\n",
        "### Choix possibles : (X_train, y_train), (X_train_2, y_train_2) et (X_train_down, y_train_down)"
      ],
      "metadata": {
        "id": "iFwveQ3YB5VY"
      }
    },
    {
      "cell_type": "code",
      "source": [
        "train_features = X_train_2#.copy()"
      ],
      "metadata": {
        "id": "ieyp7v-_B0U9"
      },
      "execution_count": null,
      "outputs": []
    },
    {
      "cell_type": "code",
      "source": [
        "train_labels = y_train_2#.copy()"
      ],
      "metadata": {
        "id": "U5UsZGe0B9kC"
      },
      "execution_count": null,
      "outputs": []
    },
    {
      "cell_type": "code",
      "source": [
        "train_features.head()"
      ],
      "metadata": {
        "colab": {
          "base_uri": "https://localhost:8080/",
          "height": 206
        },
        "id": "kI6b9l6-B_uv",
        "outputId": "db9939a8-e671-4d48-db4e-c7fef8284387"
      },
      "execution_count": null,
      "outputs": [
        {
          "output_type": "execute_result",
          "data": {
            "text/plain": [
              "     Pregnancies  Glucose  BloodPressure  SkinThickness    Insulin   BMI  \\\n",
              "526     1.000000       97             64       4.358899   9.055385  18.2   \n",
              "76      2.645751       62             78       0.000000   0.000000  32.6   \n",
              "336     0.000000      117              0       0.000000   0.000000  33.8   \n",
              "107     2.000000      144             58       5.291503  11.832160  29.5   \n",
              "65      2.236068       99             74       5.196152   0.000000  29.0   \n",
              "\n",
              "     DiabetesPedigreeFunction       Age  \n",
              "526                     0.299  4.582576  \n",
              "76                      0.391  6.403124  \n",
              "336                     0.932  6.633250  \n",
              "107                     0.287  6.082763  \n",
              "65                      0.203  5.656854  "
            ],
            "text/html": [
              "\n",
              "  <div id=\"df-9da613e8-f816-4226-9c5d-e95599b83e59\">\n",
              "    <div class=\"colab-df-container\">\n",
              "      <div>\n",
              "<style scoped>\n",
              "    .dataframe tbody tr th:only-of-type {\n",
              "        vertical-align: middle;\n",
              "    }\n",
              "\n",
              "    .dataframe tbody tr th {\n",
              "        vertical-align: top;\n",
              "    }\n",
              "\n",
              "    .dataframe thead th {\n",
              "        text-align: right;\n",
              "    }\n",
              "</style>\n",
              "<table border=\"1\" class=\"dataframe\">\n",
              "  <thead>\n",
              "    <tr style=\"text-align: right;\">\n",
              "      <th></th>\n",
              "      <th>Pregnancies</th>\n",
              "      <th>Glucose</th>\n",
              "      <th>BloodPressure</th>\n",
              "      <th>SkinThickness</th>\n",
              "      <th>Insulin</th>\n",
              "      <th>BMI</th>\n",
              "      <th>DiabetesPedigreeFunction</th>\n",
              "      <th>Age</th>\n",
              "    </tr>\n",
              "  </thead>\n",
              "  <tbody>\n",
              "    <tr>\n",
              "      <th>526</th>\n",
              "      <td>1.000000</td>\n",
              "      <td>97</td>\n",
              "      <td>64</td>\n",
              "      <td>4.358899</td>\n",
              "      <td>9.055385</td>\n",
              "      <td>18.2</td>\n",
              "      <td>0.299</td>\n",
              "      <td>4.582576</td>\n",
              "    </tr>\n",
              "    <tr>\n",
              "      <th>76</th>\n",
              "      <td>2.645751</td>\n",
              "      <td>62</td>\n",
              "      <td>78</td>\n",
              "      <td>0.000000</td>\n",
              "      <td>0.000000</td>\n",
              "      <td>32.6</td>\n",
              "      <td>0.391</td>\n",
              "      <td>6.403124</td>\n",
              "    </tr>\n",
              "    <tr>\n",
              "      <th>336</th>\n",
              "      <td>0.000000</td>\n",
              "      <td>117</td>\n",
              "      <td>0</td>\n",
              "      <td>0.000000</td>\n",
              "      <td>0.000000</td>\n",
              "      <td>33.8</td>\n",
              "      <td>0.932</td>\n",
              "      <td>6.633250</td>\n",
              "    </tr>\n",
              "    <tr>\n",
              "      <th>107</th>\n",
              "      <td>2.000000</td>\n",
              "      <td>144</td>\n",
              "      <td>58</td>\n",
              "      <td>5.291503</td>\n",
              "      <td>11.832160</td>\n",
              "      <td>29.5</td>\n",
              "      <td>0.287</td>\n",
              "      <td>6.082763</td>\n",
              "    </tr>\n",
              "    <tr>\n",
              "      <th>65</th>\n",
              "      <td>2.236068</td>\n",
              "      <td>99</td>\n",
              "      <td>74</td>\n",
              "      <td>5.196152</td>\n",
              "      <td>0.000000</td>\n",
              "      <td>29.0</td>\n",
              "      <td>0.203</td>\n",
              "      <td>5.656854</td>\n",
              "    </tr>\n",
              "  </tbody>\n",
              "</table>\n",
              "</div>\n",
              "      <button class=\"colab-df-convert\" onclick=\"convertToInteractive('df-9da613e8-f816-4226-9c5d-e95599b83e59')\"\n",
              "              title=\"Convert this dataframe to an interactive table.\"\n",
              "              style=\"display:none;\">\n",
              "        \n",
              "  <svg xmlns=\"http://www.w3.org/2000/svg\" height=\"24px\"viewBox=\"0 0 24 24\"\n",
              "       width=\"24px\">\n",
              "    <path d=\"M0 0h24v24H0V0z\" fill=\"none\"/>\n",
              "    <path d=\"M18.56 5.44l.94 2.06.94-2.06 2.06-.94-2.06-.94-.94-2.06-.94 2.06-2.06.94zm-11 1L8.5 8.5l.94-2.06 2.06-.94-2.06-.94L8.5 2.5l-.94 2.06-2.06.94zm10 10l.94 2.06.94-2.06 2.06-.94-2.06-.94-.94-2.06-.94 2.06-2.06.94z\"/><path d=\"M17.41 7.96l-1.37-1.37c-.4-.4-.92-.59-1.43-.59-.52 0-1.04.2-1.43.59L10.3 9.45l-7.72 7.72c-.78.78-.78 2.05 0 2.83L4 21.41c.39.39.9.59 1.41.59.51 0 1.02-.2 1.41-.59l7.78-7.78 2.81-2.81c.8-.78.8-2.07 0-2.86zM5.41 20L4 18.59l7.72-7.72 1.47 1.35L5.41 20z\"/>\n",
              "  </svg>\n",
              "      </button>\n",
              "      \n",
              "  <style>\n",
              "    .colab-df-container {\n",
              "      display:flex;\n",
              "      flex-wrap:wrap;\n",
              "      gap: 12px;\n",
              "    }\n",
              "\n",
              "    .colab-df-convert {\n",
              "      background-color: #E8F0FE;\n",
              "      border: none;\n",
              "      border-radius: 50%;\n",
              "      cursor: pointer;\n",
              "      display: none;\n",
              "      fill: #1967D2;\n",
              "      height: 32px;\n",
              "      padding: 0 0 0 0;\n",
              "      width: 32px;\n",
              "    }\n",
              "\n",
              "    .colab-df-convert:hover {\n",
              "      background-color: #E2EBFA;\n",
              "      box-shadow: 0px 1px 2px rgba(60, 64, 67, 0.3), 0px 1px 3px 1px rgba(60, 64, 67, 0.15);\n",
              "      fill: #174EA6;\n",
              "    }\n",
              "\n",
              "    [theme=dark] .colab-df-convert {\n",
              "      background-color: #3B4455;\n",
              "      fill: #D2E3FC;\n",
              "    }\n",
              "\n",
              "    [theme=dark] .colab-df-convert:hover {\n",
              "      background-color: #434B5C;\n",
              "      box-shadow: 0px 1px 3px 1px rgba(0, 0, 0, 0.15);\n",
              "      filter: drop-shadow(0px 1px 2px rgba(0, 0, 0, 0.3));\n",
              "      fill: #FFFFFF;\n",
              "    }\n",
              "  </style>\n",
              "\n",
              "      <script>\n",
              "        const buttonEl =\n",
              "          document.querySelector('#df-9da613e8-f816-4226-9c5d-e95599b83e59 button.colab-df-convert');\n",
              "        buttonEl.style.display =\n",
              "          google.colab.kernel.accessAllowed ? 'block' : 'none';\n",
              "\n",
              "        async function convertToInteractive(key) {\n",
              "          const element = document.querySelector('#df-9da613e8-f816-4226-9c5d-e95599b83e59');\n",
              "          const dataTable =\n",
              "            await google.colab.kernel.invokeFunction('convertToInteractive',\n",
              "                                                     [key], {});\n",
              "          if (!dataTable) return;\n",
              "\n",
              "          const docLinkHtml = 'Like what you see? Visit the ' +\n",
              "            '<a target=\"_blank\" href=https://colab.research.google.com/notebooks/data_table.ipynb>data table notebook</a>'\n",
              "            + ' to learn more about interactive tables.';\n",
              "          element.innerHTML = '';\n",
              "          dataTable['output_type'] = 'display_data';\n",
              "          await google.colab.output.renderOutput(dataTable, element);\n",
              "          const docLink = document.createElement('div');\n",
              "          docLink.innerHTML = docLinkHtml;\n",
              "          element.appendChild(docLink);\n",
              "        }\n",
              "      </script>\n",
              "    </div>\n",
              "  </div>\n",
              "  "
            ]
          },
          "metadata": {},
          "execution_count": 56
        }
      ]
    },
    {
      "cell_type": "markdown",
      "source": [
        "### Comme les variables: Glucose, BloodPressurs ont des valeurs plus important que les autres cela peux causer des bias dans notre modeles du coup nous allons normaliser notre dataset ou la standardiser\n",
        "### Stardisation c'est la variable mois la moyenne de la viable sur l'ecart type de cette meme variable\n",
        "\n",
        "### Normalisation des variables independantes des differents ensembles de donnees\n",
        "### Nous pouvons choisir de standardiser au lieu de normaliser"
      ],
      "metadata": {
        "id": "7QgmUjOxCIEz"
      }
    },
    {
      "cell_type": "code",
      "source": [
        "scaler = MinMaxScaler()\n",
        "mod_scaler = scaler.fit(train_features)\n",
        "train_features = mod_scaler.transform(train_features)\n",
        "X_val = mod_scaler.transform(X_val)\n",
        "X_test = mod_scaler.transform(X_test)"
      ],
      "metadata": {
        "id": "D0hUc4PLCDbO"
      },
      "execution_count": null,
      "outputs": []
    },
    {
      "cell_type": "markdown",
      "source": [
        "\n",
        "### Retransformation des dataFrames"
      ],
      "metadata": {
        "id": "7R0ygTUuCaEe"
      }
    },
    {
      "cell_type": "code",
      "source": [
        "train_features = pd.DataFrame(train_features, columns = X.columns)\n",
        "X_val = pd.DataFrame(X_val, columns = X.columns)\n",
        "X_test = pd.DataFrame(X_test, columns = X.columns)"
      ],
      "metadata": {
        "id": "0E_jNVPxCXM2"
      },
      "execution_count": null,
      "outputs": []
    },
    {
      "cell_type": "markdown",
      "source": [
        "### Verification si tous les valeurs sont entre 0 et 1"
      ],
      "metadata": {
        "id": "aedtp9fzCi2s"
      }
    },
    {
      "cell_type": "code",
      "source": [
        "train_features.describe()"
      ],
      "metadata": {
        "colab": {
          "base_uri": "https://localhost:8080/",
          "height": 300
        },
        "id": "eKt6sZIBCgkw",
        "outputId": "88d1809f-04d9-476b-ff28-04b559f09b7d"
      },
      "execution_count": null,
      "outputs": [
        {
          "output_type": "execute_result",
          "data": {
            "text/plain": [
              "       Pregnancies     Glucose  BloodPressure  SkinThickness     Insulin  \\\n",
              "count   598.000000  598.000000     598.000000     598.000000  598.000000   \n",
              "mean      0.410018    0.625830       0.564477       0.466763    0.219100   \n",
              "std       0.251696    0.165418       0.176801       0.328232    0.234553   \n",
              "min       0.000000    0.000000       0.000000       0.000000    0.000000   \n",
              "25%       0.242536    0.512563       0.524590       0.000000    0.000000   \n",
              "50%       0.420084    0.613065       0.590164       0.617213    0.216040   \n",
              "75%       0.594089    0.728643       0.655738       0.712697    0.415067   \n",
              "max       1.000000    1.000000       1.000000       1.000000    1.000000   \n",
              "\n",
              "              BMI  DiabetesPedigreeFunction         Age  \n",
              "count  598.000000                598.000000  598.000000  \n",
              "mean     0.558227                  0.176500    0.287301  \n",
              "std      0.129263                  0.145988    0.231395  \n",
              "min      0.000000                  0.000000    0.000000  \n",
              "25%      0.486532                  0.075149    0.106958  \n",
              "50%      0.558923                  0.131725    0.229238  \n",
              "75%      0.638047                  0.254483    0.446352  \n",
              "max      1.000000                  1.000000    1.000000  "
            ],
            "text/html": [
              "\n",
              "  <div id=\"df-72235616-e420-4169-a96d-140b067e9ab5\">\n",
              "    <div class=\"colab-df-container\">\n",
              "      <div>\n",
              "<style scoped>\n",
              "    .dataframe tbody tr th:only-of-type {\n",
              "        vertical-align: middle;\n",
              "    }\n",
              "\n",
              "    .dataframe tbody tr th {\n",
              "        vertical-align: top;\n",
              "    }\n",
              "\n",
              "    .dataframe thead th {\n",
              "        text-align: right;\n",
              "    }\n",
              "</style>\n",
              "<table border=\"1\" class=\"dataframe\">\n",
              "  <thead>\n",
              "    <tr style=\"text-align: right;\">\n",
              "      <th></th>\n",
              "      <th>Pregnancies</th>\n",
              "      <th>Glucose</th>\n",
              "      <th>BloodPressure</th>\n",
              "      <th>SkinThickness</th>\n",
              "      <th>Insulin</th>\n",
              "      <th>BMI</th>\n",
              "      <th>DiabetesPedigreeFunction</th>\n",
              "      <th>Age</th>\n",
              "    </tr>\n",
              "  </thead>\n",
              "  <tbody>\n",
              "    <tr>\n",
              "      <th>count</th>\n",
              "      <td>598.000000</td>\n",
              "      <td>598.000000</td>\n",
              "      <td>598.000000</td>\n",
              "      <td>598.000000</td>\n",
              "      <td>598.000000</td>\n",
              "      <td>598.000000</td>\n",
              "      <td>598.000000</td>\n",
              "      <td>598.000000</td>\n",
              "    </tr>\n",
              "    <tr>\n",
              "      <th>mean</th>\n",
              "      <td>0.410018</td>\n",
              "      <td>0.625830</td>\n",
              "      <td>0.564477</td>\n",
              "      <td>0.466763</td>\n",
              "      <td>0.219100</td>\n",
              "      <td>0.558227</td>\n",
              "      <td>0.176500</td>\n",
              "      <td>0.287301</td>\n",
              "    </tr>\n",
              "    <tr>\n",
              "      <th>std</th>\n",
              "      <td>0.251696</td>\n",
              "      <td>0.165418</td>\n",
              "      <td>0.176801</td>\n",
              "      <td>0.328232</td>\n",
              "      <td>0.234553</td>\n",
              "      <td>0.129263</td>\n",
              "      <td>0.145988</td>\n",
              "      <td>0.231395</td>\n",
              "    </tr>\n",
              "    <tr>\n",
              "      <th>min</th>\n",
              "      <td>0.000000</td>\n",
              "      <td>0.000000</td>\n",
              "      <td>0.000000</td>\n",
              "      <td>0.000000</td>\n",
              "      <td>0.000000</td>\n",
              "      <td>0.000000</td>\n",
              "      <td>0.000000</td>\n",
              "      <td>0.000000</td>\n",
              "    </tr>\n",
              "    <tr>\n",
              "      <th>25%</th>\n",
              "      <td>0.242536</td>\n",
              "      <td>0.512563</td>\n",
              "      <td>0.524590</td>\n",
              "      <td>0.000000</td>\n",
              "      <td>0.000000</td>\n",
              "      <td>0.486532</td>\n",
              "      <td>0.075149</td>\n",
              "      <td>0.106958</td>\n",
              "    </tr>\n",
              "    <tr>\n",
              "      <th>50%</th>\n",
              "      <td>0.420084</td>\n",
              "      <td>0.613065</td>\n",
              "      <td>0.590164</td>\n",
              "      <td>0.617213</td>\n",
              "      <td>0.216040</td>\n",
              "      <td>0.558923</td>\n",
              "      <td>0.131725</td>\n",
              "      <td>0.229238</td>\n",
              "    </tr>\n",
              "    <tr>\n",
              "      <th>75%</th>\n",
              "      <td>0.594089</td>\n",
              "      <td>0.728643</td>\n",
              "      <td>0.655738</td>\n",
              "      <td>0.712697</td>\n",
              "      <td>0.415067</td>\n",
              "      <td>0.638047</td>\n",
              "      <td>0.254483</td>\n",
              "      <td>0.446352</td>\n",
              "    </tr>\n",
              "    <tr>\n",
              "      <th>max</th>\n",
              "      <td>1.000000</td>\n",
              "      <td>1.000000</td>\n",
              "      <td>1.000000</td>\n",
              "      <td>1.000000</td>\n",
              "      <td>1.000000</td>\n",
              "      <td>1.000000</td>\n",
              "      <td>1.000000</td>\n",
              "      <td>1.000000</td>\n",
              "    </tr>\n",
              "  </tbody>\n",
              "</table>\n",
              "</div>\n",
              "      <button class=\"colab-df-convert\" onclick=\"convertToInteractive('df-72235616-e420-4169-a96d-140b067e9ab5')\"\n",
              "              title=\"Convert this dataframe to an interactive table.\"\n",
              "              style=\"display:none;\">\n",
              "        \n",
              "  <svg xmlns=\"http://www.w3.org/2000/svg\" height=\"24px\"viewBox=\"0 0 24 24\"\n",
              "       width=\"24px\">\n",
              "    <path d=\"M0 0h24v24H0V0z\" fill=\"none\"/>\n",
              "    <path d=\"M18.56 5.44l.94 2.06.94-2.06 2.06-.94-2.06-.94-.94-2.06-.94 2.06-2.06.94zm-11 1L8.5 8.5l.94-2.06 2.06-.94-2.06-.94L8.5 2.5l-.94 2.06-2.06.94zm10 10l.94 2.06.94-2.06 2.06-.94-2.06-.94-.94-2.06-.94 2.06-2.06.94z\"/><path d=\"M17.41 7.96l-1.37-1.37c-.4-.4-.92-.59-1.43-.59-.52 0-1.04.2-1.43.59L10.3 9.45l-7.72 7.72c-.78.78-.78 2.05 0 2.83L4 21.41c.39.39.9.59 1.41.59.51 0 1.02-.2 1.41-.59l7.78-7.78 2.81-2.81c.8-.78.8-2.07 0-2.86zM5.41 20L4 18.59l7.72-7.72 1.47 1.35L5.41 20z\"/>\n",
              "  </svg>\n",
              "      </button>\n",
              "      \n",
              "  <style>\n",
              "    .colab-df-container {\n",
              "      display:flex;\n",
              "      flex-wrap:wrap;\n",
              "      gap: 12px;\n",
              "    }\n",
              "\n",
              "    .colab-df-convert {\n",
              "      background-color: #E8F0FE;\n",
              "      border: none;\n",
              "      border-radius: 50%;\n",
              "      cursor: pointer;\n",
              "      display: none;\n",
              "      fill: #1967D2;\n",
              "      height: 32px;\n",
              "      padding: 0 0 0 0;\n",
              "      width: 32px;\n",
              "    }\n",
              "\n",
              "    .colab-df-convert:hover {\n",
              "      background-color: #E2EBFA;\n",
              "      box-shadow: 0px 1px 2px rgba(60, 64, 67, 0.3), 0px 1px 3px 1px rgba(60, 64, 67, 0.15);\n",
              "      fill: #174EA6;\n",
              "    }\n",
              "\n",
              "    [theme=dark] .colab-df-convert {\n",
              "      background-color: #3B4455;\n",
              "      fill: #D2E3FC;\n",
              "    }\n",
              "\n",
              "    [theme=dark] .colab-df-convert:hover {\n",
              "      background-color: #434B5C;\n",
              "      box-shadow: 0px 1px 3px 1px rgba(0, 0, 0, 0.15);\n",
              "      filter: drop-shadow(0px 1px 2px rgba(0, 0, 0, 0.3));\n",
              "      fill: #FFFFFF;\n",
              "    }\n",
              "  </style>\n",
              "\n",
              "      <script>\n",
              "        const buttonEl =\n",
              "          document.querySelector('#df-72235616-e420-4169-a96d-140b067e9ab5 button.colab-df-convert');\n",
              "        buttonEl.style.display =\n",
              "          google.colab.kernel.accessAllowed ? 'block' : 'none';\n",
              "\n",
              "        async function convertToInteractive(key) {\n",
              "          const element = document.querySelector('#df-72235616-e420-4169-a96d-140b067e9ab5');\n",
              "          const dataTable =\n",
              "            await google.colab.kernel.invokeFunction('convertToInteractive',\n",
              "                                                     [key], {});\n",
              "          if (!dataTable) return;\n",
              "\n",
              "          const docLinkHtml = 'Like what you see? Visit the ' +\n",
              "            '<a target=\"_blank\" href=https://colab.research.google.com/notebooks/data_table.ipynb>data table notebook</a>'\n",
              "            + ' to learn more about interactive tables.';\n",
              "          element.innerHTML = '';\n",
              "          dataTable['output_type'] = 'display_data';\n",
              "          await google.colab.output.renderOutput(dataTable, element);\n",
              "          const docLink = document.createElement('div');\n",
              "          docLink.innerHTML = docLinkHtml;\n",
              "          element.appendChild(docLink);\n",
              "        }\n",
              "      </script>\n",
              "    </div>\n",
              "  </div>\n",
              "  "
            ]
          },
          "metadata": {},
          "execution_count": 59
        }
      ]
    },
    {
      "cell_type": "markdown",
      "source": [
        "## Modelisation"
      ],
      "metadata": {
        "id": "H8ubBHK3CuK4"
      }
    },
    {
      "cell_type": "code",
      "source": [
        "from sklearn.ensemble import RandomForestClassifier"
      ],
      "metadata": {
        "id": "ZVHALsBxCqNu"
      },
      "execution_count": null,
      "outputs": []
    },
    {
      "cell_type": "code",
      "source": [
        "rf = RandomForestClassifier()\n",
        "\n",
        "rf.fit(train_features, train_labels)\n",
        "print(classification_report(y_val, rf.predict(X_val)))"
      ],
      "metadata": {
        "colab": {
          "base_uri": "https://localhost:8080/"
        },
        "id": "RMb2669rCx3P",
        "outputId": "6df5072a-e86d-481c-d47d-12d4b9dea434"
      },
      "execution_count": null,
      "outputs": [
        {
          "output_type": "stream",
          "name": "stdout",
          "text": [
            "              precision    recall  f1-score   support\n",
            "\n",
            "           0       0.80      0.88      0.84       120\n",
            "           1       0.72      0.59      0.65        64\n",
            "\n",
            "    accuracy                           0.78       184\n",
            "   macro avg       0.76      0.73      0.74       184\n",
            "weighted avg       0.77      0.78      0.77       184\n",
            "\n"
          ]
        }
      ]
    },
    {
      "cell_type": "markdown",
      "source": [
        "### Importance des variables independantes"
      ],
      "metadata": {
        "id": "xX2bXa51DHMM"
      }
    },
    {
      "cell_type": "code",
      "source": [
        "plt.figure(figsize=(14, 6))\n",
        "vars_imp = pd.Series(rf.feature_importances_, index = train_features.columns).sort_values(ascending=False)\n",
        "\n",
        "sns.barplot(x = vars_imp.index, y=vars_imp)\n",
        "plt.xticks(rotation=90)\n",
        "plt.xlabel('variables')\n",
        "plt.ylabel(\"Score d' importance de la variable\")\n",
        "plt.title('Importance des variables predictrices')\n",
        "plt.show()"
      ],
      "metadata": {
        "colab": {
          "base_uri": "https://localhost:8080/",
          "height": 731
        },
        "id": "AIA51b5GDCrb",
        "outputId": "5d279ee3-e6fb-4d68-dcd7-8076c88c5b6e"
      },
      "execution_count": null,
      "outputs": [
        {
          "output_type": "display_data",
          "data": {
            "text/plain": [
              "<Figure size 1400x600 with 1 Axes>"
            ],
            "image/png": "[encoded data removed]"
          },
          "metadata": {}
        }
      ]
    },
    {
      "cell_type": "code",
      "source": [
        "len(train_features.columns)"
      ],
      "metadata": {
        "colab": {
          "base_uri": "https://localhost:8080/"
        },
        "id": "aO6qQKQuC1h_",
        "outputId": "12988c47-a5e9-4083-c027-36caa069a60a"
      },
      "execution_count": null,
      "outputs": [
        {
          "output_type": "execute_result",
          "data": {
            "text/plain": [
              "8"
            ]
          },
          "metadata": {},
          "execution_count": 63
        }
      ]
    },
    {
      "cell_type": "markdown",
      "source": [
        "## Modele de regression logistique\n",
        "\n",
        "### Dictionnaire des hyperparametres"
      ],
      "metadata": {
        "id": "zy0_YWPHDVbm"
      }
    },
    {
      "cell_type": "code",
      "source": [
        "param_grid = {'C':[0.001, 0.01, 1, 10, 50, 100, 500]}"
      ],
      "metadata": {
        "id": "IfcoT9tADUMI"
      },
      "execution_count": null,
      "outputs": []
    },
    {
      "cell_type": "markdown",
      "source": [
        "### Objet GridSearchCV\n"
      ],
      "metadata": {
        "id": "sm9SkGOfDjpg"
      }
    },
    {
      "cell_type": "code",
      "source": [
        "grid_logreg_class = GridSearchCV(estimator=LogisticRegression(random_state=seed, max_iter=500), param_grid=param_grid,scoring='f1', cv=5)"
      ],
      "metadata": {
        "id": "KFkheMqhDg3u"
      },
      "execution_count": null,
      "outputs": []
    },
    {
      "cell_type": "markdown",
      "source": [
        "### Entrainement de l'algorithme"
      ],
      "metadata": {
        "id": "IzQzNoCdDp6K"
      }
    },
    {
      "cell_type": "code",
      "source": [
        "logreg_model = grid_logreg_class.fit(train_features, train_labels)"
      ],
      "metadata": {
        "id": "dvGAca-EDoYu"
      },
      "execution_count": null,
      "outputs": []
    },
    {
      "cell_type": "markdown",
      "source": [
        "### Meilleur Score et meilleur hyperparametre"
      ],
      "metadata": {
        "id": "64zEjME1D1cE"
      }
    },
    {
      "cell_type": "code",
      "source": [
        "print(round(logreg_model.best_score_, 3))"
      ],
      "metadata": {
        "colab": {
          "base_uri": "https://localhost:8080/"
        },
        "id": "RI5F2_yxDv3Z",
        "outputId": "45eb5970-69a0-4670-b93f-d705556a61d6"
      },
      "execution_count": null,
      "outputs": [
        {
          "output_type": "stream",
          "name": "stdout",
          "text": [
            "0.73\n"
          ]
        }
      ]
    },
    {
      "cell_type": "code",
      "source": [
        "print(logreg_model.best_estimator_)"
      ],
      "metadata": {
        "colab": {
          "base_uri": "https://localhost:8080/"
        },
        "id": "4AjmGiCND41C",
        "outputId": "70a172fd-6706-4734-c896-3554a6c2eb5a"
      },
      "execution_count": null,
      "outputs": [
        {
          "output_type": "stream",
          "name": "stdout",
          "text": [
            "LogisticRegression(C=100, max_iter=500, random_state=12)\n"
          ]
        }
      ]
    },
    {
      "cell_type": "markdown",
      "source": [
        "### Fonction d'evalution de la performance d'un modele\n"
      ],
      "metadata": {
        "id": "udvCD0weECNO"
      }
    },
    {
      "cell_type": "code",
      "source": [
        "def model_evaluation(model, features, labels):\n",
        "    pred = model.predict(features)\n",
        "    print(classification_report(labels, pred))"
      ],
      "metadata": {
        "id": "D-N02YidD8uz"
      },
      "execution_count": null,
      "outputs": []
    },
    {
      "cell_type": "markdown",
      "source": [
        "### Evaluation du modele de regression logistique"
      ],
      "metadata": {
        "id": "HRwwqKXeEMvx"
      }
    },
    {
      "cell_type": "code",
      "source": [
        "model_evaluation(logreg_model, X_val, y_val)"
      ],
      "metadata": {
        "colab": {
          "base_uri": "https://localhost:8080/"
        },
        "id": "BQENQNEzEHhN",
        "outputId": "6c84e697-51f8-4646-a0c1-db107645ae21"
      },
      "execution_count": null,
      "outputs": [
        {
          "output_type": "stream",
          "name": "stdout",
          "text": [
            "              precision    recall  f1-score   support\n",
            "\n",
            "           0       0.87      0.78      0.82       120\n",
            "           1       0.66      0.78      0.71        64\n",
            "\n",
            "    accuracy                           0.78       184\n",
            "   macro avg       0.76      0.78      0.77       184\n",
            "weighted avg       0.80      0.78      0.79       184\n",
            "\n"
          ]
        }
      ]
    },
    {
      "cell_type": "markdown",
      "source": [
        "### Application de l'algorithme RECURSIVE FEATURE ELIMINATOR(RFE) pour voir s'il garge la meme performance lorqu'on reduit le nombre de predicteur : permet de faire la selection des meilleurs variables predictrices: permet de donnee la meilleur performance de mon model\n",
        "\n",
        "### Creation d'une fonction de construction  d'un modele avec utilisation de l'algorithme RFE"
      ],
      "metadata": {
        "id": "N1KGa40dEXtR"
      }
    },
    {
      "cell_type": "code",
      "source": [
        "def model_with_rfe(model):\n",
        "    rfe_model = RFE(estimator=model, verbose=0)\n",
        "    rfe_model.fit(train_features, train_labels)\n",
        "    mask = rfe_model.support_\n",
        "    reduced_X = train_features.loc[:, mask]\n",
        "    print(reduced_X.columns)\n",
        "    return rfe_model"
      ],
      "metadata": {
        "id": "sZ4x5ekzEQdV"
      },
      "execution_count": null,
      "outputs": []
    },
    {
      "cell_type": "markdown",
      "source": [
        "### Logistic Regression RFE"
      ],
      "metadata": {
        "id": "Q2idxvaMEjxI"
      }
    },
    {
      "cell_type": "code",
      "source": [
        "rfe_logreg_model = model_with_rfe(logreg_model.best_estimator_)\n",
        "\n",
        "rfe_logreg_model"
      ],
      "metadata": {
        "colab": {
          "base_uri": "https://localhost:8080/",
          "height": 135
        },
        "id": "hIvadJN6EgRG",
        "outputId": "d7e48831-ea75-419d-ea8a-8ffaf6c71b0c"
      },
      "execution_count": null,
      "outputs": [
        {
          "output_type": "stream",
          "name": "stdout",
          "text": [
            "Index(['Pregnancies', 'Glucose', 'BloodPressure', 'BMI'], dtype='object')\n"
          ]
        },
        {
          "output_type": "execute_result",
          "data": {
            "text/plain": [
              "RFE(estimator=LogisticRegression(C=100, max_iter=500, random_state=12))"
            ],
            "text/html": [
              "<style>#sk-container-id-1 {color: black;background-color: white;}#sk-container-id-1 pre{padding: 0;}#sk-container-id-1 div.sk-toggleable {background-color: white;}#sk-container-id-1 label.sk-toggleable__label {cursor: pointer;display: block;width: 100%;margin-bottom: 0;padding: 0.3em;box-sizing: border-box;text-align: center;}#sk-container-id-1 label.sk-toggleable__label-arrow:before {content: \"▸\";float: left;margin-right: 0.25em;color: #696969;}#sk-container-id-1 label.sk-toggleable__label-arrow:hover:before {color: black;}#sk-container-id-1 div.sk-estimator:hover label.sk-toggleable__label-arrow:before {color: black;}#sk-container-id-1 div.sk-toggleable__content {max-height: 0;max-width: 0;overflow: hidden;text-align: left;background-color: #f0f8ff;}#sk-container-id-1 div.sk-toggleable__content pre {margin: 0.2em;color: black;border-radius: 0.25em;background-color: #f0f8ff;}#sk-container-id-1 input.sk-toggleable__control:checked~div.sk-toggleable__content {max-height: 200px;max-width: 100%;overflow: auto;}#sk-container-id-1 input.sk-toggleable__control:checked~label.sk-toggleable__label-arrow:before {content: \"▾\";}#sk-container-id-1 div.sk-estimator input.sk-toggleable__control:checked~label.sk-toggleable__label {background-color: #d4ebff;}#sk-container-id-1 div.sk-label input.sk-toggleable__control:checked~label.sk-toggleable__label {background-color: #d4ebff;}#sk-container-id-1 input.sk-hidden--visually {border: 0;clip: rect(1px 1px 1px 1px);clip: rect(1px, 1px, 1px, 1px);height: 1px;margin: -1px;overflow: hidden;padding: 0;position: absolute;width: 1px;}#sk-container-id-1 div.sk-estimator {font-family: monospace;background-color: #f0f8ff;border: 1px dotted black;border-radius: 0.25em;box-sizing: border-box;margin-bottom: 0.5em;}#sk-container-id-1 div.sk-estimator:hover {background-color: #d4ebff;}#sk-container-id-1 div.sk-parallel-item::after {content: \"\";width: 100%;border-bottom: 1px solid gray;flex-grow: 1;}#sk-container-id-1 div.sk-label:hover label.sk-toggleable__label {background-color: #d4ebff;}#sk-container-id-1 div.sk-serial::before {content: \"\";position: absolute;border-left: 1px solid gray;box-sizing: border-box;top: 0;bottom: 0;left: 50%;z-index: 0;}#sk-container-id-1 div.sk-serial {display: flex;flex-direction: column;align-items: center;background-color: white;padding-right: 0.2em;padding-left: 0.2em;position: relative;}#sk-container-id-1 div.sk-item {position: relative;z-index: 1;}#sk-container-id-1 div.sk-parallel {display: flex;align-items: stretch;justify-content: center;background-color: white;position: relative;}#sk-container-id-1 div.sk-item::before, #sk-container-id-1 div.sk-parallel-item::before {content: \"\";position: absolute;border-left: 1px solid gray;box-sizing: border-box;top: 0;bottom: 0;left: 50%;z-index: -1;}#sk-container-id-1 div.sk-parallel-item {display: flex;flex-direction: column;z-index: 1;position: relative;background-color: white;}#sk-container-id-1 div.sk-parallel-item:first-child::after {align-self: flex-end;width: 50%;}#sk-container-id-1 div.sk-parallel-item:last-child::after {align-self: flex-start;width: 50%;}#sk-container-id-1 div.sk-parallel-item:only-child::after {width: 0;}#sk-container-id-1 div.sk-dashed-wrapped {border: 1px dashed gray;margin: 0 0.4em 0.5em 0.4em;box-sizing: border-box;padding-bottom: 0.4em;background-color: white;}#sk-container-id-1 div.sk-label label {font-family: monospace;font-weight: bold;display: inline-block;line-height: 1.2em;}#sk-container-id-1 div.sk-label-container {text-align: center;}#sk-container-id-1 div.sk-container {/* jupyter's `normalize.less` sets `[hidden] { display: none; }` but bootstrap.min.css set `[hidden] { display: none !important; }` so we also need the `!important` here to be able to override the default hidden behavior on the sphinx rendered scikit-learn.org. See: https://github.com/scikit-learn/scikit-learn/issues/21755 */display: inline-block !important;position: relative;}#sk-container-id-1 div.sk-text-repr-fallback {display: none;}</style><div id=\"sk-container-id-1\" class=\"sk-top-container\"><div class=\"sk-text-repr-fallback\"><pre>RFE(estimator=LogisticRegression(C=100, max_iter=500, random_state=12))</pre><b>In a Jupyter environment, please rerun this cell to show the HTML representation or trust the notebook. <br />On GitHub, the HTML representation is unable to render, please try loading this page with nbviewer.org.</b></div><div class=\"sk-container\" hidden><div class=\"sk-item sk-dashed-wrapped\"><div class=\"sk-label-container\"><div class=\"sk-label sk-toggleable\"><input class=\"sk-toggleable__control sk-hidden--visually\" id=\"sk-estimator-id-1\" type=\"checkbox\" ><label for=\"sk-estimator-id-1\" class=\"sk-toggleable__label sk-toggleable__label-arrow\">RFE</label><div class=\"sk-toggleable__content\"><pre>RFE(estimator=LogisticRegression(C=100, max_iter=500, random_state=12))</pre></div></div></div><div class=\"sk-parallel\"><div class=\"sk-parallel-item\"><div class=\"sk-item\"><div class=\"sk-label-container\"><div class=\"sk-label sk-toggleable\"><input class=\"sk-toggleable__control sk-hidden--visually\" id=\"sk-estimator-id-2\" type=\"checkbox\" ><label for=\"sk-estimator-id-2\" class=\"sk-toggleable__label sk-toggleable__label-arrow\">estimator: LogisticRegression</label><div class=\"sk-toggleable__content\"><pre>LogisticRegression(C=100, max_iter=500, random_state=12)</pre></div></div></div><div class=\"sk-serial\"><div class=\"sk-item\"><div class=\"sk-estimator sk-toggleable\"><input class=\"sk-toggleable__control sk-hidden--visually\" id=\"sk-estimator-id-3\" type=\"checkbox\" ><label for=\"sk-estimator-id-3\" class=\"sk-toggleable__label sk-toggleable__label-arrow\">LogisticRegression</label><div class=\"sk-toggleable__content\"><pre>LogisticRegression(C=100, max_iter=500, random_state=12)</pre></div></div></div></div></div></div></div></div></div></div>"
            ]
          },
          "metadata": {},
          "execution_count": 72
        }
      ]
    },
    {
      "cell_type": "markdown",
      "source": [
        "### Evaluation du modele de regression logistique avec RFE"
      ],
      "metadata": {
        "id": "y5PcFefLEtzI"
      }
    },
    {
      "cell_type": "code",
      "source": [
        "model_evaluation(rfe_logreg_model, X_val, y_val)"
      ],
      "metadata": {
        "colab": {
          "base_uri": "https://localhost:8080/"
        },
        "id": "HfsgR3ITEo06",
        "outputId": "22440451-235b-4fa5-f8a6-41ba582f44af"
      },
      "execution_count": null,
      "outputs": [
        {
          "output_type": "stream",
          "name": "stdout",
          "text": [
            "              precision    recall  f1-score   support\n",
            "\n",
            "           0       0.84      0.76      0.80       120\n",
            "           1       0.62      0.73      0.67        64\n",
            "\n",
            "    accuracy                           0.75       184\n",
            "   macro avg       0.73      0.75      0.73       184\n",
            "weighted avg       0.76      0.75      0.75       184\n",
            "\n"
          ]
        }
      ]
    },
    {
      "cell_type": "markdown",
      "source": [
        "### RFE a reduit  le nombre de prediction de 8 a 4 et que l'accuracy du modele s'est dimunier\n",
        "\n",
        "### Passons a l'algorithme de foret aleatoire\n",
        "\n",
        "### Dictionnaire des hyperparametres"
      ],
      "metadata": {
        "id": "5tNUQ5Z_E4pv"
      }
    },
    {
      "cell_type": "code",
      "source": [
        "param_grid_rf = {'n_estimators':[10, 50, 100, 500, 1000],'max_depth':[3, 5, 10, 20, None]}"
      ],
      "metadata": {
        "id": "jEm9sDBDEyvU"
      },
      "execution_count": null,
      "outputs": []
    },
    {
      "cell_type": "markdown",
      "source": [
        "\n",
        "### Objet GridSearchCV"
      ],
      "metadata": {
        "id": "YNsBzox1FHpq"
      }
    },
    {
      "cell_type": "code",
      "source": [
        "from sklearn.ensemble import RandomForestClassifier"
      ],
      "metadata": {
        "id": "_QBm3LOzFET_"
      },
      "execution_count": null,
      "outputs": []
    },
    {
      "cell_type": "code",
      "source": [
        "\n",
        "grid_rf_class = GridSearchCV(estimator=RandomForestClassifier(random_state=seed), param_grid = param_grid_rf,scoring='f1', cv=5)"
      ],
      "metadata": {
        "id": "WQ3-LCsVFPzv"
      },
      "execution_count": null,
      "outputs": []
    },
    {
      "cell_type": "markdown",
      "source": [
        "### Entrainement de l'algorithme"
      ],
      "metadata": {
        "id": "zrh6HtfVFYAo"
      }
    },
    {
      "cell_type": "code",
      "source": [
        "rf_model = grid_rf_class.fit(train_features, train_labels)"
      ],
      "metadata": {
        "id": "5tLjP9F3FS-7"
      },
      "execution_count": null,
      "outputs": []
    },
    {
      "cell_type": "markdown",
      "source": [
        "### Meilleur score et meilleur hyperparametre"
      ],
      "metadata": {
        "id": "_d-Ykz8JFih6"
      }
    },
    {
      "cell_type": "code",
      "source": [
        "print(round(rf_model.best_score_, 3))"
      ],
      "metadata": {
        "colab": {
          "base_uri": "https://localhost:8080/"
        },
        "id": "2DIwwZ_oFdxj",
        "outputId": "40f4ef5f-8564-4717-f88b-ac9189e5512d"
      },
      "execution_count": null,
      "outputs": [
        {
          "output_type": "stream",
          "name": "stdout",
          "text": [
            "0.87\n"
          ]
        }
      ]
    },
    {
      "cell_type": "code",
      "source": [
        "print(rf_model.best_estimator_)"
      ],
      "metadata": {
        "colab": {
          "base_uri": "https://localhost:8080/"
        },
        "id": "6GQZ6ApKFsSU",
        "outputId": "4d0363db-54ab-41dc-ff78-67d1f0783f91"
      },
      "execution_count": null,
      "outputs": [
        {
          "output_type": "stream",
          "name": "stdout",
          "text": [
            "RandomForestClassifier(max_depth=20, random_state=12)\n"
          ]
        }
      ]
    },
    {
      "cell_type": "markdown",
      "source": [
        "### Evaluation du modele de foret aleatoire"
      ],
      "metadata": {
        "id": "GHcE9s26F3ih"
      }
    },
    {
      "cell_type": "code",
      "source": [
        "model_evaluation(rf_model.best_estimator_, X_val, y_val)"
      ],
      "metadata": {
        "colab": {
          "base_uri": "https://localhost:8080/"
        },
        "id": "5tcUYt3QFzFR",
        "outputId": "1298f936-dacb-4db3-ba6b-8b31a32471ac"
      },
      "execution_count": null,
      "outputs": [
        {
          "output_type": "stream",
          "name": "stdout",
          "text": [
            "              precision    recall  f1-score   support\n",
            "\n",
            "           0       0.80      0.88      0.84       120\n",
            "           1       0.73      0.58      0.64        64\n",
            "\n",
            "    accuracy                           0.78       184\n",
            "   macro avg       0.76      0.73      0.74       184\n",
            "weighted avg       0.77      0.78      0.77       184\n",
            "\n"
          ]
        }
      ]
    },
    {
      "cell_type": "markdown",
      "source": [
        "### Compare aux valeurs du modele de regression logistique , le modele de foret aleatoire on meme accuracy"
      ],
      "metadata": {
        "id": "otp04G5rP3r8"
      }
    },
    {
      "cell_type": "markdown",
      "source": [
        "### Random Forest avec RFE"
      ],
      "metadata": {
        "id": "eIXjUDCGQWgi"
      }
    },
    {
      "cell_type": "code",
      "source": [
        "rfe_forest_model = model_with_rfe(rf_model.best_estimator_)\n",
        "\n",
        "rfe_forest_model"
      ],
      "metadata": {
        "colab": {
          "base_uri": "https://localhost:8080/",
          "height": 135
        },
        "id": "bLQ-gckzF7u3",
        "outputId": "f501ecc8-60b1-4b60-8f06-d2f479472d24"
      },
      "execution_count": null,
      "outputs": [
        {
          "output_type": "stream",
          "name": "stdout",
          "text": [
            "Index(['Glucose', 'BMI', 'DiabetesPedigreeFunction', 'Age'], dtype='object')\n"
          ]
        },
        {
          "output_type": "execute_result",
          "data": {
            "text/plain": [
              "RFE(estimator=RandomForestClassifier(max_depth=20, random_state=12))"
            ],
            "text/html": [
              "<style>#sk-container-id-2 {color: black;background-color: white;}#sk-container-id-2 pre{padding: 0;}#sk-container-id-2 div.sk-toggleable {background-color: white;}#sk-container-id-2 label.sk-toggleable__label {cursor: pointer;display: block;width: 100%;margin-bottom: 0;padding: 0.3em;box-sizing: border-box;text-align: center;}#sk-container-id-2 label.sk-toggleable__label-arrow:before {content: \"▸\";float: left;margin-right: 0.25em;color: #696969;}#sk-container-id-2 label.sk-toggleable__label-arrow:hover:before {color: black;}#sk-container-id-2 div.sk-estimator:hover label.sk-toggleable__label-arrow:before {color: black;}#sk-container-id-2 div.sk-toggleable__content {max-height: 0;max-width: 0;overflow: hidden;text-align: left;background-color: #f0f8ff;}#sk-container-id-2 div.sk-toggleable__content pre {margin: 0.2em;color: black;border-radius: 0.25em;background-color: #f0f8ff;}#sk-container-id-2 input.sk-toggleable__control:checked~div.sk-toggleable__content {max-height: 200px;max-width: 100%;overflow: auto;}#sk-container-id-2 input.sk-toggleable__control:checked~label.sk-toggleable__label-arrow:before {content: \"▾\";}#sk-container-id-2 div.sk-estimator input.sk-toggleable__control:checked~label.sk-toggleable__label {background-color: #d4ebff;}#sk-container-id-2 div.sk-label input.sk-toggleable__control:checked~label.sk-toggleable__label {background-color: #d4ebff;}#sk-container-id-2 input.sk-hidden--visually {border: 0;clip: rect(1px 1px 1px 1px);clip: rect(1px, 1px, 1px, 1px);height: 1px;margin: -1px;overflow: hidden;padding: 0;position: absolute;width: 1px;}#sk-container-id-2 div.sk-estimator {font-family: monospace;background-color: #f0f8ff;border: 1px dotted black;border-radius: 0.25em;box-sizing: border-box;margin-bottom: 0.5em;}#sk-container-id-2 div.sk-estimator:hover {background-color: #d4ebff;}#sk-container-id-2 div.sk-parallel-item::after {content: \"\";width: 100%;border-bottom: 1px solid gray;flex-grow: 1;}#sk-container-id-2 div.sk-label:hover label.sk-toggleable__label {background-color: #d4ebff;}#sk-container-id-2 div.sk-serial::before {content: \"\";position: absolute;border-left: 1px solid gray;box-sizing: border-box;top: 0;bottom: 0;left: 50%;z-index: 0;}#sk-container-id-2 div.sk-serial {display: flex;flex-direction: column;align-items: center;background-color: white;padding-right: 0.2em;padding-left: 0.2em;position: relative;}#sk-container-id-2 div.sk-item {position: relative;z-index: 1;}#sk-container-id-2 div.sk-parallel {display: flex;align-items: stretch;justify-content: center;background-color: white;position: relative;}#sk-container-id-2 div.sk-item::before, #sk-container-id-2 div.sk-parallel-item::before {content: \"\";position: absolute;border-left: 1px solid gray;box-sizing: border-box;top: 0;bottom: 0;left: 50%;z-index: -1;}#sk-container-id-2 div.sk-parallel-item {display: flex;flex-direction: column;z-index: 1;position: relative;background-color: white;}#sk-container-id-2 div.sk-parallel-item:first-child::after {align-self: flex-end;width: 50%;}#sk-container-id-2 div.sk-parallel-item:last-child::after {align-self: flex-start;width: 50%;}#sk-container-id-2 div.sk-parallel-item:only-child::after {width: 0;}#sk-container-id-2 div.sk-dashed-wrapped {border: 1px dashed gray;margin: 0 0.4em 0.5em 0.4em;box-sizing: border-box;padding-bottom: 0.4em;background-color: white;}#sk-container-id-2 div.sk-label label {font-family: monospace;font-weight: bold;display: inline-block;line-height: 1.2em;}#sk-container-id-2 div.sk-label-container {text-align: center;}#sk-container-id-2 div.sk-container {/* jupyter's `normalize.less` sets `[hidden] { display: none; }` but bootstrap.min.css set `[hidden] { display: none !important; }` so we also need the `!important` here to be able to override the default hidden behavior on the sphinx rendered scikit-learn.org. See: https://github.com/scikit-learn/scikit-learn/issues/21755 */display: inline-block !important;position: relative;}#sk-container-id-2 div.sk-text-repr-fallback {display: none;}</style><div id=\"sk-container-id-2\" class=\"sk-top-container\"><div class=\"sk-text-repr-fallback\"><pre>RFE(estimator=RandomForestClassifier(max_depth=20, random_state=12))</pre><b>In a Jupyter environment, please rerun this cell to show the HTML representation or trust the notebook. <br />On GitHub, the HTML representation is unable to render, please try loading this page with nbviewer.org.</b></div><div class=\"sk-container\" hidden><div class=\"sk-item sk-dashed-wrapped\"><div class=\"sk-label-container\"><div class=\"sk-label sk-toggleable\"><input class=\"sk-toggleable__control sk-hidden--visually\" id=\"sk-estimator-id-4\" type=\"checkbox\" ><label for=\"sk-estimator-id-4\" class=\"sk-toggleable__label sk-toggleable__label-arrow\">RFE</label><div class=\"sk-toggleable__content\"><pre>RFE(estimator=RandomForestClassifier(max_depth=20, random_state=12))</pre></div></div></div><div class=\"sk-parallel\"><div class=\"sk-parallel-item\"><div class=\"sk-item\"><div class=\"sk-label-container\"><div class=\"sk-label sk-toggleable\"><input class=\"sk-toggleable__control sk-hidden--visually\" id=\"sk-estimator-id-5\" type=\"checkbox\" ><label for=\"sk-estimator-id-5\" class=\"sk-toggleable__label sk-toggleable__label-arrow\">estimator: RandomForestClassifier</label><div class=\"sk-toggleable__content\"><pre>RandomForestClassifier(max_depth=20, random_state=12)</pre></div></div></div><div class=\"sk-serial\"><div class=\"sk-item\"><div class=\"sk-estimator sk-toggleable\"><input class=\"sk-toggleable__control sk-hidden--visually\" id=\"sk-estimator-id-6\" type=\"checkbox\" ><label for=\"sk-estimator-id-6\" class=\"sk-toggleable__label sk-toggleable__label-arrow\">RandomForestClassifier</label><div class=\"sk-toggleable__content\"><pre>RandomForestClassifier(max_depth=20, random_state=12)</pre></div></div></div></div></div></div></div></div></div></div>"
            ]
          },
          "metadata": {},
          "execution_count": 83
        }
      ]
    },
    {
      "cell_type": "markdown",
      "source": [
        "### Evaluationdu modele de foret aleatoire avec RFE"
      ],
      "metadata": {
        "id": "_arcm4X0RLNC"
      }
    },
    {
      "cell_type": "code",
      "source": [
        "from pandas.core.algorithms import mode\n",
        "model_evaluation(rfe_forest_model, X_val, y_val)"
      ],
      "metadata": {
        "colab": {
          "base_uri": "https://localhost:8080/"
        },
        "id": "G66m2RGCRFH7",
        "outputId": "a296c914-256f-4632-d3bf-be89c864eb68"
      },
      "execution_count": null,
      "outputs": [
        {
          "output_type": "stream",
          "name": "stdout",
          "text": [
            "              precision    recall  f1-score   support\n",
            "\n",
            "           0       0.77      0.86      0.81       120\n",
            "           1       0.67      0.53      0.59        64\n",
            "\n",
            "    accuracy                           0.74       184\n",
            "   macro avg       0.72      0.69      0.70       184\n",
            "weighted avg       0.74      0.74      0.74       184\n",
            "\n"
          ]
        }
      ]
    },
    {
      "cell_type": "markdown",
      "source": [
        "### Au vu de ces valeur, nous retiendrons le modele de foret aleatoire obtenu sans RFE"
      ],
      "metadata": {
        "id": "e4zGl1Y-SCUo"
      }
    },
    {
      "cell_type": "markdown",
      "source": [
        "### Classification Perceptron multicouche\n"
      ],
      "metadata": {
        "id": "wz6PQJcCSW-k"
      }
    },
    {
      "cell_type": "markdown",
      "source": [
        "### MLPClassifier"
      ],
      "metadata": {
        "id": "YGTkQhO4SzfO"
      }
    },
    {
      "cell_type": "code",
      "source": [
        "mlp = MLPClassifier(random_state=seed, max_iter=100)\n",
        "parameters = {'hidden_layer_sizes':[(50,), (100,), (200,)], 'activation':['identity', 'logistic', 'tanh', 'relu'], 'learning_rate':['constant', 'invscaling', 'adaptive']}\n",
        "mlp_cv = GridSearchCV(mlp, parameters, scoring='f1', cv=5, n_jobs=-1)\n",
        "mlp_cv.fit(train_features, train_labels)"
      ],
      "metadata": {
        "colab": {
          "base_uri": "https://localhost:8080/",
          "height": 173
        },
        "id": "hUJM11t_Rxi2",
        "outputId": "a5e07416-4ce3-4817-dd99-5c318f19cab5"
      },
      "execution_count": null,
      "outputs": [
        {
          "output_type": "stream",
          "name": "stderr",
          "text": [
            "/usr/local/lib/python3.10/dist-packages/sklearn/neural_network/_multilayer_perceptron.py:686: ConvergenceWarning: Stochastic Optimizer: Maximum iterations (100) reached and the optimization hasn't converged yet.\n",
            "  warnings.warn(\n"
          ]
        },
        {
          "output_type": "execute_result",
          "data": {
            "text/plain": [
              "GridSearchCV(cv=5, estimator=MLPClassifier(max_iter=100, random_state=12),\n",
              "             n_jobs=-1,\n",
              "             param_grid={'activation': ['identity', 'logistic', 'tanh', 'relu'],\n",
              "                         'hidden_layer_sizes': [(50,), (100,), (200,)],\n",
              "                         'learning_rate': ['constant', 'invscaling',\n",
              "                                           'adaptive']},\n",
              "             scoring='f1')"
            ],
            "text/html": [
              "<style>#sk-container-id-3 {color: black;background-color: white;}#sk-container-id-3 pre{padding: 0;}#sk-container-id-3 div.sk-toggleable {background-color: white;}#sk-container-id-3 label.sk-toggleable__label {cursor: pointer;display: block;width: 100%;margin-bottom: 0;padding: 0.3em;box-sizing: border-box;text-align: center;}#sk-container-id-3 label.sk-toggleable__label-arrow:before {content: \"▸\";float: left;margin-right: 0.25em;color: #696969;}#sk-container-id-3 label.sk-toggleable__label-arrow:hover:before {color: black;}#sk-container-id-3 div.sk-estimator:hover label.sk-toggleable__label-arrow:before {color: black;}#sk-container-id-3 div.sk-toggleable__content {max-height: 0;max-width: 0;overflow: hidden;text-align: left;background-color: #f0f8ff;}#sk-container-id-3 div.sk-toggleable__content pre {margin: 0.2em;color: black;border-radius: 0.25em;background-color: #f0f8ff;}#sk-container-id-3 input.sk-toggleable__control:checked~div.sk-toggleable__content {max-height: 200px;max-width: 100%;overflow: auto;}#sk-container-id-3 input.sk-toggleable__control:checked~label.sk-toggleable__label-arrow:before {content: \"▾\";}#sk-container-id-3 div.sk-estimator input.sk-toggleable__control:checked~label.sk-toggleable__label {background-color: #d4ebff;}#sk-container-id-3 div.sk-label input.sk-toggleable__control:checked~label.sk-toggleable__label {background-color: #d4ebff;}#sk-container-id-3 input.sk-hidden--visually {border: 0;clip: rect(1px 1px 1px 1px);clip: rect(1px, 1px, 1px, 1px);height: 1px;margin: -1px;overflow: hidden;padding: 0;position: absolute;width: 1px;}#sk-container-id-3 div.sk-estimator {font-family: monospace;background-color: #f0f8ff;border: 1px dotted black;border-radius: 0.25em;box-sizing: border-box;margin-bottom: 0.5em;}#sk-container-id-3 div.sk-estimator:hover {background-color: #d4ebff;}#sk-container-id-3 div.sk-parallel-item::after {content: \"\";width: 100%;border-bottom: 1px solid gray;flex-grow: 1;}#sk-container-id-3 div.sk-label:hover label.sk-toggleable__label {background-color: #d4ebff;}#sk-container-id-3 div.sk-serial::before {content: \"\";position: absolute;border-left: 1px solid gray;box-sizing: border-box;top: 0;bottom: 0;left: 50%;z-index: 0;}#sk-container-id-3 div.sk-serial {display: flex;flex-direction: column;align-items: center;background-color: white;padding-right: 0.2em;padding-left: 0.2em;position: relative;}#sk-container-id-3 div.sk-item {position: relative;z-index: 1;}#sk-container-id-3 div.sk-parallel {display: flex;align-items: stretch;justify-content: center;background-color: white;position: relative;}#sk-container-id-3 div.sk-item::before, #sk-container-id-3 div.sk-parallel-item::before {content: \"\";position: absolute;border-left: 1px solid gray;box-sizing: border-box;top: 0;bottom: 0;left: 50%;z-index: -1;}#sk-container-id-3 div.sk-parallel-item {display: flex;flex-direction: column;z-index: 1;position: relative;background-color: white;}#sk-container-id-3 div.sk-parallel-item:first-child::after {align-self: flex-end;width: 50%;}#sk-container-id-3 div.sk-parallel-item:last-child::after {align-self: flex-start;width: 50%;}#sk-container-id-3 div.sk-parallel-item:only-child::after {width: 0;}#sk-container-id-3 div.sk-dashed-wrapped {border: 1px dashed gray;margin: 0 0.4em 0.5em 0.4em;box-sizing: border-box;padding-bottom: 0.4em;background-color: white;}#sk-container-id-3 div.sk-label label {font-family: monospace;font-weight: bold;display: inline-block;line-height: 1.2em;}#sk-container-id-3 div.sk-label-container {text-align: center;}#sk-container-id-3 div.sk-container {/* jupyter's `normalize.less` sets `[hidden] { display: none; }` but bootstrap.min.css set `[hidden] { display: none !important; }` so we also need the `!important` here to be able to override the default hidden behavior on the sphinx rendered scikit-learn.org. See: https://github.com/scikit-learn/scikit-learn/issues/21755 */display: inline-block !important;position: relative;}#sk-container-id-3 div.sk-text-repr-fallback {display: none;}</style><div id=\"sk-container-id-3\" class=\"sk-top-container\"><div class=\"sk-text-repr-fallback\"><pre>GridSearchCV(cv=5, estimator=MLPClassifier(max_iter=100, random_state=12),\n",
              "             n_jobs=-1,\n",
              "             param_grid={&#x27;activation&#x27;: [&#x27;identity&#x27;, &#x27;logistic&#x27;, &#x27;tanh&#x27;, &#x27;relu&#x27;],\n",
              "                         &#x27;hidden_layer_sizes&#x27;: [(50,), (100,), (200,)],\n",
              "                         &#x27;learning_rate&#x27;: [&#x27;constant&#x27;, &#x27;invscaling&#x27;,\n",
              "                                           &#x27;adaptive&#x27;]},\n",
              "             scoring=&#x27;f1&#x27;)</pre><b>In a Jupyter environment, please rerun this cell to show the HTML representation or trust the notebook. <br />On GitHub, the HTML representation is unable to render, please try loading this page with nbviewer.org.</b></div><div class=\"sk-container\" hidden><div class=\"sk-item sk-dashed-wrapped\"><div class=\"sk-label-container\"><div class=\"sk-label sk-toggleable\"><input class=\"sk-toggleable__control sk-hidden--visually\" id=\"sk-estimator-id-7\" type=\"checkbox\" ><label for=\"sk-estimator-id-7\" class=\"sk-toggleable__label sk-toggleable__label-arrow\">GridSearchCV</label><div class=\"sk-toggleable__content\"><pre>GridSearchCV(cv=5, estimator=MLPClassifier(max_iter=100, random_state=12),\n",
              "             n_jobs=-1,\n",
              "             param_grid={&#x27;activation&#x27;: [&#x27;identity&#x27;, &#x27;logistic&#x27;, &#x27;tanh&#x27;, &#x27;relu&#x27;],\n",
              "                         &#x27;hidden_layer_sizes&#x27;: [(50,), (100,), (200,)],\n",
              "                         &#x27;learning_rate&#x27;: [&#x27;constant&#x27;, &#x27;invscaling&#x27;,\n",
              "                                           &#x27;adaptive&#x27;]},\n",
              "             scoring=&#x27;f1&#x27;)</pre></div></div></div><div class=\"sk-parallel\"><div class=\"sk-parallel-item\"><div class=\"sk-item\"><div class=\"sk-label-container\"><div class=\"sk-label sk-toggleable\"><input class=\"sk-toggleable__control sk-hidden--visually\" id=\"sk-estimator-id-8\" type=\"checkbox\" ><label for=\"sk-estimator-id-8\" class=\"sk-toggleable__label sk-toggleable__label-arrow\">estimator: MLPClassifier</label><div class=\"sk-toggleable__content\"><pre>MLPClassifier(max_iter=100, random_state=12)</pre></div></div></div><div class=\"sk-serial\"><div class=\"sk-item\"><div class=\"sk-estimator sk-toggleable\"><input class=\"sk-toggleable__control sk-hidden--visually\" id=\"sk-estimator-id-9\" type=\"checkbox\" ><label for=\"sk-estimator-id-9\" class=\"sk-toggleable__label sk-toggleable__label-arrow\">MLPClassifier</label><div class=\"sk-toggleable__content\"><pre>MLPClassifier(max_iter=100, random_state=12)</pre></div></div></div></div></div></div></div></div></div></div>"
            ]
          },
          "metadata": {},
          "execution_count": 85
        }
      ]
    },
    {
      "cell_type": "markdown",
      "source": [
        "### Meilleur score et meilleur hyperparametre"
      ],
      "metadata": {
        "id": "tjm1ViIIVW93"
      }
    },
    {
      "cell_type": "code",
      "source": [
        "round(mlp_cv.best_score_, 3)"
      ],
      "metadata": {
        "colab": {
          "base_uri": "https://localhost:8080/"
        },
        "id": "TxjTB5E4VTB2",
        "outputId": "985d76fe-877a-4686-e53b-aebf7994e00c"
      },
      "execution_count": null,
      "outputs": [
        {
          "output_type": "execute_result",
          "data": {
            "text/plain": [
              "0.734"
            ]
          },
          "metadata": {},
          "execution_count": 86
        }
      ]
    },
    {
      "cell_type": "code",
      "source": [
        "mlp_cv.best_estimator_"
      ],
      "metadata": {
        "colab": {
          "base_uri": "https://localhost:8080/",
          "height": 75
        },
        "id": "zGlHFelSVyNA",
        "outputId": "7833876f-72eb-4b25-9d79-1acabdf7081a"
      },
      "execution_count": null,
      "outputs": [
        {
          "output_type": "execute_result",
          "data": {
            "text/plain": [
              "MLPClassifier(hidden_layer_sizes=(200,), max_iter=100, random_state=12)"
            ],
            "text/html": [
              "<style>#sk-container-id-4 {color: black;background-color: white;}#sk-container-id-4 pre{padding: 0;}#sk-container-id-4 div.sk-toggleable {background-color: white;}#sk-container-id-4 label.sk-toggleable__label {cursor: pointer;display: block;width: 100%;margin-bottom: 0;padding: 0.3em;box-sizing: border-box;text-align: center;}#sk-container-id-4 label.sk-toggleable__label-arrow:before {content: \"▸\";float: left;margin-right: 0.25em;color: #696969;}#sk-container-id-4 label.sk-toggleable__label-arrow:hover:before {color: black;}#sk-container-id-4 div.sk-estimator:hover label.sk-toggleable__label-arrow:before {color: black;}#sk-container-id-4 div.sk-toggleable__content {max-height: 0;max-width: 0;overflow: hidden;text-align: left;background-color: #f0f8ff;}#sk-container-id-4 div.sk-toggleable__content pre {margin: 0.2em;color: black;border-radius: 0.25em;background-color: #f0f8ff;}#sk-container-id-4 input.sk-toggleable__control:checked~div.sk-toggleable__content {max-height: 200px;max-width: 100%;overflow: auto;}#sk-container-id-4 input.sk-toggleable__control:checked~label.sk-toggleable__label-arrow:before {content: \"▾\";}#sk-container-id-4 div.sk-estimator input.sk-toggleable__control:checked~label.sk-toggleable__label {background-color: #d4ebff;}#sk-container-id-4 div.sk-label input.sk-toggleable__control:checked~label.sk-toggleable__label {background-color: #d4ebff;}#sk-container-id-4 input.sk-hidden--visually {border: 0;clip: rect(1px 1px 1px 1px);clip: rect(1px, 1px, 1px, 1px);height: 1px;margin: -1px;overflow: hidden;padding: 0;position: absolute;width: 1px;}#sk-container-id-4 div.sk-estimator {font-family: monospace;background-color: #f0f8ff;border: 1px dotted black;border-radius: 0.25em;box-sizing: border-box;margin-bottom: 0.5em;}#sk-container-id-4 div.sk-estimator:hover {background-color: #d4ebff;}#sk-container-id-4 div.sk-parallel-item::after {content: \"\";width: 100%;border-bottom: 1px solid gray;flex-grow: 1;}#sk-container-id-4 div.sk-label:hover label.sk-toggleable__label {background-color: #d4ebff;}#sk-container-id-4 div.sk-serial::before {content: \"\";position: absolute;border-left: 1px solid gray;box-sizing: border-box;top: 0;bottom: 0;left: 50%;z-index: 0;}#sk-container-id-4 div.sk-serial {display: flex;flex-direction: column;align-items: center;background-color: white;padding-right: 0.2em;padding-left: 0.2em;position: relative;}#sk-container-id-4 div.sk-item {position: relative;z-index: 1;}#sk-container-id-4 div.sk-parallel {display: flex;align-items: stretch;justify-content: center;background-color: white;position: relative;}#sk-container-id-4 div.sk-item::before, #sk-container-id-4 div.sk-parallel-item::before {content: \"\";position: absolute;border-left: 1px solid gray;box-sizing: border-box;top: 0;bottom: 0;left: 50%;z-index: -1;}#sk-container-id-4 div.sk-parallel-item {display: flex;flex-direction: column;z-index: 1;position: relative;background-color: white;}#sk-container-id-4 div.sk-parallel-item:first-child::after {align-self: flex-end;width: 50%;}#sk-container-id-4 div.sk-parallel-item:last-child::after {align-self: flex-start;width: 50%;}#sk-container-id-4 div.sk-parallel-item:only-child::after {width: 0;}#sk-container-id-4 div.sk-dashed-wrapped {border: 1px dashed gray;margin: 0 0.4em 0.5em 0.4em;box-sizing: border-box;padding-bottom: 0.4em;background-color: white;}#sk-container-id-4 div.sk-label label {font-family: monospace;font-weight: bold;display: inline-block;line-height: 1.2em;}#sk-container-id-4 div.sk-label-container {text-align: center;}#sk-container-id-4 div.sk-container {/* jupyter's `normalize.less` sets `[hidden] { display: none; }` but bootstrap.min.css set `[hidden] { display: none !important; }` so we also need the `!important` here to be able to override the default hidden behavior on the sphinx rendered scikit-learn.org. See: https://github.com/scikit-learn/scikit-learn/issues/21755 */display: inline-block !important;position: relative;}#sk-container-id-4 div.sk-text-repr-fallback {display: none;}</style><div id=\"sk-container-id-4\" class=\"sk-top-container\"><div class=\"sk-text-repr-fallback\"><pre>MLPClassifier(hidden_layer_sizes=(200,), max_iter=100, random_state=12)</pre><b>In a Jupyter environment, please rerun this cell to show the HTML representation or trust the notebook. <br />On GitHub, the HTML representation is unable to render, please try loading this page with nbviewer.org.</b></div><div class=\"sk-container\" hidden><div class=\"sk-item\"><div class=\"sk-estimator sk-toggleable\"><input class=\"sk-toggleable__control sk-hidden--visually\" id=\"sk-estimator-id-10\" type=\"checkbox\" checked><label for=\"sk-estimator-id-10\" class=\"sk-toggleable__label sk-toggleable__label-arrow\">MLPClassifier</label><div class=\"sk-toggleable__content\"><pre>MLPClassifier(hidden_layer_sizes=(200,), max_iter=100, random_state=12)</pre></div></div></div></div></div>"
            ]
          },
          "metadata": {},
          "execution_count": 87
        }
      ]
    },
    {
      "cell_type": "markdown",
      "source": [
        "### Evaluation du modele Perceptron"
      ],
      "metadata": {
        "id": "Qq2ZlIXtWYQs"
      }
    },
    {
      "cell_type": "code",
      "source": [
        "model_evaluation(mlp_cv.best_estimator_, X_val, y_val)"
      ],
      "metadata": {
        "colab": {
          "base_uri": "https://localhost:8080/"
        },
        "id": "sZGRJRSkV73A",
        "outputId": "9042b4db-494a-4584-ff14-768374a7f985"
      },
      "execution_count": null,
      "outputs": [
        {
          "output_type": "stream",
          "name": "stdout",
          "text": [
            "              precision    recall  f1-score   support\n",
            "\n",
            "           0       0.88      0.76      0.82       120\n",
            "           1       0.64      0.81      0.72        64\n",
            "\n",
            "    accuracy                           0.78       184\n",
            "   macro avg       0.76      0.79      0.77       184\n",
            "weighted avg       0.80      0.78      0.78       184\n",
            "\n"
          ]
        }
      ]
    },
    {
      "cell_type": "markdown",
      "source": [
        "### Passons maintenant a un modele SVM(Support Vector Machine)"
      ],
      "metadata": {
        "id": "AAriPVJCW2Qz"
      }
    },
    {
      "cell_type": "markdown",
      "source": [
        "# Support Vector Machine"
      ],
      "metadata": {
        "id": "5REvHD7kXLa_"
      }
    },
    {
      "cell_type": "markdown",
      "source": [
        "## Support Vector Machine : Classifieur qui trouve l'hyperplan optimal qui maximise la frontiere entre 2 classes"
      ],
      "metadata": {
        "id": "nFcpbvhKXTix"
      }
    },
    {
      "cell_type": "code",
      "source": [
        "svm_model = SVC(random_state=seed)\n",
        "\n",
        "svm_hyp = {'kernel':['linear', 'rbf'], 'C':[0.1, 1.0, 10, 50, 100]}\n",
        "\n",
        "svm_cv = GridSearchCV(svm_model, svm_hyp, scoring='f1', cv=5)\n",
        "\n",
        "svm_cv.fit(train_features, train_labels)\n",
        "\n",
        "print(round(svm_cv.best_score_, 3))\n",
        "\n",
        "print(svm_cv.best_estimator_)"
      ],
      "metadata": {
        "colab": {
          "base_uri": "https://localhost:8080/"
        },
        "id": "DLBnSxdMXR-X",
        "outputId": "409a4000-4567-48c0-c82f-e4c2b3479d52"
      },
      "execution_count": null,
      "outputs": [
        {
          "output_type": "stream",
          "name": "stdout",
          "text": [
            "0.804\n",
            "SVC(C=100, random_state=12)\n"
          ]
        }
      ]
    },
    {
      "cell_type": "markdown",
      "source": [
        "### Evaluation du model SVM"
      ],
      "metadata": {
        "id": "LT6lI51EZ4sz"
      }
    },
    {
      "cell_type": "code",
      "source": [
        "model_evaluation(svm_cv.best_estimator_, X_val, y_val)"
      ],
      "metadata": {
        "colab": {
          "base_uri": "https://localhost:8080/"
        },
        "id": "iciDb_aQWwoe",
        "outputId": "f15f0954-2504-40af-d446-6b46f33ef258"
      },
      "execution_count": null,
      "outputs": [
        {
          "output_type": "stream",
          "name": "stdout",
          "text": [
            "              precision    recall  f1-score   support\n",
            "\n",
            "           0       0.78      0.78      0.78       120\n",
            "           1       0.59      0.59      0.59        64\n",
            "\n",
            "    accuracy                           0.72       184\n",
            "   macro avg       0.69      0.69      0.69       184\n",
            "weighted avg       0.72      0.72      0.72       184\n",
            "\n"
          ]
        }
      ]
    },
    {
      "cell_type": "markdown",
      "source": [
        "K-Nearest Neighbors"
      ],
      "metadata": {
        "id": "GVtxuuxyAbKx"
      }
    },
    {
      "cell_type": "code",
      "source": [
        "from sklearn.neighbors import KNeighborsClassifier"
      ],
      "metadata": {
        "id": "f4pnSfZzBPgg"
      },
      "execution_count": null,
      "outputs": []
    },
    {
      "cell_type": "code",
      "source": [
        "model = KNeighborsClassifier(n_neighbors=6)\n",
        "model.fit(train_features, train_labels)\n",
        "print('Train score', model.score(train_features, train_labels))\n",
        "print('Test score', model.score(X_test, y_test))"
      ],
      "metadata": {
        "colab": {
          "base_uri": "https://localhost:8080/"
        },
        "id": "l1wo8o3QJpbz",
        "outputId": "e999794d-3409-4658-9337-f009349d3b99"
      },
      "execution_count": null,
      "outputs": [
        {
          "output_type": "stream",
          "name": "stdout",
          "text": [
            "Train score 0.802675585284281\n",
            "Test score 0.7016129032258065\n"
          ]
        }
      ]
    },
    {
      "cell_type": "code",
      "source": [
        "from sklearn.model_selection import GridSearchCV"
      ],
      "metadata": {
        "id": "8wAbp82KJpe0"
      },
      "execution_count": null,
      "outputs": []
    },
    {
      "cell_type": "code",
      "source": [
        "param_grid = {'n_neighbors': np.arange(1, 20), 'metric': ['euclidean', 'manhattan']}\n",
        "grid = GridSearchCV(KNeighborsClassifier(), param_grid, cv=5)\n",
        "grid.fit(train_features, train_labels)"
      ],
      "metadata": {
        "colab": {
          "base_uri": "https://localhost:8080/",
          "height": 118
        },
        "id": "YLyjnXV3J7oN",
        "outputId": "5a6f1be2-c61a-45b7-fc82-70b9c93528eb"
      },
      "execution_count": null,
      "outputs": [
        {
          "output_type": "execute_result",
          "data": {
            "text/plain": [
              "GridSearchCV(cv=5, estimator=KNeighborsClassifier(),\n",
              "             param_grid={'metric': ['euclidean', 'manhattan'],\n",
              "                         'n_neighbors': array([ 1,  2,  3,  4,  5,  6,  7,  8,  9, 10, 11, 12, 13, 14, 15, 16, 17,\n",
              "       18, 19])})"
            ],
            "text/html": [
              "<style>#sk-container-id-5 {color: black;background-color: white;}#sk-container-id-5 pre{padding: 0;}#sk-container-id-5 div.sk-toggleable {background-color: white;}#sk-container-id-5 label.sk-toggleable__label {cursor: pointer;display: block;width: 100%;margin-bottom: 0;padding: 0.3em;box-sizing: border-box;text-align: center;}#sk-container-id-5 label.sk-toggleable__label-arrow:before {content: \"▸\";float: left;margin-right: 0.25em;color: #696969;}#sk-container-id-5 label.sk-toggleable__label-arrow:hover:before {color: black;}#sk-container-id-5 div.sk-estimator:hover label.sk-toggleable__label-arrow:before {color: black;}#sk-container-id-5 div.sk-toggleable__content {max-height: 0;max-width: 0;overflow: hidden;text-align: left;background-color: #f0f8ff;}#sk-container-id-5 div.sk-toggleable__content pre {margin: 0.2em;color: black;border-radius: 0.25em;background-color: #f0f8ff;}#sk-container-id-5 input.sk-toggleable__control:checked~div.sk-toggleable__content {max-height: 200px;max-width: 100%;overflow: auto;}#sk-container-id-5 input.sk-toggleable__control:checked~label.sk-toggleable__label-arrow:before {content: \"▾\";}#sk-container-id-5 div.sk-estimator input.sk-toggleable__control:checked~label.sk-toggleable__label {background-color: #d4ebff;}#sk-container-id-5 div.sk-label input.sk-toggleable__control:checked~label.sk-toggleable__label {background-color: #d4ebff;}#sk-container-id-5 input.sk-hidden--visually {border: 0;clip: rect(1px 1px 1px 1px);clip: rect(1px, 1px, 1px, 1px);height: 1px;margin: -1px;overflow: hidden;padding: 0;position: absolute;width: 1px;}#sk-container-id-5 div.sk-estimator {font-family: monospace;background-color: #f0f8ff;border: 1px dotted black;border-radius: 0.25em;box-sizing: border-box;margin-bottom: 0.5em;}#sk-container-id-5 div.sk-estimator:hover {background-color: #d4ebff;}#sk-container-id-5 div.sk-parallel-item::after {content: \"\";width: 100%;border-bottom: 1px solid gray;flex-grow: 1;}#sk-container-id-5 div.sk-label:hover label.sk-toggleable__label {background-color: #d4ebff;}#sk-container-id-5 div.sk-serial::before {content: \"\";position: absolute;border-left: 1px solid gray;box-sizing: border-box;top: 0;bottom: 0;left: 50%;z-index: 0;}#sk-container-id-5 div.sk-serial {display: flex;flex-direction: column;align-items: center;background-color: white;padding-right: 0.2em;padding-left: 0.2em;position: relative;}#sk-container-id-5 div.sk-item {position: relative;z-index: 1;}#sk-container-id-5 div.sk-parallel {display: flex;align-items: stretch;justify-content: center;background-color: white;position: relative;}#sk-container-id-5 div.sk-item::before, #sk-container-id-5 div.sk-parallel-item::before {content: \"\";position: absolute;border-left: 1px solid gray;box-sizing: border-box;top: 0;bottom: 0;left: 50%;z-index: -1;}#sk-container-id-5 div.sk-parallel-item {display: flex;flex-direction: column;z-index: 1;position: relative;background-color: white;}#sk-container-id-5 div.sk-parallel-item:first-child::after {align-self: flex-end;width: 50%;}#sk-container-id-5 div.sk-parallel-item:last-child::after {align-self: flex-start;width: 50%;}#sk-container-id-5 div.sk-parallel-item:only-child::after {width: 0;}#sk-container-id-5 div.sk-dashed-wrapped {border: 1px dashed gray;margin: 0 0.4em 0.5em 0.4em;box-sizing: border-box;padding-bottom: 0.4em;background-color: white;}#sk-container-id-5 div.sk-label label {font-family: monospace;font-weight: bold;display: inline-block;line-height: 1.2em;}#sk-container-id-5 div.sk-label-container {text-align: center;}#sk-container-id-5 div.sk-container {/* jupyter's `normalize.less` sets `[hidden] { display: none; }` but bootstrap.min.css set `[hidden] { display: none !important; }` so we also need the `!important` here to be able to override the default hidden behavior on the sphinx rendered scikit-learn.org. See: https://github.com/scikit-learn/scikit-learn/issues/21755 */display: inline-block !important;position: relative;}#sk-container-id-5 div.sk-text-repr-fallback {display: none;}</style><div id=\"sk-container-id-5\" class=\"sk-top-container\"><div class=\"sk-text-repr-fallback\"><pre>GridSearchCV(cv=5, estimator=KNeighborsClassifier(),\n",
              "             param_grid={&#x27;metric&#x27;: [&#x27;euclidean&#x27;, &#x27;manhattan&#x27;],\n",
              "                         &#x27;n_neighbors&#x27;: array([ 1,  2,  3,  4,  5,  6,  7,  8,  9, 10, 11, 12, 13, 14, 15, 16, 17,\n",
              "       18, 19])})</pre><b>In a Jupyter environment, please rerun this cell to show the HTML representation or trust the notebook. <br />On GitHub, the HTML representation is unable to render, please try loading this page with nbviewer.org.</b></div><div class=\"sk-container\" hidden><div class=\"sk-item sk-dashed-wrapped\"><div class=\"sk-label-container\"><div class=\"sk-label sk-toggleable\"><input class=\"sk-toggleable__control sk-hidden--visually\" id=\"sk-estimator-id-11\" type=\"checkbox\" ><label for=\"sk-estimator-id-11\" class=\"sk-toggleable__label sk-toggleable__label-arrow\">GridSearchCV</label><div class=\"sk-toggleable__content\"><pre>GridSearchCV(cv=5, estimator=KNeighborsClassifier(),\n",
              "             param_grid={&#x27;metric&#x27;: [&#x27;euclidean&#x27;, &#x27;manhattan&#x27;],\n",
              "                         &#x27;n_neighbors&#x27;: array([ 1,  2,  3,  4,  5,  6,  7,  8,  9, 10, 11, 12, 13, 14, 15, 16, 17,\n",
              "       18, 19])})</pre></div></div></div><div class=\"sk-parallel\"><div class=\"sk-parallel-item\"><div class=\"sk-item\"><div class=\"sk-label-container\"><div class=\"sk-label sk-toggleable\"><input class=\"sk-toggleable__control sk-hidden--visually\" id=\"sk-estimator-id-12\" type=\"checkbox\" ><label for=\"sk-estimator-id-12\" class=\"sk-toggleable__label sk-toggleable__label-arrow\">estimator: KNeighborsClassifier</label><div class=\"sk-toggleable__content\"><pre>KNeighborsClassifier()</pre></div></div></div><div class=\"sk-serial\"><div class=\"sk-item\"><div class=\"sk-estimator sk-toggleable\"><input class=\"sk-toggleable__control sk-hidden--visually\" id=\"sk-estimator-id-13\" type=\"checkbox\" ><label for=\"sk-estimator-id-13\" class=\"sk-toggleable__label sk-toggleable__label-arrow\">KNeighborsClassifier</label><div class=\"sk-toggleable__content\"><pre>KNeighborsClassifier()</pre></div></div></div></div></div></div></div></div></div></div>"
            ]
          },
          "metadata": {},
          "execution_count": 94
        }
      ]
    },
    {
      "cell_type": "code",
      "source": [
        "grid.best_params_"
      ],
      "metadata": {
        "colab": {
          "base_uri": "https://localhost:8080/"
        },
        "id": "lrpxVCr3KEWg",
        "outputId": "4866ef01-f0b1-44ff-837e-473419d5510f"
      },
      "execution_count": null,
      "outputs": [
        {
          "output_type": "execute_result",
          "data": {
            "text/plain": [
              "{'metric': 'euclidean', 'n_neighbors': 1}"
            ]
          },
          "metadata": {},
          "execution_count": 95
        }
      ]
    },
    {
      "cell_type": "code",
      "source": [
        "model = grid.best_estimator_"
      ],
      "metadata": {
        "id": "201lajpfKEZZ"
      },
      "execution_count": null,
      "outputs": []
    },
    {
      "cell_type": "code",
      "source": [
        "model.score(X_test, y_test)"
      ],
      "metadata": {
        "colab": {
          "base_uri": "https://localhost:8080/"
        },
        "id": "EY0LjjI2KNOj",
        "outputId": "594346cd-e65b-4336-916b-b0a9f36eb304"
      },
      "execution_count": null,
      "outputs": [
        {
          "output_type": "execute_result",
          "data": {
            "text/plain": [
              "0.6451612903225806"
            ]
          },
          "metadata": {},
          "execution_count": 97
        }
      ]
    },
    {
      "cell_type": "code",
      "source": [
        "from sklearn.metrics import confusion_matrix"
      ],
      "metadata": {
        "id": "skBclLRZKrDz"
      },
      "execution_count": null,
      "outputs": []
    },
    {
      "cell_type": "code",
      "source": [
        "confusion_matrix(y_test, model.predict(X_test))"
      ],
      "metadata": {
        "colab": {
          "base_uri": "https://localhost:8080/"
        },
        "id": "fXS64CTnKy4b",
        "outputId": "4b759255-e35e-49dc-98c9-bb72f9833483"
      },
      "execution_count": null,
      "outputs": [
        {
          "output_type": "execute_result",
          "data": {
            "text/plain": [
              "array([[64, 17],\n",
              "       [27, 16]])"
            ]
          },
          "metadata": {},
          "execution_count": 99
        }
      ]
    },
    {
      "cell_type": "markdown",
      "source": [
        "# Conclusion"
      ],
      "metadata": {
        "id": "gl1bPjYXa8o0"
      }
    },
    {
      "cell_type": "code",
      "source": [
        "model_evaluation(logreg_model.best_estimator_, X_val, y_val)"
      ],
      "metadata": {
        "colab": {
          "base_uri": "https://localhost:8080/"
        },
        "id": "KVbP0aPDbgLg",
        "outputId": "d0e3cee1-4336-46ee-bd93-d8da7d5f3f90"
      },
      "execution_count": null,
      "outputs": [
        {
          "output_type": "stream",
          "name": "stdout",
          "text": [
            "              precision    recall  f1-score   support\n",
            "\n",
            "           0       0.87      0.78      0.82       120\n",
            "           1       0.66      0.78      0.71        64\n",
            "\n",
            "    accuracy                           0.78       184\n",
            "   macro avg       0.76      0.78      0.77       184\n",
            "weighted avg       0.80      0.78      0.79       184\n",
            "\n"
          ]
        }
      ]
    },
    {
      "cell_type": "code",
      "source": [
        "model_evaluation(logreg_model.best_estimator_, X_test, y_test)"
      ],
      "metadata": {
        "colab": {
          "base_uri": "https://localhost:8080/"
        },
        "id": "-ldJ4Q7jaeaV",
        "outputId": "4b83a39e-4a28-422e-80be-3d6763955e15"
      },
      "execution_count": null,
      "outputs": [
        {
          "output_type": "stream",
          "name": "stdout",
          "text": [
            "              precision    recall  f1-score   support\n",
            "\n",
            "           0       0.85      0.78      0.81        81\n",
            "           1       0.64      0.74      0.69        43\n",
            "\n",
            "    accuracy                           0.77       124\n",
            "   macro avg       0.75      0.76      0.75       124\n",
            "weighted avg       0.78      0.77      0.77       124\n",
            "\n"
          ]
        }
      ]
    },
    {
      "cell_type": "code",
      "source": [],
      "metadata": {
        "id": "rZ1LzhcIbS56"
      },
      "execution_count": null,
      "outputs": []
    }
  ]
}